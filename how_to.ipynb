{
 "cells": [
  {
   "attachments": {},
   "cell_type": "markdown",
   "metadata": {},
   "source": [
    "# Neighborly Functions App - Cloud Developer With MS Azure - Udacity Project II"
   ]
  },
  {
   "attachments": {},
   "cell_type": "markdown",
   "metadata": {},
   "source": [
    "## 1. Add configuration"
   ]
  },
  {
   "cell_type": "code",
   "execution_count": 105,
   "metadata": {},
   "outputs": [],
   "source": [
    "import configparser"
   ]
  },
  {
   "cell_type": "code",
   "execution_count": 106,
   "metadata": {},
   "outputs": [],
   "source": [
    "config = configparser.ConfigParser()\n",
    "config.read_file(open('azure.cfg'))\n",
    "\n",
    "RESOURCE_GROUP                          = config.get('RESOURCE','RESOURCE_GROUP')\n",
    "LOCATION                                = config.get('RESOURCE','LOCATION')\n",
    "COSMOSDB_ACCOUNT_NAME                   = config.get(\"DATABASE\",\"COSMOSDB_ACCOUNT_NAME\")\n",
    "COSMOSDB_KIND                           = config.get(\"DATABASE\",\"COSMOSDB_KIND\")\n",
    "COSMOSDB_SERVER_VERSION                 = config.get(\"DATABASE\",\"COSMOSDB_SERVER_VERSION\")\n",
    "COSMOSDB_DEFAULT_CONSISTENCY_LEVEL      = config.get(\"DATABASE\",\"COSMOSDB_DEFAULT_CONSISTENCY_LEVEL\")\n",
    "COSMOSDB_ENABLE_AUTOMATIC_FAILOVER      = config.get(\"DATABASE\",\"COSMOSDB_ENABLE_AUTOMATIC_FAILOVER\")\n",
    "COSMOSDB_DATBASE_NAME                   = config.get(\"DATABASE\",\"COSMOSDB_DATABASE_NAME\")\n",
    "STORAGE_ACCOUNT_NAME                    = config.get(\"STORAGE\",\"STORAGE_ACCOUNT_NAME\")\n",
    "STORAGE_SKU                             = config.get(\"STORAGE\",\"STORAGE_SKU\")\n",
    "APP_NAME                                = config.get(\"APP\",\"APP_NAME\")\n",
    "APP_SERVICE_PLAN_NAME                   = config.get(\"APP\",\"APP_SERVICE_PLAN_NAME\")\n",
    "APP_SKU                                 = config.get(\"APP\",\"APP_SKU\")\n",
    "APP_RUNTIME                             = config.get(\"APP\",\"APP_RUNTIME\")\n",
    "FUNCTION_NAME                           = config.get(\"FUNCTION\",\"FUNCTION_NAME\")\n",
    "FUNCTION_VERSION                        = config.get(\"FUNCTION\",\"FUNCTION_VERSION\")\n",
    "FUNCTION_OS_TYPE                        = config.get(\"FUNCTION\",\"FUNCTION_OS_TYPE\")\n",
    "FUNCTION_RUNTIME                        = config.get(\"FUNCTION\",\"FUNCTION_RUNTIME\")"
   ]
  },
  {
   "cell_type": "code",
   "execution_count": 107,
   "metadata": {},
   "outputs": [],
   "source": [
    "import os\n",
    "os.environ[\"RESOURCE_GROUP\"]                        = RESOURCE_GROUP\n",
    "os.environ[\"LOCATION\"]                              = LOCATION\n",
    "os.environ[\"COSMOSDB_ACCOUNT_NAME\"]                 = COSMOSDB_ACCOUNT_NAME\n",
    "os.environ[\"COSMOSDB_KIND\"]                         = COSMOSDB_KIND\n",
    "os.environ[\"COSMOSDB_SERVER_VERSION\"]               = COSMOSDB_SERVER_VERSION\n",
    "os.environ[\"COSMOSDB_DEFAULT_CONSISTENCY_LEVEL\"]    = COSMOSDB_DEFAULT_CONSISTENCY_LEVEL\n",
    "os.environ[\"COSMOSDB_ENABLE_AUTOMATIC_FAILOVER\"]    = COSMOSDB_ENABLE_AUTOMATIC_FAILOVER\n",
    "os.environ[\"COSMOSDB_DATBASE_NAME\"]                 = COSMOSDB_DATBASE_NAME\n",
    "os.environ[\"STORAGE_ACCOUNT_NAME\"]                  = STORAGE_ACCOUNT_NAME\n",
    "os.environ[\"STORAGE_SKU\"]                           = STORAGE_SKU\n",
    "os.environ[\"APP_NAME\"]                              = APP_NAME\n",
    "os.environ[\"APP_SERVICE_PLAN_NAME\"]                 = APP_SERVICE_PLAN_NAME\n",
    "os.environ[\"APP_SKU\"]                               = APP_SKU\n",
    "os.environ[\"APP_RUNTIME\"]                           = APP_RUNTIME\n",
    "os.environ[\"FUNCTION_NAME\"]                         = FUNCTION_NAME\n",
    "os.environ[\"FUNCTION_VERSION\"]                      = FUNCTION_VERSION\n",
    "os.environ[\"FUNCTION_OS_TYPE\"]                      = FUNCTION_OS_TYPE\n",
    "os.environ[\"FUNCTION_RUNTIME\"]                      = FUNCTION_RUNTIME"
   ]
  },
  {
   "attachments": {},
   "cell_type": "markdown",
   "metadata": {},
   "source": [
    "## 2. Create Resources"
   ]
  },
  {
   "attachments": {},
   "cell_type": "markdown",
   "metadata": {},
   "source": [
    "### 2.1. Login Azure CLI"
   ]
  },
  {
   "cell_type": "code",
   "execution_count": 108,
   "metadata": {},
   "outputs": [
    {
     "name": "stdout",
     "output_type": "stream",
     "text": [
      "\u001b[93mA web browser has been opened at https://login.microsoftonline.com/organizations/oauth2/v2.0/authorize. Please continue the login in the web browser. If no web browser is available or if the web browser fails to open, use device code flow with `az login --use-device-code`.\u001b[0m\n",
      "[\n",
      "  {\n",
      "    \"cloudName\": \"AzureCloud\",\n",
      "    \"homeTenantId\": \"f958e84a-92b8-439f-a62d-4f45996b6d07\",\n",
      "    \"id\": \"64e349c9-f058-4158-8065-3c0efb0b95eb\",\n",
      "    \"isDefault\": true,\n",
      "    \"managedByTenants\": [],\n",
      "    \"name\": \"UdacityDS - 30\",\n",
      "    \"state\": \"Enabled\",\n",
      "    \"tenantId\": \"f958e84a-92b8-439f-a62d-4f45996b6d07\",\n",
      "    \"user\": {\n",
      "      \"name\": \"odl_user_230487@udacityhol.onmicrosoft.com\",\n",
      "      \"type\": \"user\"\n",
      "    }\n",
      "  }\n",
      "]\n"
     ]
    }
   ],
   "source": [
    "! az login"
   ]
  },
  {
   "attachments": {},
   "cell_type": "markdown",
   "metadata": {},
   "source": [
    "### 2.2. Create Resource Group"
   ]
  },
  {
   "cell_type": "code",
   "execution_count": 109,
   "metadata": {},
   "outputs": [
    {
     "name": "stdout",
     "output_type": "stream",
     "text": [
      "{\n",
      "  \"id\": \"/subscriptions/64e349c9-f058-4158-8065-3c0efb0b95eb/resourceGroups/azure-dev-udacity-prj2\",\n",
      "  \"location\": \"southeastasia\",\n",
      "  \"managedBy\": null,\n",
      "  \"name\": \"azure-dev-udacity-prj2\",\n",
      "  \"properties\": {\n",
      "    \"provisioningState\": \"Succeeded\"\n",
      "  },\n",
      "  \"tags\": null,\n",
      "  \"type\": \"Microsoft.Resources/resourceGroups\"\n",
      "}\n"
     ]
    }
   ],
   "source": [
    "! az group create \\\n",
    "    --name {RESOURCE_GROUP} \\\n",
    "    --location {LOCATION}"
   ]
  },
  {
   "attachments": {},
   "cell_type": "markdown",
   "metadata": {},
   "source": [
    "### 2.3. Create Storage Account"
   ]
  },
  {
   "cell_type": "code",
   "execution_count": 110,
   "metadata": {},
   "outputs": [
    {
     "name": "stdout",
     "output_type": "stream",
     "text": [
      "\u001b[93mThe public access to all blobs or containers in the storage account will be disallowed by default in the future, which means default value for --allow-blob-public-access is still null but will be equivalent to false.\u001b[0m\n",
      "\u001b[K \\ Finished ..{\n",
      "  \"accessTier\": \"Hot\",\n",
      "  \"allowBlobPublicAccess\": true,\n",
      "  \"allowCrossTenantReplication\": null,\n",
      "  \"allowSharedKeyAccess\": null,\n",
      "  \"allowedCopyScope\": null,\n",
      "  \"azureFilesIdentityBasedAuthentication\": null,\n",
      "  \"blobRestoreStatus\": null,\n",
      "  \"creationTime\": \"2023-04-10T06:34:17.903935+00:00\",\n",
      "  \"customDomain\": null,\n",
      "  \"defaultToOAuthAuthentication\": null,\n",
      "  \"dnsEndpointType\": null,\n",
      "  \"enableHttpsTrafficOnly\": true,\n",
      "  \"enableNfsV3\": null,\n",
      "  \"encryption\": {\n",
      "    \"encryptionIdentity\": null,\n",
      "    \"keySource\": \"Microsoft.Storage\",\n",
      "    \"keyVaultProperties\": null,\n",
      "    \"requireInfrastructureEncryption\": null,\n",
      "    \"services\": {\n",
      "      \"blob\": {\n",
      "        \"enabled\": true,\n",
      "        \"keyType\": \"Account\",\n",
      "        \"lastEnabledTime\": \"2023-04-10T06:34:17.997659+00:00\"\n",
      "      },\n",
      "      \"file\": {\n",
      "        \"enabled\": true,\n",
      "        \"keyType\": \"Account\",\n",
      "        \"lastEnabledTime\": \"2023-04-10T06:34:17.997659+00:00\"\n",
      "      },\n",
      "      \"queue\": null,\n",
      "      \"table\": null\n",
      "    }\n",
      "  },\n",
      "  \"extendedLocation\": null,\n",
      "  \"failoverInProgress\": null,\n",
      "  \"geoReplicationStats\": null,\n",
      "  \"id\": \"/subscriptions/64e349c9-f058-4158-8065-3c0efb0b95eb/resourceGroups/azure-dev-udacity-prj2/providers/Microsoft.Storage/storageAccounts/congdinh2023prj2\",\n",
      "  \"identity\": null,\n",
      "  \"immutableStorageWithVersioning\": null,\n",
      "  \"isHnsEnabled\": null,\n",
      "  \"isLocalUserEnabled\": null,\n",
      "  \"isSftpEnabled\": null,\n",
      "  \"keyCreationTime\": {\n",
      "    \"key1\": \"2023-04-10T06:34:17.997659+00:00\",\n",
      "    \"key2\": \"2023-04-10T06:34:17.997659+00:00\"\n",
      "  },\n",
      "  \"keyPolicy\": null,\n",
      "  \"kind\": \"StorageV2\",\n",
      "  \"largeFileSharesState\": null,\n",
      "  \"lastGeoFailoverTime\": null,\n",
      "  \"location\": \"southeastasia\",\n",
      "  \"minimumTlsVersion\": \"TLS1_0\",\n",
      "  \"name\": \"congdinh2023prj2\",\n",
      "  \"networkRuleSet\": {\n",
      "    \"bypass\": \"AzureServices\",\n",
      "    \"defaultAction\": \"Allow\",\n",
      "    \"ipRules\": [],\n",
      "    \"resourceAccessRules\": null,\n",
      "    \"virtualNetworkRules\": []\n",
      "  },\n",
      "  \"primaryEndpoints\": {\n",
      "    \"blob\": \"https://congdinh2023prj2.blob.core.windows.net/\",\n",
      "    \"dfs\": \"https://congdinh2023prj2.dfs.core.windows.net/\",\n",
      "    \"file\": \"https://congdinh2023prj2.file.core.windows.net/\",\n",
      "    \"internetEndpoints\": null,\n",
      "    \"microsoftEndpoints\": null,\n",
      "    \"queue\": \"https://congdinh2023prj2.queue.core.windows.net/\",\n",
      "    \"table\": \"https://congdinh2023prj2.table.core.windows.net/\",\n",
      "    \"web\": \"https://congdinh2023prj2.z23.web.core.windows.net/\"\n",
      "  },\n",
      "  \"primaryLocation\": \"southeastasia\",\n",
      "  \"privateEndpointConnections\": [],\n",
      "  \"provisioningState\": \"Succeeded\",\n",
      "  \"publicNetworkAccess\": null,\n",
      "  \"resourceGroup\": \"azure-dev-udacity-prj2\",\n",
      "  \"routingPreference\": null,\n",
      "  \"sasPolicy\": null,\n",
      "  \"secondaryEndpoints\": null,\n",
      "  \"secondaryLocation\": null,\n",
      "  \"sku\": {\n",
      "    \"name\": \"Standard_LRS\",\n",
      "    \"tier\": \"Standard\"\n",
      "  },\n",
      "  \"statusOfPrimary\": \"available\",\n",
      "  \"statusOfSecondary\": null,\n",
      "  \"storageAccountSkuConversionStatus\": null,\n",
      "  \"tags\": {},\n",
      "  \"type\": \"Microsoft.Storage/storageAccounts\"\n",
      "}\n"
     ]
    }
   ],
   "source": [
    "! az storage account create \\\n",
    "    --name {STORAGE_ACCOUNT_NAME} \\\n",
    "    --resource-group {RESOURCE_GROUP} \\\n",
    "    --location {LOCATION} \\\n",
    "    --sku {STORAGE_SKU}"
   ]
  },
  {
   "attachments": {},
   "cell_type": "markdown",
   "metadata": {},
   "source": [
    "### 2.4. Create Function App"
   ]
  },
  {
   "cell_type": "code",
   "execution_count": 111,
   "metadata": {},
   "outputs": [
    {
     "name": "stdout",
     "output_type": "stream",
     "text": [
      "\u001b[K\u001b[93mYour Linux function app 'neighborly-function', that uses a consumption plan has been successfully created but is not active until content is published using Azure Portal or the Functions Core Tools.\u001b[0m\n",
      "\u001b[93mApplication Insights \"neighborly-function\" was created for this Function App. You can visit https://portal.azure.com/#resource/subscriptions/64e349c9-f058-4158-8065-3c0efb0b95eb/resourceGroups/azure-dev-udacity-prj2/providers/microsoft.insights/components/neighborly-function/overview to view your Application Insights component\u001b[0m\n",
      "{\n",
      "  \"availabilityState\": \"Normal\",\n",
      "  \"clientAffinityEnabled\": false,\n",
      "  \"clientCertEnabled\": false,\n",
      "  \"clientCertExclusionPaths\": null,\n",
      "  \"clientCertMode\": \"Required\",\n",
      "  \"cloningInfo\": null,\n",
      "  \"containerSize\": 0,\n",
      "  \"customDomainVerificationId\": \"69E70C078726BB30C6AE25CF9A652AABA8CF1911B1CB329D53C53535E2B9513B\",\n",
      "  \"dailyMemoryTimeQuota\": 0,\n",
      "  \"defaultHostName\": \"neighborly-function.azurewebsites.net\",\n",
      "  \"enabled\": true,\n",
      "  \"enabledHostNames\": [\n",
      "    \"neighborly-function.azurewebsites.net\",\n",
      "    \"neighborly-function.scm.azurewebsites.net\"\n",
      "  ],\n",
      "  \"extendedLocation\": null,\n",
      "  \"hostNameSslStates\": [\n",
      "    {\n",
      "      \"hostType\": \"Standard\",\n",
      "      \"ipBasedSslResult\": null,\n",
      "      \"ipBasedSslState\": \"NotConfigured\",\n",
      "      \"name\": \"neighborly-function.azurewebsites.net\",\n",
      "      \"sslState\": \"Disabled\",\n",
      "      \"thumbprint\": null,\n",
      "      \"toUpdate\": null,\n",
      "      \"toUpdateIpBasedSsl\": null,\n",
      "      \"virtualIp\": null\n",
      "    },\n",
      "    {\n",
      "      \"hostType\": \"Repository\",\n",
      "      \"ipBasedSslResult\": null,\n",
      "      \"ipBasedSslState\": \"NotConfigured\",\n",
      "      \"name\": \"neighborly-function.scm.azurewebsites.net\",\n",
      "      \"sslState\": \"Disabled\",\n",
      "      \"thumbprint\": null,\n",
      "      \"toUpdate\": null,\n",
      "      \"toUpdateIpBasedSsl\": null,\n",
      "      \"virtualIp\": null\n",
      "    }\n",
      "  ],\n",
      "  \"hostNames\": [\n",
      "    \"neighborly-function.azurewebsites.net\"\n",
      "  ],\n",
      "  \"hostNamesDisabled\": false,\n",
      "  \"hostingEnvironmentProfile\": null,\n",
      "  \"httpsOnly\": false,\n",
      "  \"hyperV\": false,\n",
      "  \"id\": \"/subscriptions/64e349c9-f058-4158-8065-3c0efb0b95eb/resourceGroups/azure-dev-udacity-prj2/providers/Microsoft.Web/sites/neighborly-function\",\n",
      "  \"identity\": null,\n",
      "  \"inProgressOperationId\": null,\n",
      "  \"isDefaultContainer\": null,\n",
      "  \"isXenon\": false,\n",
      "  \"keyVaultReferenceIdentity\": \"SystemAssigned\",\n",
      "  \"kind\": \"functionapp,linux\",\n",
      "  \"lastModifiedTimeUtc\": \"2023-04-10T06:35:05.910000\",\n",
      "  \"location\": \"southeastasia\",\n",
      "  \"maxNumberOfWorkers\": null,\n",
      "  \"name\": \"neighborly-function\",\n",
      "  \"outboundIpAddresses\": \"52.187.36.104,52.187.129.179,52.187.23.154,52.163.123.89,52.230.18.200\",\n",
      "  \"possibleOutboundIpAddresses\": \"52.187.36.104,52.187.129.179,52.187.23.154,52.163.123.89,52.230.18.200,20.184.9.149,20.191.136.243\",\n",
      "  \"publicNetworkAccess\": null,\n",
      "  \"redundancyMode\": \"None\",\n",
      "  \"repositorySiteName\": \"neighborly-function\",\n",
      "  \"reserved\": true,\n",
      "  \"resourceGroup\": \"azure-dev-udacity-prj2\",\n",
      "  \"scmSiteAlsoStopped\": false,\n",
      "  \"serverFarmId\": \"/subscriptions/64e349c9-f058-4158-8065-3c0efb0b95eb/resourceGroups/azure-dev-udacity-prj2/providers/Microsoft.Web/serverfarms/SoutheastAsiaLinuxDynamicPlan\",\n",
      "  \"siteConfig\": {\n",
      "    \"acrUseManagedIdentityCreds\": false,\n",
      "    \"acrUserManagedIdentityId\": null,\n",
      "    \"alwaysOn\": false,\n",
      "    \"antivirusScanEnabled\": null,\n",
      "    \"apiDefinition\": null,\n",
      "    \"apiManagementConfig\": null,\n",
      "    \"appCommandLine\": null,\n",
      "    \"appSettings\": null,\n",
      "    \"autoHealEnabled\": null,\n",
      "    \"autoHealRules\": null,\n",
      "    \"autoSwapSlotName\": null,\n",
      "    \"azureMonitorLogCategories\": null,\n",
      "    \"azureStorageAccounts\": null,\n",
      "    \"connectionStrings\": null,\n",
      "    \"cors\": null,\n",
      "    \"customAppPoolIdentityAdminState\": null,\n",
      "    \"customAppPoolIdentityTenantState\": null,\n",
      "    \"defaultDocuments\": null,\n",
      "    \"detailedErrorLoggingEnabled\": null,\n",
      "    \"documentRoot\": null,\n",
      "    \"elasticWebAppScaleLimit\": null,\n",
      "    \"experiments\": null,\n",
      "    \"fileChangeAuditEnabled\": null,\n",
      "    \"ftpsState\": null,\n",
      "    \"functionAppScaleLimit\": 0,\n",
      "    \"functionsRuntimeScaleMonitoringEnabled\": null,\n",
      "    \"handlerMappings\": null,\n",
      "    \"healthCheckPath\": null,\n",
      "    \"http20Enabled\": false,\n",
      "    \"http20ProxyFlag\": null,\n",
      "    \"httpLoggingEnabled\": null,\n",
      "    \"ipSecurityRestrictions\": [\n",
      "      {\n",
      "        \"action\": \"Allow\",\n",
      "        \"description\": \"Allow all access\",\n",
      "        \"headers\": null,\n",
      "        \"ipAddress\": \"Any\",\n",
      "        \"name\": \"Allow all\",\n",
      "        \"priority\": 2147483647,\n",
      "        \"subnetMask\": null,\n",
      "        \"subnetTrafficTag\": null,\n",
      "        \"tag\": null,\n",
      "        \"vnetSubnetResourceId\": null,\n",
      "        \"vnetTrafficTag\": null\n",
      "      }\n",
      "    ],\n",
      "    \"ipSecurityRestrictionsDefaultAction\": null,\n",
      "    \"javaContainer\": null,\n",
      "    \"javaContainerVersion\": null,\n",
      "    \"javaVersion\": null,\n",
      "    \"keyVaultReferenceIdentity\": null,\n",
      "    \"limits\": null,\n",
      "    \"linuxFxVersion\": \"\",\n",
      "    \"loadBalancing\": null,\n",
      "    \"localMySqlEnabled\": null,\n",
      "    \"logsDirectorySizeLimit\": null,\n",
      "    \"machineKey\": null,\n",
      "    \"managedPipelineMode\": null,\n",
      "    \"managedServiceIdentityId\": null,\n",
      "    \"metadata\": null,\n",
      "    \"minTlsCipherSuite\": null,\n",
      "    \"minTlsVersion\": null,\n",
      "    \"minimumElasticInstanceCount\": 0,\n",
      "    \"netFrameworkVersion\": null,\n",
      "    \"nodeVersion\": null,\n",
      "    \"numberOfWorkers\": 1,\n",
      "    \"phpVersion\": null,\n",
      "    \"powerShellVersion\": null,\n",
      "    \"preWarmedInstanceCount\": null,\n",
      "    \"publicNetworkAccess\": null,\n",
      "    \"publishingPassword\": null,\n",
      "    \"publishingUsername\": null,\n",
      "    \"push\": null,\n",
      "    \"pythonVersion\": null,\n",
      "    \"remoteDebuggingEnabled\": null,\n",
      "    \"remoteDebuggingVersion\": null,\n",
      "    \"requestTracingEnabled\": null,\n",
      "    \"requestTracingExpirationTime\": null,\n",
      "    \"routingRules\": null,\n",
      "    \"runtimeADUser\": null,\n",
      "    \"runtimeADUserPassword\": null,\n",
      "    \"scmIpSecurityRestrictions\": [\n",
      "      {\n",
      "        \"action\": \"Allow\",\n",
      "        \"description\": \"Allow all access\",\n",
      "        \"headers\": null,\n",
      "        \"ipAddress\": \"Any\",\n",
      "        \"name\": \"Allow all\",\n",
      "        \"priority\": 2147483647,\n",
      "        \"subnetMask\": null,\n",
      "        \"subnetTrafficTag\": null,\n",
      "        \"tag\": null,\n",
      "        \"vnetSubnetResourceId\": null,\n",
      "        \"vnetTrafficTag\": null\n",
      "      }\n",
      "    ],\n",
      "    \"scmIpSecurityRestrictionsDefaultAction\": null,\n",
      "    \"scmIpSecurityRestrictionsUseMain\": null,\n",
      "    \"scmMinTlsVersion\": null,\n",
      "    \"scmType\": null,\n",
      "    \"sitePort\": null,\n",
      "    \"storageType\": null,\n",
      "    \"supportedTlsCipherSuites\": null,\n",
      "    \"tracingOptions\": null,\n",
      "    \"use32BitWorkerProcess\": null,\n",
      "    \"virtualApplications\": null,\n",
      "    \"vnetName\": null,\n",
      "    \"vnetPrivatePortsCount\": null,\n",
      "    \"vnetRouteAllEnabled\": null,\n",
      "    \"webSocketsEnabled\": null,\n",
      "    \"websiteTimeZone\": null,\n",
      "    \"winAuthAdminState\": null,\n",
      "    \"winAuthTenantState\": null,\n",
      "    \"windowsConfiguredStacks\": null,\n",
      "    \"windowsFxVersion\": null,\n",
      "    \"xManagedServiceIdentityId\": null\n",
      "  },\n",
      "  \"slotSwapStatus\": null,\n",
      "  \"state\": \"Running\",\n",
      "  \"storageAccountRequired\": false,\n",
      "  \"suspendedTill\": null,\n",
      "  \"tags\": null,\n",
      "  \"targetSwapSlot\": null,\n",
      "  \"trafficManagerHostNames\": null,\n",
      "  \"type\": \"Microsoft.Web/sites\",\n",
      "  \"usageState\": \"Normal\",\n",
      "  \"virtualNetworkSubnetId\": null,\n",
      "  \"vnetContentShareEnabled\": false,\n",
      "  \"vnetImagePullEnabled\": false,\n",
      "  \"vnetRouteAllEnabled\": false\n",
      "}\n"
     ]
    }
   ],
   "source": [
    "! az functionapp create \\\n",
    "    --name {FUNCTION_NAME}  \\\n",
    "    --storage-account {STORAGE_ACCOUNT_NAME} \\\n",
    "    --consumption-plan-location {LOCATION} \\\n",
    "    --resource-group {RESOURCE_GROUP} \\\n",
    "    --functions-version {FUNCTION_VERSION} \\\n",
    "    --os-type {FUNCTION_OS_TYPE} \\\n",
    "    --runtime {FUNCTION_RUNTIME}"
   ]
  },
  {
   "attachments": {},
   "cell_type": "markdown",
   "metadata": {},
   "source": [
    "### 2.5. Create a CosmosDB manage MongoDB instance"
   ]
  },
  {
   "attachments": {},
   "cell_type": "markdown",
   "metadata": {},
   "source": [
    "#### 2.5.1. Create CosmosDB"
   ]
  },
  {
   "cell_type": "code",
   "execution_count": 112,
   "metadata": {},
   "outputs": [
    {
     "name": "stdout",
     "output_type": "stream",
     "text": [
      "{\n",
      "  \"analyticalStorageConfiguration\": {\n",
      "    \"schemaType\": \"FullFidelity\"\n",
      "  },\n",
      "  \"apiProperties\": {\n",
      "    \"serverVersion\": \"4.2\"\n",
      "  },\n",
      "  \"backupPolicy\": {\n",
      "    \"migrationState\": null,\n",
      "    \"periodicModeProperties\": {\n",
      "      \"backupIntervalInMinutes\": 240,\n",
      "      \"backupRetentionIntervalInHours\": 8,\n",
      "      \"backupStorageRedundancy\": \"Geo\"\n",
      "    },\n",
      "    \"type\": \"Periodic\"\n",
      "  },\n",
      "  \"capabilities\": [\n",
      "    {\n",
      "      \"name\": \"EnableMongo\"\n",
      "    }\n",
      "  ],\n",
      "  \"capacity\": null,\n",
      "  \"connectorOffer\": null,\n",
      "  \"consistencyPolicy\": {\n",
      "    \"defaultConsistencyLevel\": \"Eventual\",\n",
      "    \"maxIntervalInSeconds\": 5,\n",
      "    \"maxStalenessPrefix\": 100\n",
      "  },\n",
      "  \"cors\": [],\n",
      "  \"createMode\": null,\n",
      "  \"databaseAccountOfferType\": \"Standard\",\n",
      "  \"defaultIdentity\": \"FirstPartyIdentity\",\n",
      "  \"disableKeyBasedMetadataWriteAccess\": false,\n",
      "  \"disableLocalAuth\": false,\n",
      "  \"documentEndpoint\": \"https://neighborly-cosmosdb.documents.azure.com:443/\",\n",
      "  \"enableAnalyticalStorage\": false,\n",
      "  \"enableAutomaticFailover\": false,\n",
      "  \"enableCassandraConnector\": null,\n",
      "  \"enableFreeTier\": false,\n",
      "  \"enableMultipleWriteLocations\": false,\n",
      "  \"enablePartitionMerge\": false,\n",
      "  \"failoverPolicies\": [\n",
      "    {\n",
      "      \"failoverPriority\": 0,\n",
      "      \"id\": \"neighborly-cosmosdb-southeastasia\",\n",
      "      \"locationName\": \"Southeast Asia\"\n",
      "    }\n",
      "  ],\n",
      "  \"id\": \"/subscriptions/64e349c9-f058-4158-8065-3c0efb0b95eb/resourceGroups/azure-dev-udacity-prj2/providers/Microsoft.DocumentDB/databaseAccounts/neighborly-cosmosdb\",\n",
      "  \"identity\": {\n",
      "    \"principalId\": null,\n",
      "    \"tenantId\": null,\n",
      "    \"type\": \"None\",\n",
      "    \"userAssignedIdentities\": null\n",
      "  },\n",
      "  \"instanceId\": \"e502becd-71d3-48fd-a5e1-9995f54cdaef\",\n",
      "  \"ipRules\": [],\n",
      "  \"isVirtualNetworkFilterEnabled\": false,\n",
      "  \"keyVaultKeyUri\": null,\n",
      "  \"keysMetadata\": {\n",
      "    \"primaryMasterKey\": {\n",
      "      \"generationTime\": \"2023-04-10T06:39:31.349310+00:00\"\n",
      "    },\n",
      "    \"primaryReadonlyMasterKey\": {\n",
      "      \"generationTime\": \"2023-04-10T06:39:31.349310+00:00\"\n",
      "    },\n",
      "    \"secondaryMasterKey\": {\n",
      "      \"generationTime\": \"2023-04-10T06:39:31.349310+00:00\"\n",
      "    },\n",
      "    \"secondaryReadonlyMasterKey\": {\n",
      "      \"generationTime\": \"2023-04-10T06:39:31.349310+00:00\"\n",
      "    }\n",
      "  },\n",
      "  \"kind\": \"MongoDB\",\n",
      "  \"location\": \"Southeast Asia\",\n",
      "  \"locations\": [\n",
      "    {\n",
      "      \"documentEndpoint\": \"https://neighborly-cosmosdb-southeastasia.documents.azure.com:443/\",\n",
      "      \"failoverPriority\": 0,\n",
      "      \"id\": \"neighborly-cosmosdb-southeastasia\",\n",
      "      \"isZoneRedundant\": false,\n",
      "      \"locationName\": \"Southeast Asia\",\n",
      "      \"provisioningState\": \"Succeeded\"\n",
      "    }\n",
      "  ],\n",
      "  \"minimalTlsVersion\": \"Tls12\",\n",
      "  \"name\": \"neighborly-cosmosdb\",\n",
      "  \"networkAclBypass\": \"None\",\n",
      "  \"networkAclBypassResourceIds\": [],\n",
      "  \"privateEndpointConnections\": null,\n",
      "  \"provisioningState\": \"Succeeded\",\n",
      "  \"publicNetworkAccess\": \"Enabled\",\n",
      "  \"readLocations\": [\n",
      "    {\n",
      "      \"documentEndpoint\": \"https://neighborly-cosmosdb-southeastasia.documents.azure.com:443/\",\n",
      "      \"failoverPriority\": 0,\n",
      "      \"id\": \"neighborly-cosmosdb-southeastasia\",\n",
      "      \"isZoneRedundant\": false,\n",
      "      \"locationName\": \"Southeast Asia\",\n",
      "      \"provisioningState\": \"Succeeded\"\n",
      "    }\n",
      "  ],\n",
      "  \"resourceGroup\": \"azure-dev-udacity-prj2\",\n",
      "  \"restoreParameters\": null,\n",
      "  \"systemData\": {\n",
      "    \"createdAt\": \"2023-04-10T06:39:31.349310+00:00\",\n",
      "    \"createdBy\": null,\n",
      "    \"createdByType\": null,\n",
      "    \"lastModifiedAt\": null,\n",
      "    \"lastModifiedBy\": null,\n",
      "    \"lastModifiedByType\": null\n",
      "  },\n",
      "  \"tags\": {},\n",
      "  \"type\": \"Microsoft.DocumentDB/databaseAccounts\",\n",
      "  \"virtualNetworkRules\": [],\n",
      "  \"writeLocations\": [\n",
      "    {\n",
      "      \"documentEndpoint\": \"https://neighborly-cosmosdb-southeastasia.documents.azure.com:443/\",\n",
      "      \"failoverPriority\": 0,\n",
      "      \"id\": \"neighborly-cosmosdb-southeastasia\",\n",
      "      \"isZoneRedundant\": false,\n",
      "      \"locationName\": \"Southeast Asia\",\n",
      "      \"provisioningState\": \"Succeeded\"\n",
      "    }\n",
      "  ]\n",
      "}\n"
     ]
    }
   ],
   "source": [
    "! az cosmosdb create \\\n",
    "    -n {COSMOSDB_ACCOUNT_NAME} \\\n",
    "    -g {RESOURCE_GROUP} \\\n",
    "    --kind {COSMOSDB_KIND} \\\n",
    "    --server-version {COSMOSDB_SERVER_VERSION} \\\n",
    "    --default-consistency-level {COSMOSDB_DEFAULT_CONSISTENCY_LEVEL} \\\n",
    "    --enable-automatic-failover {COSMOSDB_ENABLE_AUTOMATIC_FAILOVER}"
   ]
  },
  {
   "attachments": {},
   "cell_type": "markdown",
   "metadata": {},
   "source": [
    "#### 2.5.2. Get CosmosDB Connection String"
   ]
  },
  {
   "cell_type": "code",
   "execution_count": 113,
   "metadata": {},
   "outputs": [
    {
     "name": "stdout",
     "output_type": "stream",
     "text": [
      "\u001b[33mThis command has been deprecated and will be removed in a future release. Use 'cosmosdb keys list --type connection-strings' instead.\u001b[0m\n",
      "{\n",
      "  \"connectionStrings\": [\n",
      "    {\n",
      "      \"connectionString\": \"mongodb://neighborly-cosmosdb:E2Uoovo8hP4chc62kH25aelu9oJkYraYdsvfav1V3lO74SiOg7mZeqATqwBkmfSkDkHN4NpcKKzfACDb6SfMCA==@neighborly-cosmosdb.mongo.cosmos.azure.com:10255/?ssl=true&replicaSet=globaldb&retrywrites=false&maxIdleTimeMS=120000&appName=@neighborly-cosmosdb@\",\n",
      "      \"description\": \"Primary MongoDB Connection String\"\n",
      "    },\n",
      "    {\n",
      "      \"connectionString\": \"mongodb://neighborly-cosmosdb:5ed1HO7JKcnT0EUJUZHja9zJCYsXppCuuhfRA7KDpHjja9ny7ecukDBuCC7xfLFpyg7T2qH0jOlJACDbIgm9rA==@neighborly-cosmosdb.mongo.cosmos.azure.com:10255/?ssl=true&replicaSet=globaldb&retrywrites=false&maxIdleTimeMS=120000&appName=@neighborly-cosmosdb@\",\n",
      "      \"description\": \"Secondary MongoDB Connection String\"\n",
      "    },\n",
      "    {\n",
      "      \"connectionString\": \"mongodb://neighborly-cosmosdb:i2jQBo3vPClocnBnK7jenJ3MpHTFXsczap2eYywpxIgHSbixHTSsy405OTWA126yEj6izsWIzBrVACDbsIVPlw==@neighborly-cosmosdb.mongo.cosmos.azure.com:10255/?ssl=true&replicaSet=globaldb&retrywrites=false&maxIdleTimeMS=120000&appName=@neighborly-cosmosdb@\",\n",
      "      \"description\": \"Primary Read-Only MongoDB Connection String\"\n",
      "    },\n",
      "    {\n",
      "      \"connectionString\": \"mongodb://neighborly-cosmosdb:AbPDUMBJkpBTU2LomynvkcSuUGoxhKoX41GHltRyawV8Ha4OpIpXz9L3LUrTPNFBYiBRjBErO0gfACDbI5aE0Q==@neighborly-cosmosdb.mongo.cosmos.azure.com:10255/?ssl=true&replicaSet=globaldb&retrywrites=false&maxIdleTimeMS=120000&appName=@neighborly-cosmosdb@\",\n",
      "      \"description\": \"Secondary Read-Only MongoDB Connection String\"\n",
      "    }\n",
      "  ]\n",
      "}\n"
     ]
    }
   ],
   "source": [
    "! az cosmosdb list-connection-strings --name {COSMOSDB_ACCOUNT_NAME} --resource-group {RESOURCE_GROUP}"
   ]
  },
  {
   "cell_type": "code",
   "execution_count": 114,
   "metadata": {},
   "outputs": [],
   "source": [
    "connectionStrings = ! az cosmosdb keys list \\\n",
    "    --type connection-strings \\\n",
    "    --name {COSMOSDB_ACCOUNT_NAME} \\\n",
    "    --resource-group {RESOURCE_GROUP} \\\n",
    "    --query 'connectionStrings[0].connectionString' \\\n",
    "    --output tsv\n",
    "CONNECTION_STRING = str(connectionStrings[0])"
   ]
  },
  {
   "attachments": {},
   "cell_type": "markdown",
   "metadata": {},
   "source": [
    "#### 2.5.3. Create MongoDB Collections"
   ]
  },
  {
   "attachments": {},
   "cell_type": "markdown",
   "metadata": {},
   "source": [
    "1. Create advertisements collection"
   ]
  },
  {
   "cell_type": "code",
   "execution_count": 115,
   "metadata": {},
   "outputs": [],
   "source": [
    "! printf '[{\"key\": {\"keys\": [\"_id\"]}}]' > idxpolicy-$uniqueId.json"
   ]
  },
  {
   "cell_type": "code",
   "execution_count": 119,
   "metadata": {},
   "outputs": [
    {
     "name": "stdout",
     "output_type": "stream",
     "text": [
      "\u001b[K | Finished ..{\n",
      "  \"id\": \"/subscriptions/64e349c9-f058-4158-8065-3c0efb0b95eb/resourceGroups/azure-dev-udacity-prj2/providers/Microsoft.DocumentDB/databaseAccounts/neighborly-cosmosdb/mongodbDatabases/neighborlydb/collections/advertisements\",\n",
      "  \"location\": null,\n",
      "  \"name\": \"advertisements\",\n",
      "  \"options\": null,\n",
      "  \"resource\": {\n",
      "    \"analyticalStorageTtl\": null,\n",
      "    \"etag\": null,\n",
      "    \"id\": \"advertisements\",\n",
      "    \"indexes\": [\n",
      "      {\n",
      "        \"key\": {\n",
      "          \"keys\": [\n",
      "            \"_id\"\n",
      "          ]\n",
      "        },\n",
      "        \"options\": null\n",
      "      }\n",
      "    ],\n",
      "    \"rid\": null,\n",
      "    \"shardKey\": {\n",
      "      \"_id\": \"Hash\"\n",
      "    },\n",
      "    \"ts\": null\n",
      "  },\n",
      "  \"resourceGroup\": \"azure-dev-udacity-prj2\",\n",
      "  \"tags\": null,\n",
      "  \"type\": \"Microsoft.DocumentDB/databaseAccounts/mongodbDatabases/collections\"\n",
      "}\n"
     ]
    }
   ],
   "source": [
    "! az cosmosdb mongodb collection create \\\n",
    "    -a neighborly-cosmosdb \\\n",
    "    -g azure-dev-udacity-prj2 \\\n",
    "    -d neighborlydb \\\n",
    "    -n advertisements \\\n",
    "    --shard '_id' \\\n",
    "    --throughput 400 \\\n",
    "    --idx @idxpolicy-$uniqueId.json"
   ]
  },
  {
   "attachments": {},
   "cell_type": "markdown",
   "metadata": {},
   "source": [
    "2. Create posts collection"
   ]
  },
  {
   "cell_type": "code",
   "execution_count": 120,
   "metadata": {},
   "outputs": [
    {
     "name": "stdout",
     "output_type": "stream",
     "text": [
      "\u001b[K{| Finished ..\n",
      "  \"id\": \"/subscriptions/64e349c9-f058-4158-8065-3c0efb0b95eb/resourceGroups/azure-dev-udacity-prj2/providers/Microsoft.DocumentDB/databaseAccounts/neighborly-cosmosdb/mongodbDatabases/neighborlydb/collections/posts\",\n",
      "  \"location\": null,\n",
      "  \"name\": \"posts\",\n",
      "  \"options\": null,\n",
      "  \"resource\": {\n",
      "    \"analyticalStorageTtl\": null,\n",
      "    \"etag\": null,\n",
      "    \"id\": \"posts\",\n",
      "    \"indexes\": [\n",
      "      {\n",
      "        \"key\": {\n",
      "          \"keys\": [\n",
      "            \"_id\"\n",
      "          ]\n",
      "        },\n",
      "        \"options\": null\n",
      "      }\n",
      "    ],\n",
      "    \"rid\": null,\n",
      "    \"shardKey\": {\n",
      "      \"_id\": \"Hash\"\n",
      "    },\n",
      "    \"ts\": null\n",
      "  },\n",
      "  \"resourceGroup\": \"azure-dev-udacity-prj2\",\n",
      "  \"tags\": null,\n",
      "  \"type\": \"Microsoft.DocumentDB/databaseAccounts/mongodbDatabases/collections\"\n",
      "}\n"
     ]
    }
   ],
   "source": [
    "! az cosmosdb mongodb collection create \\\n",
    "    -a neighborly-cosmosdb \\\n",
    "    -g azure-dev-udacity-prj2 \\\n",
    "    -d neighborlydb \\\n",
    "    -n posts \\\n",
    "    --shard '_id' \\\n",
    "    --throughput 400 \\\n",
    "    --idx @idxpolicy-$uniqueId.json"
   ]
  },
  {
   "attachments": {},
   "cell_type": "markdown",
   "metadata": {},
   "source": [
    "3. If you want to delete a collection, use:"
   ]
  },
  {
   "cell_type": "code",
   "execution_count": null,
   "metadata": {},
   "outputs": [],
   "source": [
    "! az cosmosdb mongodb collection delete \\\n",
    "    -a {COSMOSDB_ACCOUNT_NAME} \\\n",
    "    -g {RESOURCE_GROUP} \\\n",
    "    -d {COSMOSDB_DATABASE_NAME} \\\n",
    "    -n advertisements"
   ]
  },
  {
   "attachments": {},
   "cell_type": "markdown",
   "metadata": {},
   "source": [
    "4. View the collection"
   ]
  },
  {
   "cell_type": "code",
   "execution_count": 56,
   "metadata": {},
   "outputs": [
    {
     "name": "stdout",
     "output_type": "stream",
     "text": [
      "[\n",
      "  {\n",
      "    \"id\": \"/subscriptions/64e349c9-f058-4158-8065-3c0efb0b95eb/resourceGroups/azure-dev-udacity-prj2/providers/Microsoft.DocumentDB/databaseAccounts/neighborly-cosmosdb/mongodbDatabases/neighborlydb/collections/posts\",\n",
      "    \"location\": null,\n",
      "    \"name\": \"posts\",\n",
      "    \"options\": null,\n",
      "    \"resource\": {\n",
      "      \"analyticalStorageTtl\": null,\n",
      "      \"etag\": null,\n",
      "      \"id\": \"posts\",\n",
      "      \"indexes\": [\n",
      "        {\n",
      "          \"key\": {\n",
      "            \"keys\": [\n",
      "              \"_id\"\n",
      "            ]\n",
      "          },\n",
      "          \"options\": null\n",
      "        }\n",
      "      ],\n",
      "      \"rid\": null,\n",
      "      \"shardKey\": {\n",
      "        \"_id\": \"Hash\"\n",
      "      },\n",
      "      \"ts\": null\n",
      "    },\n",
      "    \"resourceGroup\": \"azure-dev-udacity-prj2\",\n",
      "    \"tags\": null,\n",
      "    \"type\": \"Microsoft.DocumentDB/databaseAccounts/mongodbDatabases/collections\"\n",
      "  },\n",
      "  {\n",
      "    \"id\": \"/subscriptions/64e349c9-f058-4158-8065-3c0efb0b95eb/resourceGroups/azure-dev-udacity-prj2/providers/Microsoft.DocumentDB/databaseAccounts/neighborly-cosmosdb/mongodbDatabases/neighborlydb/collections/advertisements\",\n",
      "    \"location\": null,\n",
      "    \"name\": \"advertisements\",\n",
      "    \"options\": null,\n",
      "    \"resource\": {\n",
      "      \"analyticalStorageTtl\": null,\n",
      "      \"etag\": null,\n",
      "      \"id\": \"advertisements\",\n",
      "      \"indexes\": [\n",
      "        {\n",
      "          \"key\": {\n",
      "            \"keys\": [\n",
      "              \"_id\"\n",
      "            ]\n",
      "          },\n",
      "          \"options\": null\n",
      "        }\n",
      "      ],\n",
      "      \"rid\": null,\n",
      "      \"shardKey\": {\n",
      "        \"_id\": \"Hash\"\n",
      "      },\n",
      "      \"ts\": null\n",
      "    },\n",
      "    \"resourceGroup\": \"azure-dev-udacity-prj2\",\n",
      "    \"tags\": null,\n",
      "    \"type\": \"Microsoft.DocumentDB/databaseAccounts/mongodbDatabases/collections\"\n",
      "  }\n",
      "]\n"
     ]
    }
   ],
   "source": [
    "! az cosmosdb mongodb collection list \\\n",
    "    --account-name neighborly-cosmosdb \\\n",
    "\t--resource-group azure-dev-udacity-prj2 \\\n",
    "\t--database-name neighborlydb"
   ]
  },
  {
   "attachments": {},
   "cell_type": "markdown",
   "metadata": {},
   "source": [
    "#### 2.5.4. Add data to collection"
   ]
  },
  {
   "attachments": {},
   "cell_type": "markdown",
   "metadata": {},
   "source": [
    "1. Add data to Advertisements Collection - Connection String from 2.5.2"
   ]
  },
  {
   "cell_type": "code",
   "execution_count": 121,
   "metadata": {},
   "outputs": [
    {
     "name": "stdout",
     "output_type": "stream",
     "text": [
      "mongodb://neighborly-cosmosdb:E2Uoovo8hP4chc62kH25aelu9oJkYraYdsvfav1V3lO74SiOg7mZeqATqwBkmfSkDkHN4NpcKKzfACDb6SfMCA==@neighborly-cosmosdb.mongo.cosmos.azure.com:10255/?ssl=true&replicaSet=globaldb&retrywrites=false&maxIdleTimeMS=120000&appName=@neighborly-cosmosdb@\n"
     ]
    }
   ],
   "source": [
    "print(CONNECTION_STRING)"
   ]
  },
  {
   "cell_type": "code",
   "execution_count": 127,
   "metadata": {},
   "outputs": [
    {
     "name": "stdout",
     "output_type": "stream",
     "text": [
      "2023-04-10T13:56:42.831+0700\terror parsing command line options: error parsing uri: scheme must be \"mongodb\" or \"mongodb+srv\"\n",
      "2023-04-10T13:56:42.833+0700\ttry 'mongoimport --help' for more information\n"
     ]
    }
   ],
   "source": [
    "! mongoimport \\\n",
    "    --uri=f\"{CONNECTION_STRING}\" \\\n",
    "    --db={COSMOSDB_DATABASE_NAME} \\\n",
    "    --collection=advertisements \\\n",
    "    --file='./sample_data/sampleAds.json' \\\n",
    "    --jsonArray"
   ]
  },
  {
   "attachments": {},
   "cell_type": "markdown",
   "metadata": {},
   "source": [
    "2. Add data to Posts Collection - Connection String from 2.5.2"
   ]
  },
  {
   "cell_type": "code",
   "execution_count": null,
   "metadata": {},
   "outputs": [],
   "source": [
    "! mongoimport \\\n",
    "    --uri f\"{CONNECTION_STRING}\" \\\n",
    "    --collection posts \\\n",
    "    --file='./sample_data/samplePosts.json' \\\n",
    "    --jsonArray"
   ]
  },
  {
   "cell_type": "code",
   "execution_count": null,
   "metadata": {},
   "outputs": [],
   "source": [
    "from pymongo import MongoClient"
   ]
  },
  {
   "cell_type": "code",
   "execution_count": null,
   "metadata": {},
   "outputs": [],
   "source": [
    "# Create a MongoDB client\n",
    "client = MongoClient(f\"{CONNECTION_STRING}\")\n",
    "\n",
    "# Access the database and collection\n",
    "db = client[f\"neighborlydb\"]"
   ]
  },
  {
   "cell_type": "code",
   "execution_count": 128,
   "metadata": {},
   "outputs": [
    {
     "name": "stdout",
     "output_type": "stream",
     "text": [
      "{'_id': '5ec34b22f764357ce29a775e', 'title': 'Trailer', 'description': 'Ullamco nulla adipisicing esse occaecat ipsum deserunt. Est excepteur tempor eiusmod non. Eiusmod occaecat enim eiusmod nostrud mollit.\\r\\n', 'price': '$1,703.56'}\n",
      "{'_id': '5ec34b22c800f5f824c21490', 'title': 'Lost cat reward if found.', 'description': 'My fat tabby disappeared last nite on 49th and Taylor.', 'price': '0.00'}\n",
      "{'_id': '5ec34b22b5f7f6eac5f2ec3e', 'title': '[testaccount111] Honda Tacoma pick up - low milage.', 'description': 'Manual transmission.  Great truck, clean title. Cash only.', 'price': '$3,587.05', 'city': 'Poolsville'}\n",
      "{'_id': '5ec34b228eac7b1667a21a9a', 'title': 'Dirt', 'description': 'Et ea officia occaecat minim adipisicing. Ut nostrud sunt mollit ex labore. Exercitation ut exercitation sint reprehenderit duis reprehenderit.\\r\\n', 'price': 'Free'}\n",
      "{'_id': '5ec34b2265403b17d00ae864', 'title': 'Lawn mower', 'description': 'Sunt eiusmod occaecat deserunt magna Lorem cillum non consequat minim do.\\r\\n', 'price': '$520.13'}\n"
     ]
    }
   ],
   "source": [
    "advertisements = db[\"advertisements\"]\n",
    "\n",
    "result = advertisements.find({})\n",
    "\n",
    "# Print out the query result\n",
    "for doc in result:\n",
    "    print(doc)\n"
   ]
  },
  {
   "cell_type": "code",
   "execution_count": 129,
   "metadata": {},
   "outputs": [
    {
     "name": "stdout",
     "output_type": "stream",
     "text": [
      "{'_id': '5ec34cb666a8e2c4f3c36cfd', 'title': 'sit culpa Lorem enim pariatur', 'description': 'Aliqua sunt aliqua laborum in ex Lorem. Culpa occaecat adipisicing proident nisi elit officia duis ullamco ea exercitation eu pariatur. Qui qui pariatur magna ullamco amet.\\r\\n', 'imgUrl': 'http://placehold.it/32x32', 'publishedDate': 'Wed May 21 2020 03:04:22 GMT-0400 (Eastern Daylight Time)'}\n",
      "{'_id': '5ec34cb6a611ef690a38dc09', 'title': 'Need a haircut!', 'city': 'Riverdale Park', 'description': 'Can someone come to my yard and cut my hair?  I will wear a mask and also provide gloves an facemasks.  Contact Jessy at jessy@example.com', 'imgUrl': 'https://i.pinimg.com/564x/57/63/87/576387d0c55bb5a3e5dead09ac578fc5.jpg', 'publishedDate': 'Mon May 18 2020 20:04:22 GMT-0400 (Eastern Daylight Time)'}\n",
      "{'_id': '5ec34cb625f7e6b04907fbad', 'title': 'Food distribution', 'city': 'Hyattsville', 'description': 'Hi I think —not sure— there is a food distribution at going on now in our neighborhood community center?', 'imgUrl': 'https://www.bocaratontribune.com/wp-content/uploads/2020/04/IMG_0757-768x576.jpg', 'publishedDate': 'Sun May 17 2020 23:04:22 GMT-0400 (Eastern Daylight Time)'}\n",
      "{'_id': '5ec34cb6d1d76535514b91d9', 'title': 'aliquip veniam in eiusmod qui', 'description': 'Deserunt exercitation magna consequat nisi ullamco. Ullamco id ad proident non ullamco pariatur ad enim reprehenderit tempor aute cupidatat nostrud. Eiusmod cillum qui fugiat dolor. Commodo adipisicing est est commodo nisi eiusmod Lorem.\\r\\n', 'imgUrl': 'http://placehold.it/32x32', 'publishedDate': 'Mon May 18 2020 01:04:22 GMT-0400 (Eastern Daylight Time)'}\n"
     ]
    }
   ],
   "source": [
    "posts = db[\"posts\"]\n",
    "\n",
    "result = posts.find({})\n",
    "\n",
    "# Print out the query result\n",
    "for doc in result:\n",
    "    print(doc)\n"
   ]
  },
  {
   "attachments": {},
   "cell_type": "markdown",
   "metadata": {},
   "source": [
    "### 2.6. Create App Service for Front-End"
   ]
  },
  {
   "attachments": {},
   "cell_type": "markdown",
   "metadata": {},
   "source": [
    "#### 2.6.1. List Runtime Environment"
   ]
  },
  {
   "cell_type": "code",
   "execution_count": null,
   "metadata": {},
   "outputs": [],
   "source": [
    "! az webapp list-runtimes"
   ]
  },
  {
   "attachments": {},
   "cell_type": "markdown",
   "metadata": {},
   "source": [
    "#### 2.6.2. Create App Service Plan"
   ]
  },
  {
   "cell_type": "code",
   "execution_count": 130,
   "metadata": {},
   "outputs": [
    {
     "name": "stdout",
     "output_type": "stream",
     "text": [
      "\u001b[K{- Starting ..\n",
      "  \"elasticScaleEnabled\": false,\n",
      "  \"extendedLocation\": null,\n",
      "  \"freeOfferExpirationTime\": null,\n",
      "  \"geoRegion\": \"Southeast Asia\",\n",
      "  \"hostingEnvironmentProfile\": null,\n",
      "  \"hyperV\": false,\n",
      "  \"id\": \"/subscriptions/64e349c9-f058-4158-8065-3c0efb0b95eb/resourceGroups/azure-dev-udacity-prj2/providers/Microsoft.Web/serverfarms/neighborly-free\",\n",
      "  \"isSpot\": false,\n",
      "  \"isXenon\": false,\n",
      "  \"kind\": \"linux\",\n",
      "  \"kubeEnvironmentProfile\": null,\n",
      "  \"location\": \"southeastasia\",\n",
      "  \"maximumElasticWorkerCount\": 1,\n",
      "  \"maximumNumberOfWorkers\": 0,\n",
      "  \"name\": \"neighborly-free\",\n",
      "  \"numberOfSites\": 0,\n",
      "  \"numberOfWorkers\": 1,\n",
      "  \"perSiteScaling\": false,\n",
      "  \"provisioningState\": \"Succeeded\",\n",
      "  \"reserved\": true,\n",
      "  \"resourceGroup\": \"azure-dev-udacity-prj2\",\n",
      "  \"sku\": {\n",
      "    \"capabilities\": null,\n",
      "    \"capacity\": 1,\n",
      "    \"family\": \"U\",\n",
      "    \"locations\": null,\n",
      "    \"name\": \"U1\",\n",
      "    \"size\": \"U1\",\n",
      "    \"skuCapacity\": null,\n",
      "    \"tier\": \"LinuxFree\"\n",
      "  },\n",
      "  \"spotExpirationTime\": null,\n",
      "  \"status\": \"Ready\",\n",
      "  \"subscription\": \"64e349c9-f058-4158-8065-3c0efb0b95eb\",\n",
      "  \"tags\": null,\n",
      "  \"targetWorkerCount\": 0,\n",
      "  \"targetWorkerSizeId\": 0,\n",
      "  \"type\": \"Microsoft.Web/serverfarms\",\n",
      "  \"workerTierName\": null,\n",
      "  \"zoneRedundant\": false\n",
      "}\n"
     ]
    }
   ],
   "source": [
    "! az appservice plan create \\\n",
    "    --name {APP_SERVICE_PLAN_NAME} \\\n",
    "    --resource-group {RESOURCE_GROUP} \\\n",
    "    --location {LOCATION} \\\n",
    "    --sku {APP_SKU} \\\n",
    "    --is-linux"
   ]
  },
  {
   "attachments": {},
   "cell_type": "markdown",
   "metadata": {},
   "source": [
    "#### 2.6.3. Create App Service"
   ]
  },
  {
   "cell_type": "code",
   "execution_count": 131,
   "metadata": {},
   "outputs": [
    {
     "name": "stdout",
     "output_type": "stream",
     "text": [
      "\u001b[K - Starting ..{\n",
      "  \"availabilityState\": \"Normal\",\n",
      "  \"clientAffinityEnabled\": true,\n",
      "  \"clientCertEnabled\": false,\n",
      "  \"clientCertExclusionPaths\": null,\n",
      "  \"clientCertMode\": \"Required\",\n",
      "  \"cloningInfo\": null,\n",
      "  \"containerSize\": 0,\n",
      "  \"customDomainVerificationId\": \"69E70C078726BB30C6AE25CF9A652AABA8CF1911B1CB329D53C53535E2B9513B\",\n",
      "  \"dailyMemoryTimeQuota\": 0,\n",
      "  \"defaultHostName\": \"neighborly-fe.azurewebsites.net\",\n",
      "  \"enabled\": true,\n",
      "  \"enabledHostNames\": [\n",
      "    \"neighborly-fe.azurewebsites.net\",\n",
      "    \"neighborly-fe.scm.azurewebsites.net\"\n",
      "  ],\n",
      "  \"extendedLocation\": null,\n",
      "  \"ftpPublishingUrl\": \"ftp://waws-prod-sg1-019.ftp.azurewebsites.windows.net/site/wwwroot\",\n",
      "  \"hostNameSslStates\": [\n",
      "    {\n",
      "      \"hostType\": \"Standard\",\n",
      "      \"ipBasedSslResult\": null,\n",
      "      \"ipBasedSslState\": \"NotConfigured\",\n",
      "      \"name\": \"neighborly-fe.azurewebsites.net\",\n",
      "      \"sslState\": \"Disabled\",\n",
      "      \"thumbprint\": null,\n",
      "      \"toUpdate\": null,\n",
      "      \"toUpdateIpBasedSsl\": null,\n",
      "      \"virtualIp\": null\n",
      "    },\n",
      "    {\n",
      "      \"hostType\": \"Repository\",\n",
      "      \"ipBasedSslResult\": null,\n",
      "      \"ipBasedSslState\": \"NotConfigured\",\n",
      "      \"name\": \"neighborly-fe.scm.azurewebsites.net\",\n",
      "      \"sslState\": \"Disabled\",\n",
      "      \"thumbprint\": null,\n",
      "      \"toUpdate\": null,\n",
      "      \"toUpdateIpBasedSsl\": null,\n",
      "      \"virtualIp\": null\n",
      "    }\n",
      "  ],\n",
      "  \"hostNames\": [\n",
      "    \"neighborly-fe.azurewebsites.net\"\n",
      "  ],\n",
      "  \"hostNamesDisabled\": false,\n",
      "  \"hostingEnvironmentProfile\": null,\n",
      "  \"httpsOnly\": false,\n",
      "  \"hyperV\": false,\n",
      "  \"id\": \"/subscriptions/64e349c9-f058-4158-8065-3c0efb0b95eb/resourceGroups/azure-dev-udacity-prj2/providers/Microsoft.Web/sites/neighborly-fe\",\n",
      "  \"identity\": null,\n",
      "  \"inProgressOperationId\": null,\n",
      "  \"isDefaultContainer\": null,\n",
      "  \"isXenon\": false,\n",
      "  \"keyVaultReferenceIdentity\": \"SystemAssigned\",\n",
      "  \"kind\": \"app,linux\",\n",
      "  \"lastModifiedTimeUtc\": \"2023-04-10T06:58:55.510000\",\n",
      "  \"location\": \"Southeast Asia\",\n",
      "  \"maxNumberOfWorkers\": null,\n",
      "  \"name\": \"neighborly-fe\",\n",
      "  \"outboundIpAddresses\": \"52.187.36.104,52.187.129.179,52.187.23.154,52.163.123.89,52.230.18.200\",\n",
      "  \"possibleOutboundIpAddresses\": \"52.187.36.104,52.187.129.179,52.187.23.154,52.163.123.89,52.230.18.200,20.184.9.149,20.191.136.243\",\n",
      "  \"publicNetworkAccess\": null,\n",
      "  \"redundancyMode\": \"None\",\n",
      "  \"repositorySiteName\": \"neighborly-fe\",\n",
      "  \"reserved\": true,\n",
      "  \"resourceGroup\": \"azure-dev-udacity-prj2\",\n",
      "  \"scmSiteAlsoStopped\": false,\n",
      "  \"serverFarmId\": \"/subscriptions/64e349c9-f058-4158-8065-3c0efb0b95eb/resourceGroups/azure-dev-udacity-prj2/providers/Microsoft.Web/serverfarms/neighborly-free\",\n",
      "  \"siteConfig\": {\n",
      "    \"acrUseManagedIdentityCreds\": false,\n",
      "    \"acrUserManagedIdentityId\": null,\n",
      "    \"alwaysOn\": false,\n",
      "    \"antivirusScanEnabled\": null,\n",
      "    \"apiDefinition\": null,\n",
      "    \"apiManagementConfig\": null,\n",
      "    \"appCommandLine\": null,\n",
      "    \"appSettings\": null,\n",
      "    \"autoHealEnabled\": null,\n",
      "    \"autoHealRules\": null,\n",
      "    \"autoSwapSlotName\": null,\n",
      "    \"azureMonitorLogCategories\": null,\n",
      "    \"azureStorageAccounts\": null,\n",
      "    \"connectionStrings\": null,\n",
      "    \"cors\": null,\n",
      "    \"customAppPoolIdentityAdminState\": null,\n",
      "    \"customAppPoolIdentityTenantState\": null,\n",
      "    \"defaultDocuments\": null,\n",
      "    \"detailedErrorLoggingEnabled\": null,\n",
      "    \"documentRoot\": null,\n",
      "    \"elasticWebAppScaleLimit\": 0,\n",
      "    \"experiments\": null,\n",
      "    \"fileChangeAuditEnabled\": null,\n",
      "    \"ftpsState\": null,\n",
      "    \"functionAppScaleLimit\": null,\n",
      "    \"functionsRuntimeScaleMonitoringEnabled\": null,\n",
      "    \"handlerMappings\": null,\n",
      "    \"healthCheckPath\": null,\n",
      "    \"http20Enabled\": false,\n",
      "    \"http20ProxyFlag\": null,\n",
      "    \"httpLoggingEnabled\": null,\n",
      "    \"ipSecurityRestrictions\": [\n",
      "      {\n",
      "        \"action\": \"Allow\",\n",
      "        \"description\": \"Allow all access\",\n",
      "        \"headers\": null,\n",
      "        \"ipAddress\": \"Any\",\n",
      "        \"name\": \"Allow all\",\n",
      "        \"priority\": 2147483647,\n",
      "        \"subnetMask\": null,\n",
      "        \"subnetTrafficTag\": null,\n",
      "        \"tag\": null,\n",
      "        \"vnetSubnetResourceId\": null,\n",
      "        \"vnetTrafficTag\": null\n",
      "      }\n",
      "    ],\n",
      "    \"ipSecurityRestrictionsDefaultAction\": null,\n",
      "    \"javaContainer\": null,\n",
      "    \"javaContainerVersion\": null,\n",
      "    \"javaVersion\": null,\n",
      "    \"keyVaultReferenceIdentity\": null,\n",
      "    \"limits\": null,\n",
      "    \"linuxFxVersion\": \"\",\n",
      "    \"loadBalancing\": null,\n",
      "    \"localMySqlEnabled\": null,\n",
      "    \"logsDirectorySizeLimit\": null,\n",
      "    \"machineKey\": null,\n",
      "    \"managedPipelineMode\": null,\n",
      "    \"managedServiceIdentityId\": null,\n",
      "    \"metadata\": null,\n",
      "    \"minTlsCipherSuite\": null,\n",
      "    \"minTlsVersion\": null,\n",
      "    \"minimumElasticInstanceCount\": 0,\n",
      "    \"netFrameworkVersion\": null,\n",
      "    \"nodeVersion\": null,\n",
      "    \"numberOfWorkers\": 1,\n",
      "    \"phpVersion\": null,\n",
      "    \"powerShellVersion\": null,\n",
      "    \"preWarmedInstanceCount\": null,\n",
      "    \"publicNetworkAccess\": null,\n",
      "    \"publishingPassword\": null,\n",
      "    \"publishingUsername\": null,\n",
      "    \"push\": null,\n",
      "    \"pythonVersion\": null,\n",
      "    \"remoteDebuggingEnabled\": null,\n",
      "    \"remoteDebuggingVersion\": null,\n",
      "    \"requestTracingEnabled\": null,\n",
      "    \"requestTracingExpirationTime\": null,\n",
      "    \"routingRules\": null,\n",
      "    \"runtimeADUser\": null,\n",
      "    \"runtimeADUserPassword\": null,\n",
      "    \"scmIpSecurityRestrictions\": [\n",
      "      {\n",
      "        \"action\": \"Allow\",\n",
      "        \"description\": \"Allow all access\",\n",
      "        \"headers\": null,\n",
      "        \"ipAddress\": \"Any\",\n",
      "        \"name\": \"Allow all\",\n",
      "        \"priority\": 2147483647,\n",
      "        \"subnetMask\": null,\n",
      "        \"subnetTrafficTag\": null,\n",
      "        \"tag\": null,\n",
      "        \"vnetSubnetResourceId\": null,\n",
      "        \"vnetTrafficTag\": null\n",
      "      }\n",
      "    ],\n",
      "    \"scmIpSecurityRestrictionsDefaultAction\": null,\n",
      "    \"scmIpSecurityRestrictionsUseMain\": null,\n",
      "    \"scmMinTlsVersion\": null,\n",
      "    \"scmType\": null,\n",
      "    \"sitePort\": null,\n",
      "    \"storageType\": null,\n",
      "    \"supportedTlsCipherSuites\": null,\n",
      "    \"tracingOptions\": null,\n",
      "    \"use32BitWorkerProcess\": null,\n",
      "    \"virtualApplications\": null,\n",
      "    \"vnetName\": null,\n",
      "    \"vnetPrivatePortsCount\": null,\n",
      "    \"vnetRouteAllEnabled\": null,\n",
      "    \"webSocketsEnabled\": null,\n",
      "    \"websiteTimeZone\": null,\n",
      "    \"winAuthAdminState\": null,\n",
      "    \"winAuthTenantState\": null,\n",
      "    \"windowsConfiguredStacks\": null,\n",
      "    \"windowsFxVersion\": null,\n",
      "    \"xManagedServiceIdentityId\": null\n",
      "  },\n",
      "  \"slotSwapStatus\": null,\n",
      "  \"state\": \"Running\",\n",
      "  \"storageAccountRequired\": false,\n",
      "  \"suspendedTill\": null,\n",
      "  \"tags\": null,\n",
      "  \"targetSwapSlot\": null,\n",
      "  \"trafficManagerHostNames\": null,\n",
      "  \"type\": \"Microsoft.Web/sites\",\n",
      "  \"usageState\": \"Normal\",\n",
      "  \"virtualNetworkSubnetId\": null,\n",
      "  \"vnetContentShareEnabled\": false,\n",
      "  \"vnetImagePullEnabled\": false,\n",
      "  \"vnetRouteAllEnabled\": false\n",
      "}\n"
     ]
    }
   ],
   "source": [
    "! az webapp create \\\n",
    "    --name {APP_NAME} \\\n",
    "    --resource-group {RESOURCE_GROUP} \\\n",
    "    --plan {APP_SERVICE_PLAN_NAME} \\\n",
    "    --runtime {APP_RUNTIME}"
   ]
  },
  {
   "attachments": {},
   "cell_type": "markdown",
   "metadata": {},
   "source": [
    "## 3. Connect Function with CosmosDB"
   ]
  },
  {
   "attachments": {},
   "cell_type": "markdown",
   "metadata": {},
   "source": [
    "### 3.1. Verify the resources"
   ]
  },
  {
   "cell_type": "code",
   "execution_count": 132,
   "metadata": {},
   "outputs": [
    {
     "name": "stdout",
     "output_type": "stream",
     "text": [
      "[\n",
      "  {\n",
      "    \"appServicePlanId\": \"/subscriptions/64e349c9-f058-4158-8065-3c0efb0b95eb/resourceGroups/azure-dev-udacity-prj2/providers/Microsoft.Web/serverfarms/SoutheastAsiaLinuxDynamicPlan\",\n",
      "    \"availabilityState\": \"Normal\",\n",
      "    \"clientAffinityEnabled\": false,\n",
      "    \"clientCertEnabled\": false,\n",
      "    \"clientCertExclusionPaths\": null,\n",
      "    \"clientCertMode\": \"Required\",\n",
      "    \"cloningInfo\": null,\n",
      "    \"containerSize\": 0,\n",
      "    \"customDomainVerificationId\": \"69E70C078726BB30C6AE25CF9A652AABA8CF1911B1CB329D53C53535E2B9513B\",\n",
      "    \"dailyMemoryTimeQuota\": 0,\n",
      "    \"defaultHostName\": \"neighborly-function.azurewebsites.net\",\n",
      "    \"enabled\": true,\n",
      "    \"enabledHostNames\": [\n",
      "      \"neighborly-function.azurewebsites.net\",\n",
      "      \"neighborly-function.scm.azurewebsites.net\"\n",
      "    ],\n",
      "    \"extendedLocation\": null,\n",
      "    \"hostNameSslStates\": [\n",
      "      {\n",
      "        \"hostType\": \"Standard\",\n",
      "        \"ipBasedSslResult\": null,\n",
      "        \"ipBasedSslState\": \"NotConfigured\",\n",
      "        \"name\": \"neighborly-function.azurewebsites.net\",\n",
      "        \"sslState\": \"Disabled\",\n",
      "        \"thumbprint\": null,\n",
      "        \"toUpdate\": null,\n",
      "        \"toUpdateIpBasedSsl\": null,\n",
      "        \"virtualIp\": null\n",
      "      },\n",
      "      {\n",
      "        \"hostType\": \"Repository\",\n",
      "        \"ipBasedSslResult\": null,\n",
      "        \"ipBasedSslState\": \"NotConfigured\",\n",
      "        \"name\": \"neighborly-function.scm.azurewebsites.net\",\n",
      "        \"sslState\": \"Disabled\",\n",
      "        \"thumbprint\": null,\n",
      "        \"toUpdate\": null,\n",
      "        \"toUpdateIpBasedSsl\": null,\n",
      "        \"virtualIp\": null\n",
      "      }\n",
      "    ],\n",
      "    \"hostNames\": [\n",
      "      \"neighborly-function.azurewebsites.net\"\n",
      "    ],\n",
      "    \"hostNamesDisabled\": false,\n",
      "    \"hostingEnvironmentProfile\": null,\n",
      "    \"httpsOnly\": false,\n",
      "    \"hyperV\": false,\n",
      "    \"id\": \"/subscriptions/64e349c9-f058-4158-8065-3c0efb0b95eb/resourceGroups/azure-dev-udacity-prj2/providers/Microsoft.Web/sites/neighborly-function\",\n",
      "    \"identity\": null,\n",
      "    \"inProgressOperationId\": null,\n",
      "    \"isDefaultContainer\": null,\n",
      "    \"isXenon\": false,\n",
      "    \"keyVaultReferenceIdentity\": \"SystemAssigned\",\n",
      "    \"kind\": \"functionapp,linux\",\n",
      "    \"lastModifiedTimeUtc\": \"2023-04-10T06:35:38.220000\",\n",
      "    \"location\": \"Southeast Asia\",\n",
      "    \"maxNumberOfWorkers\": null,\n",
      "    \"name\": \"neighborly-function\",\n",
      "    \"outboundIpAddresses\": \"52.187.36.104,52.187.129.179,52.187.23.154,52.163.123.89,52.230.18.200\",\n",
      "    \"possibleOutboundIpAddresses\": \"52.187.36.104,52.187.129.179,52.187.23.154,52.163.123.89,52.230.18.200,20.184.9.149,20.191.136.243\",\n",
      "    \"publicNetworkAccess\": null,\n",
      "    \"redundancyMode\": \"None\",\n",
      "    \"repositorySiteName\": \"neighborly-function\",\n",
      "    \"reserved\": true,\n",
      "    \"resourceGroup\": \"azure-dev-udacity-prj2\",\n",
      "    \"scmSiteAlsoStopped\": false,\n",
      "    \"siteConfig\": {\n",
      "      \"acrUseManagedIdentityCreds\": false,\n",
      "      \"acrUserManagedIdentityId\": null,\n",
      "      \"alwaysOn\": false,\n",
      "      \"antivirusScanEnabled\": null,\n",
      "      \"apiDefinition\": null,\n",
      "      \"apiManagementConfig\": null,\n",
      "      \"appCommandLine\": null,\n",
      "      \"appSettings\": null,\n",
      "      \"autoHealEnabled\": null,\n",
      "      \"autoHealRules\": null,\n",
      "      \"autoSwapSlotName\": null,\n",
      "      \"azureMonitorLogCategories\": null,\n",
      "      \"azureStorageAccounts\": null,\n",
      "      \"connectionStrings\": null,\n",
      "      \"cors\": null,\n",
      "      \"customAppPoolIdentityAdminState\": null,\n",
      "      \"customAppPoolIdentityTenantState\": null,\n",
      "      \"defaultDocuments\": null,\n",
      "      \"detailedErrorLoggingEnabled\": null,\n",
      "      \"documentRoot\": null,\n",
      "      \"elasticWebAppScaleLimit\": null,\n",
      "      \"experiments\": null,\n",
      "      \"fileChangeAuditEnabled\": null,\n",
      "      \"ftpsState\": null,\n",
      "      \"functionAppScaleLimit\": 200,\n",
      "      \"functionsRuntimeScaleMonitoringEnabled\": null,\n",
      "      \"handlerMappings\": null,\n",
      "      \"healthCheckPath\": null,\n",
      "      \"http20Enabled\": true,\n",
      "      \"http20ProxyFlag\": null,\n",
      "      \"httpLoggingEnabled\": null,\n",
      "      \"ipSecurityRestrictions\": null,\n",
      "      \"ipSecurityRestrictionsDefaultAction\": null,\n",
      "      \"javaContainer\": null,\n",
      "      \"javaContainerVersion\": null,\n",
      "      \"javaVersion\": null,\n",
      "      \"keyVaultReferenceIdentity\": null,\n",
      "      \"limits\": null,\n",
      "      \"linuxFxVersion\": \"Python|3.9\",\n",
      "      \"loadBalancing\": null,\n",
      "      \"localMySqlEnabled\": null,\n",
      "      \"logsDirectorySizeLimit\": null,\n",
      "      \"machineKey\": null,\n",
      "      \"managedPipelineMode\": null,\n",
      "      \"managedServiceIdentityId\": null,\n",
      "      \"metadata\": null,\n",
      "      \"minTlsCipherSuite\": null,\n",
      "      \"minTlsVersion\": null,\n",
      "      \"minimumElasticInstanceCount\": 0,\n",
      "      \"netFrameworkVersion\": null,\n",
      "      \"nodeVersion\": null,\n",
      "      \"numberOfWorkers\": 1,\n",
      "      \"phpVersion\": null,\n",
      "      \"powerShellVersion\": null,\n",
      "      \"preWarmedInstanceCount\": null,\n",
      "      \"publicNetworkAccess\": null,\n",
      "      \"publishingPassword\": null,\n",
      "      \"publishingUsername\": null,\n",
      "      \"push\": null,\n",
      "      \"pythonVersion\": null,\n",
      "      \"remoteDebuggingEnabled\": null,\n",
      "      \"remoteDebuggingVersion\": null,\n",
      "      \"requestTracingEnabled\": null,\n",
      "      \"requestTracingExpirationTime\": null,\n",
      "      \"routingRules\": null,\n",
      "      \"runtimeADUser\": null,\n",
      "      \"runtimeADUserPassword\": null,\n",
      "      \"scmIpSecurityRestrictions\": null,\n",
      "      \"scmIpSecurityRestrictionsDefaultAction\": null,\n",
      "      \"scmIpSecurityRestrictionsUseMain\": null,\n",
      "      \"scmMinTlsVersion\": null,\n",
      "      \"scmType\": null,\n",
      "      \"sitePort\": null,\n",
      "      \"storageType\": null,\n",
      "      \"supportedTlsCipherSuites\": null,\n",
      "      \"tracingOptions\": null,\n",
      "      \"use32BitWorkerProcess\": null,\n",
      "      \"virtualApplications\": null,\n",
      "      \"vnetName\": null,\n",
      "      \"vnetPrivatePortsCount\": null,\n",
      "      \"vnetRouteAllEnabled\": null,\n",
      "      \"webSocketsEnabled\": null,\n",
      "      \"websiteTimeZone\": null,\n",
      "      \"winAuthAdminState\": null,\n",
      "      \"winAuthTenantState\": null,\n",
      "      \"windowsConfiguredStacks\": null,\n",
      "      \"windowsFxVersion\": null,\n",
      "      \"xManagedServiceIdentityId\": null\n",
      "    },\n",
      "    \"slotSwapStatus\": null,\n",
      "    \"state\": \"Running\",\n",
      "    \"storageAccountRequired\": false,\n",
      "    \"suspendedTill\": null,\n",
      "    \"tags\": null,\n",
      "    \"targetSwapSlot\": null,\n",
      "    \"trafficManagerHostNames\": null,\n",
      "    \"type\": \"Microsoft.Web/sites\",\n",
      "    \"usageState\": \"Normal\",\n",
      "    \"virtualNetworkSubnetId\": null,\n",
      "    \"vnetContentShareEnabled\": false,\n",
      "    \"vnetImagePullEnabled\": false,\n",
      "    \"vnetRouteAllEnabled\": false\n",
      "  }\n",
      "]\n"
     ]
    }
   ],
   "source": [
    "! az functionapp list  --resource-group {RESOURCE_GROUP}"
   ]
  },
  {
   "attachments": {},
   "cell_type": "markdown",
   "metadata": {},
   "source": [
    "### 3.2. Connect"
   ]
  },
  {
   "cell_type": "code",
   "execution_count": 5,
   "metadata": {},
   "outputs": [
    {
     "name": "stdout",
     "output_type": "stream",
     "text": [
      "[\n",
      "  {\n",
      "    \"name\": \"FUNCTIONS_WORKER_RUNTIME\",\n",
      "    \"slotSetting\": false,\n",
      "    \"value\": \"python\"\n",
      "  },\n",
      "  {\n",
      "    \"name\": \"FUNCTIONS_EXTENSION_VERSION\",\n",
      "    \"slotSetting\": false,\n",
      "    \"value\": \"~3\"\n",
      "  },\n",
      "  {\n",
      "    \"name\": \"AzureWebJobsStorage\",\n",
      "    \"slotSetting\": false,\n",
      "    \"value\": \"DefaultEndpointsProtocol=https;EndpointSuffix=core.windows.net;AccountName=congdinh2023prj2;AccountKey=ZBMXT8H0wevNlLswmDsA+DBLewvvT6rpuq8Ur6maC9eI2W4xA8SUirYf5q7y5QRKJX73xdxypsOK+AStTExiuw==\"\n",
      "  },\n",
      "  {\n",
      "    \"name\": \"WEBSITE_CONTENTAZUREFILECONNECTIONSTRING\",\n",
      "    \"slotSetting\": false,\n",
      "    \"value\": \"DefaultEndpointsProtocol=https;EndpointSuffix=core.windows.net;AccountName=congdinh2023prj2;AccountKey=ZBMXT8H0wevNlLswmDsA+DBLewvvT6rpuq8Ur6maC9eI2W4xA8SUirYf5q7y5QRKJX73xdxypsOK+AStTExiuw==\"\n",
      "  },\n",
      "  {\n",
      "    \"name\": \"WEBSITE_CONTENTSHARE\",\n",
      "    \"slotSetting\": false,\n",
      "    \"value\": \"neighborly-functione2eb4ee67224\"\n",
      "  },\n",
      "  {\n",
      "    \"name\": \"APPINSIGHTS_INSTRUMENTATIONKEY\",\n",
      "    \"slotSetting\": false,\n",
      "    \"value\": \"01c9043b-c53d-44b5-a905-546d64b4b935\"\n",
      "  },\n",
      "  {\n",
      "    \"name\": \"MyDbConnection\",\n",
      "    \"slotSetting\": false,\n",
      "    \"value\": \"mongodb://neighborly-cosmosdb:E2Uoovo8hP4chc62kH25aelu9oJkYraYdsvfav1V3lO74SiOg7mZeqATqwBkmfSkDkHN4NpcKKzfACDb6SfMCA==@neighborly-cosmosdb.mongo.cosmos.azure.com:10255/?ssl=true&replicaSet=globaldb&retrywrites=false&maxIdleTimeMS=120000&appName=@neighborly-cosmosdb@\"\n",
      "  }\n",
      "]\n"
     ]
    }
   ],
   "source": [
    "! az functionapp config appsettings set \\\n",
    "  --name neighborly-function \\\n",
    "  --resource-group azure-dev-udacity-prj2 \\\n",
    "  --setting MyDbConnection=\"mongodb://neighborly-cosmosdb:E2Uoovo8hP4chc62kH25aelu9oJkYraYdsvfav1V3lO74SiOg7mZeqATqwBkmfSkDkHN4NpcKKzfACDb6SfMCA==@neighborly-cosmosdb.mongo.cosmos.azure.com:10255/?ssl=true&replicaSet=globaldb&retrywrites=false&maxIdleTimeMS=120000&appName=@neighborly-cosmosdb@\""
   ]
  },
  {
   "attachments": {},
   "cell_type": "markdown",
   "metadata": {},
   "source": [
    "## 3. Deploy Functions"
   ]
  },
  {
   "attachments": {},
   "cell_type": "markdown",
   "metadata": {},
   "source": [
    "### 3.1. Test Functions at Local"
   ]
  },
  {
   "cell_type": "code",
   "execution_count": 6,
   "metadata": {},
   "outputs": [
    {
     "name": "stdout",
     "output_type": "stream",
     "text": [
      "zsh:1: command not found: func\n"
     ]
    }
   ],
   "source": [
    "! func start"
   ]
  },
  {
   "cell_type": "code",
   "execution_count": 7,
   "metadata": {},
   "outputs": [
    {
     "name": "stdout",
     "output_type": "stream",
     "text": [
      "zsh:1: command not found: func\n"
     ]
    }
   ],
   "source": [
    "! func azure functionapp publish {FUNCTION_NAME}"
   ]
  },
  {
   "attachments": {},
   "cell_type": "markdown",
   "metadata": {},
   "source": [
    "## 5. Delete Resources"
   ]
  },
  {
   "attachments": {},
   "cell_type": "markdown",
   "metadata": {},
   "source": [
    "### 5.1. Delete group - delete all resources belong to this group"
   ]
  },
  {
   "cell_type": "code",
   "execution_count": 104,
   "metadata": {},
   "outputs": [
    {
     "name": "stdout",
     "output_type": "stream",
     "text": [
      "Are you sure you want to perform this operation? (y/n): ^C\n",
      "\u001b[32mCommand ran in 33.005 seconds (init: 0.053, invoke: 32.952)\u001b[0m\n"
     ]
    }
   ],
   "source": [
    "! az group delete -n {RESOURCE_GROUP} --verbose"
   ]
  },
  {
   "attachments": {},
   "cell_type": "markdown",
   "metadata": {},
   "source": [
    "### 5.2. Delete each resources"
   ]
  },
  {
   "attachments": {},
   "cell_type": "markdown",
   "metadata": {},
   "source": [
    "1. Delete CosmosDB"
   ]
  },
  {
   "cell_type": "code",
   "execution_count": null,
   "metadata": {},
   "outputs": [],
   "source": []
  },
  {
   "attachments": {},
   "cell_type": "markdown",
   "metadata": {},
   "source": [
    "2. Delete Function App"
   ]
  },
  {
   "cell_type": "code",
   "execution_count": null,
   "metadata": {},
   "outputs": [],
   "source": []
  }
 ],
 "metadata": {
  "kernelspec": {
   "display_name": "azure",
   "language": "python",
   "name": "python3"
  },
  "language_info": {
   "codemirror_mode": {
    "name": "ipython",
    "version": 3
   },
   "file_extension": ".py",
   "mimetype": "text/x-python",
   "name": "python",
   "nbconvert_exporter": "python",
   "pygments_lexer": "ipython3",
   "version": "3.11.3"
  },
  "orig_nbformat": 4
 },
 "nbformat": 4,
 "nbformat_minor": 2
}
