{
 "cells": [
  {
   "attachments": {},
   "cell_type": "markdown",
   "metadata": {},
   "source": [
    "# Neighborly Functions App - Cloud Developer With MS Azure - Udacity Project II"
   ]
  },
  {
   "attachments": {},
   "cell_type": "markdown",
   "metadata": {},
   "source": [
    "## 1. Add configuration"
   ]
  },
  {
   "cell_type": "code",
   "execution_count": null,
   "metadata": {},
   "outputs": [],
   "source": [
    "import configparser"
   ]
  },
  {
   "cell_type": "code",
   "execution_count": null,
   "metadata": {},
   "outputs": [],
   "source": [
    "config = configparser.ConfigParser()\n",
    "config.read_file(open('azure.cfg'))\n",
    "\n",
    "RESOURCE_GROUP                          = config.get('RESOURCE','RESOURCE_GROUP')\n",
    "LOCATION                                = config.get('RESOURCE','LOCATION')\n",
    "COSMOSDB_ACCOUNT_NAME                   = config.get(\"DATABASE\",\"COSMOSDB_ACCOUNT_NAME\")\n",
    "COSMOSDB_KIND                           = config.get(\"DATABASE\",\"COSMOSDB_KIND\")\n",
    "COSMOSDB_SERVER_VERSION                 = config.get(\"DATABASE\",\"COSMOSDB_SERVER_VERSION\")\n",
    "COSMOSDB_DEFAULT_CONSISTENCY_LEVEL      = config.get(\"DATABASE\",\"COSMOSDB_DEFAULT_CONSISTENCY_LEVEL\")\n",
    "COSMOSDB_ENABLE_AUTOMATIC_FAILOVER      = config.get(\"DATABASE\",\"COSMOSDB_ENABLE_AUTOMATIC_FAILOVER\")\n",
    "COSMOSDB_DATBASE_NAME                   = config.get(\"DATABASE\",\"COSMOSDB_DATABASE_NAME\")\n",
    "STORAGE_ACCOUNT_NAME                    = config.get(\"STORAGE\",\"STORAGE_ACCOUNT_NAME\")\n",
    "STORAGE_SKU                             = config.get(\"STORAGE\",\"STORAGE_SKU\")\n",
    "APP_NAME                                = config.get(\"APP\",\"APP_NAME\")\n",
    "APP_SERVICE_PLAN_NAME                   = config.get(\"APP\",\"APP_SERVICE_PLAN_NAME\")\n",
    "APP_SKU                                 = config.get(\"APP\",\"APP_SKU\")\n",
    "APP_RUNTIME                             = config.get(\"APP\",\"APP_RUNTIME\")\n",
    "FUNCTION_NAME                           = config.get(\"FUNCTION\",\"FUNCTION_NAME\")\n",
    "FUNCTION_VERSION                        = config.get(\"FUNCTION\",\"FUNCTION_VERSION\")\n",
    "FUNCTION_OS_TYPE                        = config.get(\"FUNCTION\",\"FUNCTION_OS_TYPE\")\n",
    "FUNCTION_RUNTIME                        = config.get(\"FUNCTION\",\"FUNCTION_RUNTIME\")"
   ]
  },
  {
   "cell_type": "code",
   "execution_count": null,
   "metadata": {},
   "outputs": [],
   "source": [
    "import os\n",
    "os.environ[\"RESOURCE_GROUP\"]                        = RESOURCE_GROUP\n",
    "os.environ[\"LOCATION\"]                              = LOCATION\n",
    "os.environ[\"COSMOSDB_ACCOUNT_NAME\"]                 = COSMOSDB_ACCOUNT_NAME\n",
    "os.environ[\"COSMOSDB_KIND\"]                         = COSMOSDB_KIND\n",
    "os.environ[\"COSMOSDB_SERVER_VERSION\"]               = COSMOSDB_SERVER_VERSION\n",
    "os.environ[\"COSMOSDB_DEFAULT_CONSISTENCY_LEVEL\"]    = COSMOSDB_DEFAULT_CONSISTENCY_LEVEL\n",
    "os.environ[\"COSMOSDB_ENABLE_AUTOMATIC_FAILOVER\"]    = COSMOSDB_ENABLE_AUTOMATIC_FAILOVER\n",
    "os.environ[\"COSMOSDB_DATBASE_NAME\"]                 = COSMOSDB_DATBASE_NAME\n",
    "os.environ[\"STORAGE_ACCOUNT_NAME\"]                  = STORAGE_ACCOUNT_NAME\n",
    "os.environ[\"STORAGE_SKU\"]                           = STORAGE_SKU\n",
    "os.environ[\"APP_NAME\"]                              = APP_NAME\n",
    "os.environ[\"APP_SERVICE_PLAN_NAME\"]                 = APP_SERVICE_PLAN_NAME\n",
    "os.environ[\"APP_SKU\"]                               = APP_SKU\n",
    "os.environ[\"APP_RUNTIME\"]                           = APP_RUNTIME\n",
    "os.environ[\"FUNCTION_NAME\"]                         = FUNCTION_NAME\n",
    "os.environ[\"FUNCTION_VERSION\"]                      = FUNCTION_VERSION\n",
    "os.environ[\"FUNCTION_OS_TYPE\"]                      = FUNCTION_OS_TYPE\n",
    "os.environ[\"FUNCTION_RUNTIME\"]                      = FUNCTION_RUNTIME"
   ]
  },
  {
   "attachments": {},
   "cell_type": "markdown",
   "metadata": {},
   "source": [
    "## 2. Create Resources"
   ]
  },
  {
   "attachments": {},
   "cell_type": "markdown",
   "metadata": {},
   "source": [
    "### 2.1. Login Azure CLI"
   ]
  },
  {
   "cell_type": "code",
   "execution_count": null,
   "metadata": {},
   "outputs": [],
   "source": [
    "! az login"
   ]
  },
  {
   "attachments": {},
   "cell_type": "markdown",
   "metadata": {},
   "source": [
    "### 2.2. Create Resource Group"
   ]
  },
  {
   "cell_type": "code",
   "execution_count": null,
   "metadata": {},
   "outputs": [],
   "source": [
    "! az group create \\\n",
    "    --name {RESOURCE_GROUP} \\\n",
    "    --location {LOCATION}"
   ]
  },
  {
   "attachments": {},
   "cell_type": "markdown",
   "metadata": {},
   "source": [
    "### 2.3. Create Storage Account"
   ]
  },
  {
   "cell_type": "code",
   "execution_count": null,
   "metadata": {},
   "outputs": [],
   "source": [
    "! az storage account create \\\n",
    "    --name {STORAGE_ACCOUNT_NAME} \\\n",
    "    --resource-group {RESOURCE_GROUP} \\\n",
    "    --location {LOCATION} \\\n",
    "    --sku {STORAGE_SKU}"
   ]
  },
  {
   "attachments": {},
   "cell_type": "markdown",
   "metadata": {},
   "source": [
    "### 2.4. Create Function App"
   ]
  },
  {
   "cell_type": "code",
   "execution_count": null,
   "metadata": {},
   "outputs": [],
   "source": [
    "! az functionapp create \\\n",
    "    --name {FUNCTION_NAME}  \\\n",
    "    --storage-account {STORAGE_ACCOUNT_NAME} \\\n",
    "    --consumption-plan-location {LOCATION} \\\n",
    "    --resource-group {RESOURCE_GROUP} \\\n",
    "    --functions-version {FUNCTION_VERSION} \\\n",
    "    --os-type {FUNCTION_OS_TYPE} \\\n",
    "    --runtime {FUNCTION_RUNTIME}"
   ]
  },
  {
   "attachments": {},
   "cell_type": "markdown",
   "metadata": {},
   "source": [
    "### 2.5. Create a CosmosDB manage MongoDB instance"
   ]
  },
  {
   "attachments": {},
   "cell_type": "markdown",
   "metadata": {},
   "source": [
    "#### 2.5.1. Create CosmosDB"
   ]
  },
  {
   "cell_type": "code",
   "execution_count": null,
   "metadata": {},
   "outputs": [],
   "source": [
    "! az cosmosdb create \\\n",
    "    -n {COSMOSDB_ACCOUNT_NAME} \\\n",
    "    -g {RESOURCE_GROUP} \\\n",
    "    --kind {COSMOSDB_KIND} \\\n",
    "    --server-version {COSMOSDB_SERVER_VERSION} \\\n",
    "    --default-consistency-level {COSMOSDB_DEFAULT_CONSISTENCY_LEVEL} \\\n",
    "    --enable-automatic-failover {COSMOSDB_ENABLE_AUTOMATIC_FAILOVER}"
   ]
  },
  {
   "attachments": {},
   "cell_type": "markdown",
   "metadata": {},
   "source": [
    "#### 2.5.2. Get CosmosDB Connection String"
   ]
  },
  {
   "cell_type": "code",
   "execution_count": null,
   "metadata": {},
   "outputs": [],
   "source": [
    "! az cosmosdb list-connection-strings --name {COSMOSDB_ACCOUNT_NAME} --resource-group {RESOURCE_GROUP}"
   ]
  },
  {
   "cell_type": "code",
   "execution_count": null,
   "metadata": {},
   "outputs": [],
   "source": [
    "connectionStrings = ! az cosmosdb keys list \\\n",
    "    --type connection-strings \\\n",
    "    --name {COSMOSDB_ACCOUNT_NAME} \\\n",
    "    --resource-group {RESOURCE_GROUP} \\\n",
    "    --query 'connectionStrings[0].connectionString' \\\n",
    "    --output tsv\n",
    "CONNECTION_STRING = str(connectionStrings[0])"
   ]
  },
  {
   "attachments": {},
   "cell_type": "markdown",
   "metadata": {},
   "source": [
    "#### 2.5.3. Create MongoDB Collections"
   ]
  },
  {
   "attachments": {},
   "cell_type": "markdown",
   "metadata": {},
   "source": [
    "1. Create advertisements collection"
   ]
  },
  {
   "cell_type": "code",
   "execution_count": null,
   "metadata": {},
   "outputs": [],
   "source": [
    "! printf '[{\"key\": {\"keys\": [\"_id\"]}}]' > idxpolicy-$uniqueId.json"
   ]
  },
  {
   "cell_type": "code",
   "execution_count": null,
   "metadata": {},
   "outputs": [],
   "source": [
    "! az cosmosdb mongodb collection create \\\n",
    "    -a neighborly-cosmosdb \\\n",
    "    -g azure-dev-udacity-prj2 \\\n",
    "    -d neighborlydb \\\n",
    "    -n advertisements \\\n",
    "    --shard '_id' \\\n",
    "    --throughput 400 \\\n",
    "    --idx @idxpolicy-$uniqueId.json"
   ]
  },
  {
   "attachments": {},
   "cell_type": "markdown",
   "metadata": {},
   "source": [
    "2. Create posts collection"
   ]
  },
  {
   "cell_type": "code",
   "execution_count": null,
   "metadata": {},
   "outputs": [],
   "source": [
    "! az cosmosdb mongodb collection create \\\n",
    "    -a neighborly-cosmosdb \\\n",
    "    -g azure-dev-udacity-prj2 \\\n",
    "    -d neighborlydb \\\n",
    "    -n posts \\\n",
    "    --shard '_id' \\\n",
    "    --throughput 400 \\\n",
    "    --idx @idxpolicy-$uniqueId.json"
   ]
  },
  {
   "attachments": {},
   "cell_type": "markdown",
   "metadata": {},
   "source": [
    "3. If you want to delete a collection, use:"
   ]
  },
  {
   "cell_type": "code",
   "execution_count": null,
   "metadata": {},
   "outputs": [],
   "source": [
    "! az cosmosdb mongodb collection delete \\\n",
    "    -a {COSMOSDB_ACCOUNT_NAME} \\\n",
    "    -g {RESOURCE_GROUP} \\\n",
    "    -d {COSMOSDB_DATABASE_NAME} \\\n",
    "    -n advertisements"
   ]
  },
  {
   "attachments": {},
   "cell_type": "markdown",
   "metadata": {},
   "source": [
    "4. View the collection"
   ]
  },
  {
   "cell_type": "code",
   "execution_count": null,
   "metadata": {},
   "outputs": [],
   "source": [
    "! az cosmosdb mongodb collection list \\\n",
    "    --account-name neighborly-cosmosdb \\\n",
    "\t--resource-group azure-dev-udacity-prj2 \\\n",
    "\t--database-name neighborlydb"
   ]
  },
  {
   "attachments": {},
   "cell_type": "markdown",
   "metadata": {},
   "source": [
    "#### 2.5.4. Add data to collection"
   ]
  },
  {
   "attachments": {},
   "cell_type": "markdown",
   "metadata": {},
   "source": [
    "1. Add data to Advertisements Collection - Connection String from 2.5.2"
   ]
  },
  {
   "cell_type": "code",
   "execution_count": null,
   "metadata": {},
   "outputs": [],
   "source": [
    "print(CONNECTION_STRING)"
   ]
  },
  {
   "cell_type": "code",
   "execution_count": null,
   "metadata": {},
   "outputs": [],
   "source": [
    "! mongoimport \\\n",
    "    --uri=f\"{CONNECTION_STRING}\" \\\n",
    "    --db={COSMOSDB_DATABASE_NAME} \\\n",
    "    --collection=advertisements \\\n",
    "    --file='./sample_data/sampleAds.json' \\\n",
    "    --jsonArray"
   ]
  },
  {
   "attachments": {},
   "cell_type": "markdown",
   "metadata": {},
   "source": [
    "2. Add data to Posts Collection - Connection String from 2.5.2"
   ]
  },
  {
   "cell_type": "code",
   "execution_count": null,
   "metadata": {},
   "outputs": [],
   "source": [
    "! mongoimport \\\n",
    "    --uri f\"{CONNECTION_STRING}\" \\\n",
    "    --collection posts \\\n",
    "    --file='./sample_data/samplePosts.json' \\\n",
    "    --jsonArray"
   ]
  },
  {
   "cell_type": "code",
   "execution_count": null,
   "metadata": {},
   "outputs": [],
   "source": [
    "from pymongo import MongoClient"
   ]
  },
  {
   "cell_type": "code",
   "execution_count": null,
   "metadata": {},
   "outputs": [],
   "source": [
    "# Create a MongoDB client\n",
    "client = MongoClient(f\"{CONNECTION_STRING}\")\n",
    "\n",
    "# Access the database and collection\n",
    "db = client[f\"neighborlydb\"]"
   ]
  },
  {
   "cell_type": "code",
   "execution_count": null,
   "metadata": {},
   "outputs": [],
   "source": [
    "advertisements = db[\"advertisements\"]\n",
    "\n",
    "result = advertisements.find({})\n",
    "\n",
    "# Print out the query result\n",
    "for doc in result:\n",
    "    print(doc)\n"
   ]
  },
  {
   "cell_type": "code",
   "execution_count": null,
   "metadata": {},
   "outputs": [],
   "source": [
    "posts = db[\"posts\"]\n",
    "\n",
    "result = posts.find({})\n",
    "\n",
    "# Print out the query result\n",
    "for doc in result:\n",
    "    print(doc)\n"
   ]
  },
  {
   "attachments": {},
   "cell_type": "markdown",
   "metadata": {},
   "source": [
    "### 2.6. Create App Service for Front-End"
   ]
  },
  {
   "attachments": {},
   "cell_type": "markdown",
   "metadata": {},
   "source": [
    "#### 2.6.1. List Runtime Environment"
   ]
  },
  {
   "cell_type": "code",
   "execution_count": null,
   "metadata": {},
   "outputs": [],
   "source": [
    "! az webapp list-runtimes"
   ]
  },
  {
   "attachments": {},
   "cell_type": "markdown",
   "metadata": {},
   "source": [
    "#### 2.6.2. Create App Service Plan"
   ]
  },
  {
   "cell_type": "code",
   "execution_count": null,
   "metadata": {},
   "outputs": [],
   "source": [
    "! az appservice plan create \\\n",
    "    --name {APP_SERVICE_PLAN_NAME} \\\n",
    "    --resource-group {RESOURCE_GROUP} \\\n",
    "    --location {LOCATION} \\\n",
    "    --sku {APP_SKU} \\\n",
    "    --is-linux"
   ]
  },
  {
   "attachments": {},
   "cell_type": "markdown",
   "metadata": {},
   "source": [
    "#### 2.6.3. Create App Service"
   ]
  },
  {
   "cell_type": "code",
   "execution_count": null,
   "metadata": {},
   "outputs": [],
   "source": [
    "! az webapp create \\\n",
    "    --name {APP_NAME} \\\n",
    "    --resource-group {RESOURCE_GROUP} \\\n",
    "    --plan {APP_SERVICE_PLAN_NAME} \\\n",
    "    --runtime {APP_RUNTIME}"
   ]
  },
  {
   "attachments": {},
   "cell_type": "markdown",
   "metadata": {},
   "source": [
    "## 3. Connect Function with CosmosDB"
   ]
  },
  {
   "attachments": {},
   "cell_type": "markdown",
   "metadata": {},
   "source": [
    "### 3.1. Verify the resources"
   ]
  },
  {
   "cell_type": "code",
   "execution_count": null,
   "metadata": {},
   "outputs": [],
   "source": [
    "! az functionapp list  --resource-group {RESOURCE_GROUP}"
   ]
  },
  {
   "attachments": {},
   "cell_type": "markdown",
   "metadata": {},
   "source": [
    "### 3.2. Connect"
   ]
  },
  {
   "cell_type": "code",
   "execution_count": null,
   "metadata": {},
   "outputs": [],
   "source": [
    "! az functionapp config appsettings set \\\n",
    "  --name neighborly-function \\\n",
    "  --resource-group azure-dev-udacity-prj2 \\\n",
    "  --setting MyDbConnection=\"mongodb://neighborly-cosmosdb:E2Uoovo8hP4chc62kH25aelu9oJkYraYdsvfav1V3lO74SiOg7mZeqATqwBkmfSkDkHN4NpcKKzfACDb6SfMCA==@neighborly-cosmosdb.mongo.cosmos.azure.com:10255/?ssl=true&replicaSet=globaldb&retrywrites=false&maxIdleTimeMS=120000&appName=@neighborly-cosmosdb@\""
   ]
  },
  {
   "attachments": {},
   "cell_type": "markdown",
   "metadata": {},
   "source": [
    "## 3. Deploy Functions"
   ]
  },
  {
   "attachments": {},
   "cell_type": "markdown",
   "metadata": {},
   "source": [
    "### 3.1. Test Functions at Local"
   ]
  },
  {
   "cell_type": "code",
   "execution_count": null,
   "metadata": {},
   "outputs": [],
   "source": [
    "! func start"
   ]
  },
  {
   "cell_type": "code",
   "execution_count": null,
   "metadata": {},
   "outputs": [],
   "source": [
    "! func azure functionapp publish {FUNCTION_NAME}"
   ]
  },
  {
   "attachments": {},
   "cell_type": "markdown",
   "metadata": {},
   "source": [
    "## 5. Delete Resources"
   ]
  },
  {
   "attachments": {},
   "cell_type": "markdown",
   "metadata": {},
   "source": [
    "### 5.1. Delete group - delete all resources belong to this group"
   ]
  },
  {
   "cell_type": "code",
   "execution_count": null,
   "metadata": {},
   "outputs": [],
   "source": [
    "! az group delete -n {RESOURCE_GROUP} --verbose"
   ]
  },
  {
   "attachments": {},
   "cell_type": "markdown",
   "metadata": {},
   "source": [
    "### 5.2. Delete each resources"
   ]
  },
  {
   "attachments": {},
   "cell_type": "markdown",
   "metadata": {},
   "source": [
    "1. Delete CosmosDB"
   ]
  },
  {
   "cell_type": "code",
   "execution_count": null,
   "metadata": {},
   "outputs": [],
   "source": []
  },
  {
   "attachments": {},
   "cell_type": "markdown",
   "metadata": {},
   "source": [
    "2. Delete Function App"
   ]
  },
  {
   "cell_type": "code",
   "execution_count": null,
   "metadata": {},
   "outputs": [],
   "source": []
  }
 ],
 "metadata": {
  "kernelspec": {
   "display_name": "azure",
   "language": "python",
   "name": "python3"
  },
  "language_info": {
   "codemirror_mode": {
    "name": "ipython",
    "version": 3
   },
   "file_extension": ".py",
   "mimetype": "text/x-python",
   "name": "python",
   "nbconvert_exporter": "python",
   "pygments_lexer": "ipython3",
   "version": "3.11.3"
  },
  "orig_nbformat": 4
 },
 "nbformat": 4,
 "nbformat_minor": 2
}
