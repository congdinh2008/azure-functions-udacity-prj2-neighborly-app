{
 "cells": [
  {
   "attachments": {},
   "cell_type": "markdown",
   "metadata": {},
   "source": [
    "# Neighborly Functions App - Cloud Developer With MS Azure - Udacity Project II"
   ]
  },
  {
   "attachments": {},
   "cell_type": "markdown",
   "metadata": {},
   "source": [
    "## 1. Add configuration"
   ]
  },
  {
   "cell_type": "code",
   "execution_count": 26,
   "metadata": {},
   "outputs": [],
   "source": [
    "import configparser"
   ]
  },
  {
   "cell_type": "code",
   "execution_count": 27,
   "metadata": {},
   "outputs": [],
   "source": [
    "config = configparser.ConfigParser()\n",
    "config.read_file(open('azure.cfg'))\n",
    "\n",
    "RESOURCE_GROUP                          = config.get('RESOURCE','RESOURCE_GROUP')\n",
    "LOCATION                                = config.get('RESOURCE','LOCATION')\n",
    "COSMOSDB_ACCOUNT_NAME                   = config.get(\"DATABASE\",\"COSMOSDB_ACCOUNT_NAME\")\n",
    "COSMOSDB_KIND                           = config.get(\"DATABASE\",\"COSMOSDB_KIND\")\n",
    "COSMOSDB_SERVER_VERSION                 = config.get(\"DATABASE\",\"COSMOSDB_SERVER_VERSION\")\n",
    "COSMOSDB_DEFAULT_CONSISTENCY_LEVEL      = config.get(\"DATABASE\",\"COSMOSDB_DEFAULT_CONSISTENCY_LEVEL\")\n",
    "COSMOSDB_ENABLE_AUTOMATIC_FAILOVER      = config.get(\"DATABASE\",\"COSMOSDB_ENABLE_AUTOMATIC_FAILOVER\")\n",
    "COSMOSDB_DATBASE_NAME                   = config.get(\"DATABASE\",\"COSMOSDB_DATABASE_NAME\")\n",
    "STORAGE_ACCOUNT_NAME                    = config.get(\"STORAGE\",\"STORAGE_ACCOUNT_NAME\")\n",
    "STORAGE_SKU                             = config.get(\"STORAGE\",\"STORAGE_SKU\")\n",
    "APP_NAME                                = config.get(\"APP\",\"APP_NAME\")\n",
    "APP_SERVICE_PLAN_NAME                   = config.get(\"APP\",\"APP_SERVICE_PLAN_NAME\")\n",
    "APP_SKU                                 = config.get(\"APP\",\"APP_SKU\")\n",
    "APP_RUNTIME                             = config.get(\"APP\",\"APP_RUNTIME\")\n",
    "FUNCTION_NAME                           = config.get(\"FUNCTION\",\"FUNCTION_NAME\")\n",
    "FUNCTION_VERSION                        = config.get(\"FUNCTION\",\"FUNCTION_VERSION\")\n",
    "FUNCTION_OS_TYPE                        = config.get(\"FUNCTION\",\"FUNCTION_OS_TYPE\")\n",
    "FUNCTION_RUNTIME                        = config.get(\"FUNCTION\",\"FUNCTION_RUNTIME\")"
   ]
  },
  {
   "cell_type": "code",
   "execution_count": 15,
   "metadata": {},
   "outputs": [],
   "source": [
    "import os\n",
    "os.environ[\"RESOURCE_GROUP\"]                        = RESOURCE_GROUP\n",
    "os.environ[\"LOCATION\"]                              = LOCATION\n",
    "os.environ[\"COSMOSDB_ACCOUNT_NAME\"]                 = COSMOSDB_ACCOUNT_NAME\n",
    "os.environ[\"COSMOSDB_KIND\"]                         = COSMOSDB_KIND\n",
    "os.environ[\"COSMOSDB_SERVER_VERSION\"]               = COSMOSDB_SERVER_VERSION\n",
    "os.environ[\"COSMOSDB_DEFAULT_CONSISTENCY_LEVEL\"]    = COSMOSDB_DEFAULT_CONSISTENCY_LEVEL\n",
    "os.environ[\"COSMOSDB_ENABLE_AUTOMATIC_FAILOVER\"]    = COSMOSDB_ENABLE_AUTOMATIC_FAILOVER\n",
    "os.environ[\"COSMOSDB_DATBASE_NAME\"]                 = COSMOSDB_DATBASE_NAME\n",
    "os.environ[\"STORAGE_ACCOUNT_NAME\"]                  = STORAGE_ACCOUNT_NAME\n",
    "os.environ[\"STORAGE_SKU\"]                           = STORAGE_SKU\n",
    "os.environ[\"APP_NAME\"]                              = APP_NAME\n",
    "os.environ[\"APP_SERVICE_PLAN_NAME\"]                 = APP_SERVICE_PLAN_NAME\n",
    "os.environ[\"APP_SKU\"]                               = APP_SKU\n",
    "os.environ[\"APP_RUNTIME\"]                           = APP_RUNTIME\n",
    "os.environ[\"FUNCTION_NAME\"]                         = FUNCTION_NAME\n",
    "os.environ[\"FUNCTION_VERSION\"]                      = FUNCTION_VERSION\n",
    "os.environ[\"FUNCTION_OS_TYPE\"]                      = FUNCTION_OS_TYPE\n",
    "os.environ[\"FUNCTION_RUNTIME\"]                      = FUNCTION_RUNTIME"
   ]
  },
  {
   "attachments": {},
   "cell_type": "markdown",
   "metadata": {},
   "source": [
    "## 2. Create Resources"
   ]
  },
  {
   "attachments": {},
   "cell_type": "markdown",
   "metadata": {},
   "source": [
    "### 2.1. Login Azure CLI"
   ]
  },
  {
   "cell_type": "code",
   "execution_count": 2,
   "metadata": {},
   "outputs": [
    {
     "name": "stdout",
     "output_type": "stream",
     "text": [
      "[\n",
      "  {\n",
      "    \"cloudName\": \"AzureCloud\",\n",
      "    \"homeTenantId\": \"f958e84a-92b8-439f-a62d-4f45996b6d07\",\n",
      "    \"id\": \"9f539354-ac81-4e3d-9082-b222d918d1bd\",\n",
      "    \"isDefault\": true,\n",
      "    \"managedByTenants\": [],\n",
      "    \"name\": \"UdacityDS - 18\",\n",
      "    \"state\": \"Enabled\",\n",
      "    \"tenantId\": \"f958e84a-92b8-439f-a62d-4f45996b6d07\",\n",
      "    \"user\": {\n",
      "      \"name\": \"odl_user_230875@udacityhol.onmicrosoft.com\",\n",
      "      \"type\": \"user\"\n",
      "    }\n",
      "  }\n",
      "]\n"
     ]
    },
    {
     "name": "stderr",
     "output_type": "stream",
     "text": [
      "WARNING: A web browser has been opened at https://login.microsoftonline.com/organizations/oauth2/v2.0/authorize. Please continue the login in the web browser. If no web browser is available or if the web browser fails to open, use device code flow with `az login --use-device-code`.\n"
     ]
    }
   ],
   "source": [
    "! az login"
   ]
  },
  {
   "attachments": {},
   "cell_type": "markdown",
   "metadata": {},
   "source": [
    "### 2.2. Create Resource Group"
   ]
  },
  {
   "cell_type": "code",
   "execution_count": 5,
   "metadata": {},
   "outputs": [
    {
     "name": "stdout",
     "output_type": "stream",
     "text": [
      "{\n",
      "  \"id\": \"/subscriptions/9f539354-ac81-4e3d-9082-b222d918d1bd/resourceGroups/azure-dev-udacity-prj2\",\n",
      "  \"location\": \"southeastasia\",\n",
      "  \"managedBy\": null,\n",
      "  \"name\": \"azure-dev-udacity-prj2\",\n",
      "  \"properties\": {\n",
      "    \"provisioningState\": \"Succeeded\"\n",
      "  },\n",
      "  \"tags\": null,\n",
      "  \"type\": \"Microsoft.Resources/resourceGroups\"\n",
      "}\n"
     ]
    }
   ],
   "source": [
    "! az group create \\\n",
    "    --name {RESOURCE_GROUP} \\\n",
    "    --location {LOCATION}"
   ]
  },
  {
   "attachments": {},
   "cell_type": "markdown",
   "metadata": {},
   "source": [
    "### 2.3. Create Storage Account"
   ]
  },
  {
   "cell_type": "code",
   "execution_count": 6,
   "metadata": {},
   "outputs": [
    {
     "name": "stdout",
     "output_type": "stream",
     "text": [
      "{\n",
      "  \"accessTier\": \"Hot\",\n",
      "  \"allowBlobPublicAccess\": true,\n",
      "  \"allowCrossTenantReplication\": null,\n",
      "  \"allowSharedKeyAccess\": null,\n",
      "  \"allowedCopyScope\": null,\n",
      "  \"azureFilesIdentityBasedAuthentication\": null,\n",
      "  \"blobRestoreStatus\": null,\n",
      "  \"creationTime\": \"2023-04-12T06:13:43.856050+00:00\",\n",
      "  \"customDomain\": null,\n",
      "  \"defaultToOAuthAuthentication\": null,\n",
      "  \"dnsEndpointType\": null,\n",
      "  \"enableHttpsTrafficOnly\": true,\n",
      "  \"enableNfsV3\": null,\n",
      "  \"encryption\": {\n",
      "    \"encryptionIdentity\": null,\n",
      "    \"keySource\": \"Microsoft.Storage\",\n",
      "    \"keyVaultProperties\": null,\n",
      "    \"requireInfrastructureEncryption\": null,\n",
      "    \"services\": {\n",
      "      \"blob\": {\n",
      "        \"enabled\": true,\n",
      "        \"keyType\": \"Account\",\n",
      "        \"lastEnabledTime\": \"2023-04-12T06:13:44.215424+00:00\"\n",
      "      },\n",
      "      \"file\": {\n",
      "        \"enabled\": true,\n",
      "        \"keyType\": \"Account\",\n",
      "        \"lastEnabledTime\": \"2023-04-12T06:13:44.215424+00:00\"\n",
      "      },\n",
      "      \"queue\": null,\n",
      "      \"table\": null\n",
      "    }\n",
      "  },\n",
      "  \"extendedLocation\": null,\n",
      "  \"failoverInProgress\": null,\n",
      "  \"geoReplicationStats\": null,\n",
      "  \"id\": \"/subscriptions/9f539354-ac81-4e3d-9082-b222d918d1bd/resourceGroups/azure-dev-udacity-prj2/providers/Microsoft.Storage/storageAccounts/congdinh2023prj2\",\n",
      "  \"identity\": null,\n",
      "  \"immutableStorageWithVersioning\": null,\n",
      "  \"isHnsEnabled\": null,\n",
      "  \"isLocalUserEnabled\": null,\n",
      "  \"isSftpEnabled\": null,\n",
      "  \"keyCreationTime\": {\n",
      "    \"key1\": \"2023-04-12T06:13:43.934170+00:00\",\n",
      "    \"key2\": \"2023-04-12T06:13:43.934170+00:00\"\n",
      "  },\n",
      "  \"keyPolicy\": null,\n",
      "  \"kind\": \"StorageV2\",\n",
      "  \"largeFileSharesState\": null,\n",
      "  \"lastGeoFailoverTime\": null,\n",
      "  \"location\": \"southeastasia\",\n",
      "  \"minimumTlsVersion\": \"TLS1_0\",\n",
      "  \"name\": \"congdinh2023prj2\",\n",
      "  \"networkRuleSet\": {\n",
      "    \"bypass\": \"AzureServices\",\n",
      "    \"defaultAction\": \"Allow\",\n",
      "    \"ipRules\": [],\n",
      "    \"resourceAccessRules\": null,\n",
      "    \"virtualNetworkRules\": []\n",
      "  },\n",
      "  \"primaryEndpoints\": {\n",
      "    \"blob\": \"https://congdinh2023prj2.blob.core.windows.net/\",\n",
      "    \"dfs\": \"https://congdinh2023prj2.dfs.core.windows.net/\",\n",
      "    \"file\": \"https://congdinh2023prj2.file.core.windows.net/\",\n",
      "    \"internetEndpoints\": null,\n",
      "    \"microsoftEndpoints\": null,\n",
      "    \"queue\": \"https://congdinh2023prj2.queue.core.windows.net/\",\n",
      "    \"table\": \"https://congdinh2023prj2.table.core.windows.net/\",\n",
      "    \"web\": \"https://congdinh2023prj2.z23.web.core.windows.net/\"\n",
      "  },\n",
      "  \"primaryLocation\": \"southeastasia\",\n",
      "  \"privateEndpointConnections\": [],\n",
      "  \"provisioningState\": \"Succeeded\",\n",
      "  \"publicNetworkAccess\": null,\n",
      "  \"resourceGroup\": \"azure-dev-udacity-prj2\",\n",
      "  \"routingPreference\": null,\n",
      "  \"sasPolicy\": null,\n",
      "  \"secondaryEndpoints\": null,\n",
      "  \"secondaryLocation\": null,\n",
      "  \"sku\": {\n",
      "    \"name\": \"Standard_LRS\",\n",
      "    \"tier\": \"Standard\"\n",
      "  },\n",
      "  \"statusOfPrimary\": \"available\",\n",
      "  \"statusOfSecondary\": null,\n",
      "  \"storageAccountSkuConversionStatus\": null,\n",
      "  \"tags\": {},\n",
      "  \"type\": \"Microsoft.Storage/storageAccounts\"\n",
      "}\n"
     ]
    },
    {
     "name": "stderr",
     "output_type": "stream",
     "text": [
      "WARNING: The public access to all blobs or containers in the storage account will be disallowed by default in the future, which means default value for --allow-blob-public-access is still null but will be equivalent to false.\n"
     ]
    }
   ],
   "source": [
    "! az storage account create \\\n",
    "    --name {STORAGE_ACCOUNT_NAME} \\\n",
    "    --resource-group {RESOURCE_GROUP} \\\n",
    "    --location {LOCATION} \\\n",
    "    --sku {STORAGE_SKU}"
   ]
  },
  {
   "attachments": {},
   "cell_type": "markdown",
   "metadata": {},
   "source": [
    "### 2.4. Create Function App"
   ]
  },
  {
   "cell_type": "code",
   "execution_count": 7,
   "metadata": {},
   "outputs": [
    {
     "name": "stdout",
     "output_type": "stream",
     "text": [
      "{\n",
      "  \"availabilityState\": \"Normal\",\n",
      "  \"clientAffinityEnabled\": false,\n",
      "  \"clientCertEnabled\": false,\n",
      "  \"clientCertExclusionPaths\": null,\n",
      "  \"clientCertMode\": \"Required\",\n",
      "  \"cloningInfo\": null,\n",
      "  \"containerSize\": 0,\n",
      "  \"customDomainVerificationId\": \"2290CEE8851BEFF4B39F0DD5316902D8E8A2C6F7597FAD759CDA430C19BC121E\",\n",
      "  \"dailyMemoryTimeQuota\": 0,\n",
      "  \"defaultHostName\": \"neighborly-function.azurewebsites.net\",\n",
      "  \"enabled\": true,\n",
      "  \"enabledHostNames\": [\n",
      "    \"neighborly-function.azurewebsites.net\",\n",
      "    \"neighborly-function.scm.azurewebsites.net\"\n",
      "  ],\n",
      "  \"extendedLocation\": null,\n",
      "  \"hostNameSslStates\": [\n",
      "    {\n",
      "      \"hostType\": \"Standard\",\n",
      "      \"ipBasedSslResult\": null,\n",
      "      \"ipBasedSslState\": \"NotConfigured\",\n",
      "      \"name\": \"neighborly-function.azurewebsites.net\",\n",
      "      \"sslState\": \"Disabled\",\n",
      "      \"thumbprint\": null,\n",
      "      \"toUpdate\": null,\n",
      "      \"toUpdateIpBasedSsl\": null,\n",
      "      \"virtualIp\": null\n",
      "    },\n",
      "    {\n",
      "      \"hostType\": \"Repository\",\n",
      "      \"ipBasedSslResult\": null,\n",
      "      \"ipBasedSslState\": \"NotConfigured\",\n",
      "      \"name\": \"neighborly-function.scm.azurewebsites.net\",\n",
      "      \"sslState\": \"Disabled\",\n",
      "      \"thumbprint\": null,\n",
      "      \"toUpdate\": null,\n",
      "      \"toUpdateIpBasedSsl\": null,\n",
      "      \"virtualIp\": null\n",
      "    }\n",
      "  ],\n",
      "  \"hostNames\": [\n",
      "    \"neighborly-function.azurewebsites.net\"\n",
      "  ],\n",
      "  \"hostNamesDisabled\": false,\n",
      "  \"hostingEnvironmentProfile\": null,\n",
      "  \"httpsOnly\": false,\n",
      "  \"hyperV\": false,\n",
      "  \"id\": \"/subscriptions/9f539354-ac81-4e3d-9082-b222d918d1bd/resourceGroups/azure-dev-udacity-prj2/providers/Microsoft.Web/sites/neighborly-function\",\n",
      "  \"identity\": null,\n",
      "  \"inProgressOperationId\": null,\n",
      "  \"isDefaultContainer\": null,\n",
      "  \"isXenon\": false,\n",
      "  \"keyVaultReferenceIdentity\": \"SystemAssigned\",\n",
      "  \"kind\": \"functionapp,linux\",\n",
      "  \"lastModifiedTimeUtc\": \"2023-04-12T06:14:42.923333\",\n",
      "  \"location\": \"southeastasia\",\n",
      "  \"maxNumberOfWorkers\": null,\n",
      "  \"name\": \"neighborly-function\",\n",
      "  \"outboundIpAddresses\": \"52.187.36.104,52.187.129.179,52.187.23.154,52.163.123.89,52.230.18.200\",\n",
      "  \"possibleOutboundIpAddresses\": \"52.187.36.104,52.187.129.179,52.187.23.154,52.163.123.89,52.230.18.200,20.184.9.149,20.191.136.243\",\n",
      "  \"publicNetworkAccess\": null,\n",
      "  \"redundancyMode\": \"None\",\n",
      "  \"repositorySiteName\": \"neighborly-function\",\n",
      "  \"reserved\": true,\n",
      "  \"resourceGroup\": \"azure-dev-udacity-prj2\",\n",
      "  \"scmSiteAlsoStopped\": false,\n",
      "  \"serverFarmId\": \"/subscriptions/9f539354-ac81-4e3d-9082-b222d918d1bd/resourceGroups/azure-dev-udacity-prj2/providers/Microsoft.Web/serverfarms/SoutheastAsiaLinuxDynamicPlan\",\n",
      "  \"siteConfig\": {\n",
      "    \"acrUseManagedIdentityCreds\": false,\n",
      "    \"acrUserManagedIdentityId\": null,\n",
      "    \"alwaysOn\": false,\n",
      "    \"antivirusScanEnabled\": null,\n",
      "    \"apiDefinition\": null,\n",
      "    \"apiManagementConfig\": null,\n",
      "    \"appCommandLine\": null,\n",
      "    \"appSettings\": null,\n",
      "    \"autoHealEnabled\": null,\n",
      "    \"autoHealRules\": null,\n",
      "    \"autoSwapSlotName\": null,\n",
      "    \"azureMonitorLogCategories\": null,\n",
      "    \"azureStorageAccounts\": null,\n",
      "    \"connectionStrings\": null,\n",
      "    \"cors\": null,\n",
      "    \"customAppPoolIdentityAdminState\": null,\n",
      "    \"customAppPoolIdentityTenantState\": null,\n",
      "    \"defaultDocuments\": null,\n",
      "    \"detailedErrorLoggingEnabled\": null,\n",
      "    \"documentRoot\": null,\n",
      "    \"elasticWebAppScaleLimit\": null,\n",
      "    \"experiments\": null,\n",
      "    \"fileChangeAuditEnabled\": null,\n",
      "    \"ftpsState\": null,\n",
      "    \"functionAppScaleLimit\": 0,\n",
      "    \"functionsRuntimeScaleMonitoringEnabled\": null,\n",
      "    \"handlerMappings\": null,\n",
      "    \"healthCheckPath\": null,\n",
      "    \"http20Enabled\": false,\n",
      "    \"http20ProxyFlag\": null,\n",
      "    \"httpLoggingEnabled\": null,\n",
      "    \"ipSecurityRestrictions\": [\n",
      "      {\n",
      "        \"action\": \"Allow\",\n",
      "        \"description\": \"Allow all access\",\n",
      "        \"headers\": null,\n",
      "        \"ipAddress\": \"Any\",\n",
      "        \"name\": \"Allow all\",\n",
      "        \"priority\": 2147483647,\n",
      "        \"subnetMask\": null,\n",
      "        \"subnetTrafficTag\": null,\n",
      "        \"tag\": null,\n",
      "        \"vnetSubnetResourceId\": null,\n",
      "        \"vnetTrafficTag\": null\n",
      "      }\n",
      "    ],\n",
      "    \"ipSecurityRestrictionsDefaultAction\": null,\n",
      "    \"javaContainer\": null,\n",
      "    \"javaContainerVersion\": null,\n",
      "    \"javaVersion\": null,\n",
      "    \"keyVaultReferenceIdentity\": null,\n",
      "    \"limits\": null,\n",
      "    \"linuxFxVersion\": \"\",\n",
      "    \"loadBalancing\": null,\n",
      "    \"localMySqlEnabled\": null,\n",
      "    \"logsDirectorySizeLimit\": null,\n",
      "    \"machineKey\": null,\n",
      "    \"managedPipelineMode\": null,\n",
      "    \"managedServiceIdentityId\": null,\n",
      "    \"metadata\": null,\n",
      "    \"minTlsCipherSuite\": null,\n",
      "    \"minTlsVersion\": null,\n",
      "    \"minimumElasticInstanceCount\": 0,\n",
      "    \"netFrameworkVersion\": null,\n",
      "    \"nodeVersion\": null,\n",
      "    \"numberOfWorkers\": 1,\n",
      "    \"phpVersion\": null,\n",
      "    \"powerShellVersion\": null,\n",
      "    \"preWarmedInstanceCount\": null,\n",
      "    \"publicNetworkAccess\": null,\n",
      "    \"publishingPassword\": null,\n",
      "    \"publishingUsername\": null,\n",
      "    \"push\": null,\n",
      "    \"pythonVersion\": null,\n",
      "    \"remoteDebuggingEnabled\": null,\n",
      "    \"remoteDebuggingVersion\": null,\n",
      "    \"requestTracingEnabled\": null,\n",
      "    \"requestTracingExpirationTime\": null,\n",
      "    \"routingRules\": null,\n",
      "    \"runtimeADUser\": null,\n",
      "    \"runtimeADUserPassword\": null,\n",
      "    \"scmIpSecurityRestrictions\": [\n",
      "      {\n",
      "        \"action\": \"Allow\",\n",
      "        \"description\": \"Allow all access\",\n",
      "        \"headers\": null,\n",
      "        \"ipAddress\": \"Any\",\n",
      "        \"name\": \"Allow all\",\n",
      "        \"priority\": 2147483647,\n",
      "        \"subnetMask\": null,\n",
      "        \"subnetTrafficTag\": null,\n",
      "        \"tag\": null,\n",
      "        \"vnetSubnetResourceId\": null,\n",
      "        \"vnetTrafficTag\": null\n",
      "      }\n",
      "    ],\n",
      "    \"scmIpSecurityRestrictionsDefaultAction\": null,\n",
      "    \"scmIpSecurityRestrictionsUseMain\": null,\n",
      "    \"scmMinTlsVersion\": null,\n",
      "    \"scmType\": null,\n",
      "    \"sitePort\": null,\n",
      "    \"storageType\": null,\n",
      "    \"supportedTlsCipherSuites\": null,\n",
      "    \"tracingOptions\": null,\n",
      "    \"use32BitWorkerProcess\": null,\n",
      "    \"virtualApplications\": null,\n",
      "    \"vnetName\": null,\n",
      "    \"vnetPrivatePortsCount\": null,\n",
      "    \"vnetRouteAllEnabled\": null,\n",
      "    \"webSocketsEnabled\": null,\n",
      "    \"websiteTimeZone\": null,\n",
      "    \"winAuthAdminState\": null,\n",
      "    \"winAuthTenantState\": null,\n",
      "    \"windowsConfiguredStacks\": null,\n",
      "    \"windowsFxVersion\": null,\n",
      "    \"xManagedServiceIdentityId\": null\n",
      "  },\n",
      "  \"slotSwapStatus\": null,\n",
      "  \"state\": \"Running\",\n",
      "  \"storageAccountRequired\": false,\n",
      "  \"suspendedTill\": null,\n",
      "  \"tags\": null,\n",
      "  \"targetSwapSlot\": null,\n",
      "  \"trafficManagerHostNames\": null,\n",
      "  \"type\": \"Microsoft.Web/sites\",\n",
      "  \"usageState\": \"Normal\",\n",
      "  \"virtualNetworkSubnetId\": null,\n",
      "  \"vnetContentShareEnabled\": false,\n",
      "  \"vnetImagePullEnabled\": false,\n",
      "  \"vnetRouteAllEnabled\": false\n",
      "}\n"
     ]
    },
    {
     "name": "stderr",
     "output_type": "stream",
     "text": [
      "WARNING: Your Linux function app 'neighborly-function', that uses a consumption plan has been successfully created but is not active until content is published using Azure Portal or the Functions Core Tools.\n",
      "WARNING: Application Insights \"neighborly-function\" was created for this Function App. You can visit https://portal.azure.com/#resource/subscriptions/9f539354-ac81-4e3d-9082-b222d918d1bd/resourceGroups/azure-dev-udacity-prj2/providers/microsoft.insights/components/neighborly-function/overview to view your Application Insights component\n",
      "WARNING: Error while trying to create and configure an Application Insights for the Function App. Please use the Azure Portal to create and configure the Application Insights, if needed.\n"
     ]
    }
   ],
   "source": [
    "! az functionapp create \\\n",
    "    --name {FUNCTION_NAME}  \\\n",
    "    --storage-account {STORAGE_ACCOUNT_NAME} \\\n",
    "    --consumption-plan-location {LOCATION} \\\n",
    "    --resource-group {RESOURCE_GROUP} \\\n",
    "    --functions-version {FUNCTION_VERSION} \\\n",
    "    --os-type {FUNCTION_OS_TYPE} \\\n",
    "    --runtime {FUNCTION_RUNTIME}"
   ]
  },
  {
   "attachments": {},
   "cell_type": "markdown",
   "metadata": {},
   "source": [
    "### 2.5. Create a CosmosDB manage MongoDB instance"
   ]
  },
  {
   "attachments": {},
   "cell_type": "markdown",
   "metadata": {},
   "source": [
    "#### 2.5.1. Create CosmosDB"
   ]
  },
  {
   "cell_type": "code",
   "execution_count": 8,
   "metadata": {},
   "outputs": [
    {
     "name": "stdout",
     "output_type": "stream",
     "text": [
      "{\n",
      "  \"analyticalStorageConfiguration\": {\n",
      "    \"schemaType\": \"FullFidelity\"\n",
      "  },\n",
      "  \"apiProperties\": {\n",
      "    \"serverVersion\": \"4.2\"\n",
      "  },\n",
      "  \"backupPolicy\": {\n",
      "    \"migrationState\": null,\n",
      "    \"periodicModeProperties\": {\n",
      "      \"backupIntervalInMinutes\": 240,\n",
      "      \"backupRetentionIntervalInHours\": 8,\n",
      "      \"backupStorageRedundancy\": \"Geo\"\n",
      "    },\n",
      "    \"type\": \"Periodic\"\n",
      "  },\n",
      "  \"capabilities\": [\n",
      "    {\n",
      "      \"name\": \"EnableMongo\"\n",
      "    }\n",
      "  ],\n",
      "  \"capacity\": null,\n",
      "  \"connectorOffer\": null,\n",
      "  \"consistencyPolicy\": {\n",
      "    \"defaultConsistencyLevel\": \"Eventual\",\n",
      "    \"maxIntervalInSeconds\": 5,\n",
      "    \"maxStalenessPrefix\": 100\n",
      "  },\n",
      "  \"cors\": [],\n",
      "  \"createMode\": null,\n",
      "  \"databaseAccountOfferType\": \"Standard\",\n",
      "  \"defaultIdentity\": \"FirstPartyIdentity\",\n",
      "  \"disableKeyBasedMetadataWriteAccess\": false,\n",
      "  \"disableLocalAuth\": false,\n",
      "  \"documentEndpoint\": \"https://neighborly-cosmosdb.documents.azure.com:443/\",\n",
      "  \"enableAnalyticalStorage\": false,\n",
      "  \"enableAutomaticFailover\": false,\n",
      "  \"enableCassandraConnector\": null,\n",
      "  \"enableFreeTier\": false,\n",
      "  \"enableMultipleWriteLocations\": false,\n",
      "  \"enablePartitionMerge\": false,\n",
      "  \"failoverPolicies\": [\n",
      "    {\n",
      "      \"failoverPriority\": 0,\n",
      "      \"id\": \"neighborly-cosmosdb-southeastasia\",\n",
      "      \"locationName\": \"Southeast Asia\"\n",
      "    }\n",
      "  ],\n",
      "  \"id\": \"/subscriptions/9f539354-ac81-4e3d-9082-b222d918d1bd/resourceGroups/azure-dev-udacity-prj2/providers/Microsoft.DocumentDB/databaseAccounts/neighborly-cosmosdb\",\n",
      "  \"identity\": {\n",
      "    \"principalId\": null,\n",
      "    \"tenantId\": null,\n",
      "    \"type\": \"None\",\n",
      "    \"userAssignedIdentities\": null\n",
      "  },\n",
      "  \"instanceId\": \"217bc8c2-38d1-4b45-ae0c-dd18fe6e2b0b\",\n",
      "  \"ipRules\": [],\n",
      "  \"isVirtualNetworkFilterEnabled\": false,\n",
      "  \"keyVaultKeyUri\": null,\n",
      "  \"keysMetadata\": {\n",
      "    \"primaryMasterKey\": {\n",
      "      \"generationTime\": \"2023-04-12T06:20:22.247541+00:00\"\n",
      "    },\n",
      "    \"primaryReadonlyMasterKey\": {\n",
      "      \"generationTime\": \"2023-04-12T06:20:22.247541+00:00\"\n",
      "    },\n",
      "    \"secondaryMasterKey\": {\n",
      "      \"generationTime\": \"2023-04-12T06:20:22.247541+00:00\"\n",
      "    },\n",
      "    \"secondaryReadonlyMasterKey\": {\n",
      "      \"generationTime\": \"2023-04-12T06:20:22.247541+00:00\"\n",
      "    }\n",
      "  },\n",
      "  \"kind\": \"MongoDB\",\n",
      "  \"location\": \"Southeast Asia\",\n",
      "  \"locations\": [\n",
      "    {\n",
      "      \"documentEndpoint\": \"https://neighborly-cosmosdb-southeastasia.documents.azure.com:443/\",\n",
      "      \"failoverPriority\": 0,\n",
      "      \"id\": \"neighborly-cosmosdb-southeastasia\",\n",
      "      \"isZoneRedundant\": false,\n",
      "      \"locationName\": \"Southeast Asia\",\n",
      "      \"provisioningState\": \"Succeeded\"\n",
      "    }\n",
      "  ],\n",
      "  \"minimalTlsVersion\": \"Tls12\",\n",
      "  \"name\": \"neighborly-cosmosdb\",\n",
      "  \"networkAclBypass\": \"None\",\n",
      "  \"networkAclBypassResourceIds\": [],\n",
      "  \"privateEndpointConnections\": null,\n",
      "  \"provisioningState\": \"Succeeded\",\n",
      "  \"publicNetworkAccess\": \"Enabled\",\n",
      "  \"readLocations\": [\n",
      "    {\n",
      "      \"documentEndpoint\": \"https://neighborly-cosmosdb-southeastasia.documents.azure.com:443/\",\n",
      "      \"failoverPriority\": 0,\n",
      "      \"id\": \"neighborly-cosmosdb-southeastasia\",\n",
      "      \"isZoneRedundant\": false,\n",
      "      \"locationName\": \"Southeast Asia\",\n",
      "      \"provisioningState\": \"Succeeded\"\n",
      "    }\n",
      "  ],\n",
      "  \"resourceGroup\": \"azure-dev-udacity-prj2\",\n",
      "  \"restoreParameters\": null,\n",
      "  \"systemData\": {\n",
      "    \"createdAt\": \"2023-04-12T06:20:22.247541+00:00\",\n",
      "    \"createdBy\": null,\n",
      "    \"createdByType\": null,\n",
      "    \"lastModifiedAt\": null,\n",
      "    \"lastModifiedBy\": null,\n",
      "    \"lastModifiedByType\": null\n",
      "  },\n",
      "  \"tags\": {},\n",
      "  \"type\": \"Microsoft.DocumentDB/databaseAccounts\",\n",
      "  \"virtualNetworkRules\": [],\n",
      "  \"writeLocations\": [\n",
      "    {\n",
      "      \"documentEndpoint\": \"https://neighborly-cosmosdb-southeastasia.documents.azure.com:443/\",\n",
      "      \"failoverPriority\": 0,\n",
      "      \"id\": \"neighborly-cosmosdb-southeastasia\",\n",
      "      \"isZoneRedundant\": false,\n",
      "      \"locationName\": \"Southeast Asia\",\n",
      "      \"provisioningState\": \"Succeeded\"\n",
      "    }\n",
      "  ]\n",
      "}\n"
     ]
    }
   ],
   "source": [
    "! az cosmosdb create \\\n",
    "    -n {COSMOSDB_ACCOUNT_NAME} \\\n",
    "    -g {RESOURCE_GROUP} \\\n",
    "    --kind {COSMOSDB_KIND} \\\n",
    "    --server-version {COSMOSDB_SERVER_VERSION} \\\n",
    "    --default-consistency-level {COSMOSDB_DEFAULT_CONSISTENCY_LEVEL} \\\n",
    "    --enable-automatic-failover {COSMOSDB_ENABLE_AUTOMATIC_FAILOVER}"
   ]
  },
  {
   "attachments": {},
   "cell_type": "markdown",
   "metadata": {},
   "source": [
    "#### 2.5.2. Get CosmosDB Connection String"
   ]
  },
  {
   "cell_type": "code",
   "execution_count": 29,
   "metadata": {},
   "outputs": [
    {
     "name": "stdout",
     "output_type": "stream",
     "text": [
      "{\n",
      "  \"connectionStrings\": [\n",
      "    {\n",
      "      \"connectionString\": \"mongodb://neighborly-cosmosdb:qEGPNRwDk63EF3cTPMRxXkVZ9J7pQ1oLjO4EkjfkpXhv29nJpVnomzPc6TA6TNvD18wnU3QxzPRUACDbsV32NQ==@neighborly-cosmosdb.mongo.cosmos.azure.com:10255/?ssl=true&replicaSet=globaldb&retrywrites=false&maxIdleTimeMS=120000&appName=@neighborly-cosmosdb@\",\n",
      "      \"description\": \"Primary MongoDB Connection String\"\n",
      "    },\n",
      "    {\n",
      "      \"connectionString\": \"mongodb://neighborly-cosmosdb:FDv9eHC9I4aHpww4Mc1coEdzssYYuWWRY7HfKvj9UjbKCkqEydpfH9iEGhBxODipTb6d8DC7MsqrACDb6W2Eug==@neighborly-cosmosdb.mongo.cosmos.azure.com:10255/?ssl=true&replicaSet=globaldb&retrywrites=false&maxIdleTimeMS=120000&appName=@neighborly-cosmosdb@\",\n",
      "      \"description\": \"Secondary MongoDB Connection String\"\n",
      "    },\n",
      "    {\n",
      "      \"connectionString\": \"mongodb://neighborly-cosmosdb:c4yt0VjbYETqqqNKMFFylHlWqcFQhBzV3vAPorANuERtgFWFlQhkyUYE5qjYlS1ZOV8dAaRtyisAACDbTm3eVA==@neighborly-cosmosdb.mongo.cosmos.azure.com:10255/?ssl=true&replicaSet=globaldb&retrywrites=false&maxIdleTimeMS=120000&appName=@neighborly-cosmosdb@\",\n",
      "      \"description\": \"Primary Read-Only MongoDB Connection String\"\n",
      "    },\n",
      "    {\n",
      "      \"connectionString\": \"mongodb://neighborly-cosmosdb:3fealSXJnHTF92UNp5BQSUXeY1KL6eC7Wu7a8I9nrnpBJw9SVDABHp4iYnUypnJcskNMofB44mVrACDbvwKldg==@neighborly-cosmosdb.mongo.cosmos.azure.com:10255/?ssl=true&replicaSet=globaldb&retrywrites=false&maxIdleTimeMS=120000&appName=@neighborly-cosmosdb@\",\n",
      "      \"description\": \"Secondary Read-Only MongoDB Connection String\"\n",
      "    }\n",
      "  ]\n",
      "}\n"
     ]
    },
    {
     "name": "stderr",
     "output_type": "stream",
     "text": [
      "WARNING: This command has been deprecated and will be removed in a future release. Use 'cosmosdb keys list --type connection-strings' instead.\n"
     ]
    }
   ],
   "source": [
    "! az cosmosdb list-connection-strings --name {COSMOSDB_ACCOUNT_NAME} --resource-group {RESOURCE_GROUP}"
   ]
  },
  {
   "cell_type": "code",
   "execution_count": 28,
   "metadata": {},
   "outputs": [
    {
     "name": "stdout",
     "output_type": "stream",
     "text": [
      "connectionStrings[0].connectionString\n"
     ]
    }
   ],
   "source": [
    "! az cosmosdb keys list \\\n",
    "    --type connection-strings \\\n",
    "    --name {COSMOSDB_ACCOUNT_NAME} \\\n",
    "    --resource-group {RESOURCE_GROUP} \\\n",
    "    --query 'connectionStrings[0].connectionString' \\\n",
    "    --output tsv"
   ]
  },
  {
   "cell_type": "code",
   "execution_count": 30,
   "metadata": {},
   "outputs": [],
   "source": [
    "CONNECTION_STRING = \"mongodb://neighborly-cosmosdb:qEGPNRwDk63EF3cTPMRxXkVZ9J7pQ1oLjO4EkjfkpXhv29nJpVnomzPc6TA6TNvD18wnU3QxzPRUACDbsV32NQ==@neighborly-cosmosdb.mongo.cosmos.azure.com:10255/?ssl=true&replicaSet=globaldb&retrywrites=false&maxIdleTimeMS=120000&appName=@neighborly-cosmosdb@\""
   ]
  },
  {
   "attachments": {},
   "cell_type": "markdown",
   "metadata": {},
   "source": [
    "#### 2.5.3. Create MongoDB Collections"
   ]
  },
  {
   "attachments": {},
   "cell_type": "markdown",
   "metadata": {},
   "source": [
    "1. Create advertisements collection"
   ]
  },
  {
   "cell_type": "code",
   "execution_count": 7,
   "metadata": {},
   "outputs": [
    {
     "name": "stderr",
     "output_type": "stream",
     "text": [
      "'printf' is not recognized as an internal or external command,\n",
      "operable program or batch file.\n"
     ]
    }
   ],
   "source": [
    "! printf '[{\"key\": {\"keys\": [\"_id\"]}}]' > idxpolicy-congdinh2023.json"
   ]
  },
  {
   "cell_type": "code",
   "execution_count": 19,
   "metadata": {},
   "outputs": [],
   "source": [
    "%run variables.sh"
   ]
  },
  {
   "cell_type": "code",
   "execution_count": 21,
   "metadata": {},
   "outputs": [
    {
     "name": "stdout",
     "output_type": "stream",
     "text": [
      "{\n",
      "  \"id\": \"/subscriptions/9f539354-ac81-4e3d-9082-b222d918d1bd/resourceGroups/azure-dev-udacity-prj2/providers/Microsoft.DocumentDB/databaseAccounts/neighborly-cosmosdb/mongodbDatabases/neighborlydb/collections/advertisements\",\n",
      "  \"location\": null,\n",
      "  \"name\": \"advertisements\",\n",
      "  \"options\": null,\n",
      "  \"resource\": {\n",
      "    \"analyticalStorageTtl\": null,\n",
      "    \"etag\": null,\n",
      "    \"id\": \"advertisements\",\n",
      "    \"indexes\": [\n",
      "      {\n",
      "        \"key\": {\n",
      "          \"keys\": [\n",
      "            \"_id\"\n",
      "          ]\n",
      "        },\n",
      "        \"options\": null\n",
      "      }\n",
      "    ],\n",
      "    \"rid\": null,\n",
      "    \"shardKey\": {\n",
      "      \"_id\": \"Hash\"\n",
      "    },\n",
      "    \"ts\": null\n",
      "  },\n",
      "  \"resourceGroup\": \"azure-dev-udacity-prj2\",\n",
      "  \"tags\": null,\n",
      "  \"type\": \"Microsoft.DocumentDB/databaseAccounts/mongodbDatabases/collections\"\n",
      "}\n"
     ]
    }
   ],
   "source": [
    "! az cosmosdb mongodb collection create \\\n",
    "    -a neighborly-cosmosdb \\\n",
    "    -g azure-dev-udacity-prj2 \\\n",
    "    -d neighborlydb \\\n",
    "    -n advertisements \\\n",
    "    --shard _id \\\n",
    "    --throughput 400 \\\n",
    "    --idx @idxpolicy-congdinh2023.json"
   ]
  },
  {
   "attachments": {},
   "cell_type": "markdown",
   "metadata": {},
   "source": [
    "2. Create posts collection"
   ]
  },
  {
   "cell_type": "code",
   "execution_count": 22,
   "metadata": {},
   "outputs": [
    {
     "name": "stdout",
     "output_type": "stream",
     "text": [
      "{\n",
      "  \"id\": \"/subscriptions/9f539354-ac81-4e3d-9082-b222d918d1bd/resourceGroups/azure-dev-udacity-prj2/providers/Microsoft.DocumentDB/databaseAccounts/neighborly-cosmosdb/mongodbDatabases/neighborlydb/collections/posts\",\n",
      "  \"location\": null,\n",
      "  \"name\": \"posts\",\n",
      "  \"options\": null,\n",
      "  \"resource\": {\n",
      "    \"analyticalStorageTtl\": null,\n",
      "    \"etag\": null,\n",
      "    \"id\": \"posts\",\n",
      "    \"indexes\": [\n",
      "      {\n",
      "        \"key\": {\n",
      "          \"keys\": [\n",
      "            \"_id\"\n",
      "          ]\n",
      "        },\n",
      "        \"options\": null\n",
      "      }\n",
      "    ],\n",
      "    \"rid\": null,\n",
      "    \"shardKey\": {\n",
      "      \"_id\": \"Hash\"\n",
      "    },\n",
      "    \"ts\": null\n",
      "  },\n",
      "  \"resourceGroup\": \"azure-dev-udacity-prj2\",\n",
      "  \"tags\": null,\n",
      "  \"type\": \"Microsoft.DocumentDB/databaseAccounts/mongodbDatabases/collections\"\n",
      "}\n"
     ]
    }
   ],
   "source": [
    "! az cosmosdb mongodb collection create \\\n",
    "    -a neighborly-cosmosdb \\\n",
    "    -g azure-dev-udacity-prj2 \\\n",
    "    -d neighborlydb \\\n",
    "    -n posts \\\n",
    "    --shard _id \\\n",
    "    --throughput 400 \\\n",
    "    --idx @idxpolicy-congdinh2023.json"
   ]
  },
  {
   "attachments": {},
   "cell_type": "markdown",
   "metadata": {},
   "source": [
    "3. If you want to delete a collection, use:"
   ]
  },
  {
   "cell_type": "code",
   "execution_count": 17,
   "metadata": {},
   "outputs": [],
   "source": [
    "! az cosmosdb mongodb collection delete \\\n",
    "    -a neighborly-cosmosdb \\\n",
    "    -d neighborlydb \\\n",
    "    -n posts \\\n",
    "    -g azure-dev-udacity-prj2 \\\n",
    "    --yes"
   ]
  },
  {
   "cell_type": "code",
   "execution_count": 18,
   "metadata": {},
   "outputs": [],
   "source": [
    "! az cosmosdb mongodb collection delete \\\n",
    "    -a neighborly-cosmosdb \\\n",
    "    -d neighborlydb \\\n",
    "    -n advertisements \\\n",
    "    -g azure-dev-udacity-prj2 \\\n",
    "    --yes"
   ]
  },
  {
   "attachments": {},
   "cell_type": "markdown",
   "metadata": {},
   "source": [
    "4. View the collection"
   ]
  },
  {
   "cell_type": "code",
   "execution_count": null,
   "metadata": {},
   "outputs": [],
   "source": [
    "! az cosmosdb mongodb collection list \\\n",
    "    --account-name neighborly-cosmosdb \\\n",
    "\t--resource-group azure-dev-udacity-prj2 \\\n",
    "\t--database-name neighborlydb"
   ]
  },
  {
   "attachments": {},
   "cell_type": "markdown",
   "metadata": {},
   "source": [
    "#### 2.5.4. Add data to collection"
   ]
  },
  {
   "attachments": {},
   "cell_type": "markdown",
   "metadata": {},
   "source": [
    "1. Add data to Advertisements Collection - Connection String from 2.5.2"
   ]
  },
  {
   "cell_type": "code",
   "execution_count": 31,
   "metadata": {},
   "outputs": [
    {
     "name": "stdout",
     "output_type": "stream",
     "text": [
      "mongodb://neighborly-cosmosdb:qEGPNRwDk63EF3cTPMRxXkVZ9J7pQ1oLjO4EkjfkpXhv29nJpVnomzPc6TA6TNvD18wnU3QxzPRUACDbsV32NQ==@neighborly-cosmosdb.mongo.cosmos.azure.com:10255/?ssl=true&replicaSet=globaldb&retrywrites=false&maxIdleTimeMS=120000&appName=@neighborly-cosmosdb@\n"
     ]
    }
   ],
   "source": [
    "print(CONNECTION_STRING)"
   ]
  },
  {
   "cell_type": "code",
   "execution_count": 6,
   "metadata": {},
   "outputs": [
    {
     "name": "stderr",
     "output_type": "stream",
     "text": [
      "2023-04-12T13:39:53.244+0700\terror parsing command line options: error parsing uri: scheme must be \"mongodb\" or \"mongodb+srv\"\n",
      "2023-04-12T13:39:53.245+0700\ttry 'mongoimport --help' for more information\n"
     ]
    }
   ],
   "source": [
    "! mongoimport \\\n",
    "    --uri f\"{CONNECTION_STRING}\" \\\n",
    "    --db {COSMOSDB_DATABASE_NAME} \\\n",
    "    --collection advertisements \\\n",
    "    --file='./sample_data/sampleAds.json' \\\n",
    "    --jsonArray"
   ]
  },
  {
   "attachments": {},
   "cell_type": "markdown",
   "metadata": {},
   "source": [
    "2. Add data to Posts Collection - Connection String from 2.5.2"
   ]
  },
  {
   "cell_type": "code",
   "execution_count": 33,
   "metadata": {},
   "outputs": [
    {
     "name": "stderr",
     "output_type": "stream",
     "text": [
      "2023-04-12T14:33:21.238+0700\terror parsing command line options: error parsing uri: scheme must be \"mongodb\" or \"mongodb+srv\"\n",
      "2023-04-12T14:33:21.239+0700\ttry 'mongoimport --help' for more information\n"
     ]
    }
   ],
   "source": [
    "! mongoimport \\\n",
    "    --uri f\"{CONNECTION_STRING}\" \\\n",
    "    --db {COSMOSDB_DATABASE_NAME} \\\n",
    "    --collection posts \\\n",
    "    --file='./sample_data/samplePosts.json' \\\n",
    "    --jsonArray"
   ]
  },
  {
   "cell_type": "code",
   "execution_count": null,
   "metadata": {},
   "outputs": [],
   "source": [
    "from pymongo import MongoClient"
   ]
  },
  {
   "cell_type": "code",
   "execution_count": null,
   "metadata": {},
   "outputs": [],
   "source": [
    "# Create a MongoDB client\n",
    "client = MongoClient(f\"{CONNECTION_STRING}\")\n",
    "\n",
    "# Access the database and collection\n",
    "db = client[f\"neighborlydb\"]"
   ]
  },
  {
   "cell_type": "code",
   "execution_count": null,
   "metadata": {},
   "outputs": [],
   "source": [
    "advertisements = db[\"advertisements\"]\n",
    "\n",
    "result = advertisements.find({})\n",
    "\n",
    "# Print out the query result\n",
    "for doc in result:\n",
    "    print(doc)\n"
   ]
  },
  {
   "cell_type": "code",
   "execution_count": null,
   "metadata": {},
   "outputs": [],
   "source": [
    "posts = db[\"posts\"]\n",
    "\n",
    "result = posts.find({})\n",
    "\n",
    "# Print out the query result\n",
    "for doc in result:\n",
    "    print(doc)\n"
   ]
  },
  {
   "attachments": {},
   "cell_type": "markdown",
   "metadata": {},
   "source": [
    "### 2.6. Create App Service for Front-End"
   ]
  },
  {
   "attachments": {},
   "cell_type": "markdown",
   "metadata": {},
   "source": [
    "1. List Runtime Environment"
   ]
  },
  {
   "cell_type": "code",
   "execution_count": null,
   "metadata": {},
   "outputs": [],
   "source": [
    "! az webapp list-runtimes"
   ]
  },
  {
   "attachments": {},
   "cell_type": "markdown",
   "metadata": {},
   "source": [
    "2. Create App Service Plan"
   ]
  },
  {
   "cell_type": "code",
   "execution_count": null,
   "metadata": {},
   "outputs": [],
   "source": [
    "! az appservice plan create \\\n",
    "    --name {APP_SERVICE_PLAN_NAME} \\\n",
    "    --resource-group {RESOURCE_GROUP} \\\n",
    "    --location {LOCATION} \\\n",
    "    --sku {APP_SKU} \\\n",
    "    --is-linux"
   ]
  },
  {
   "attachments": {},
   "cell_type": "markdown",
   "metadata": {},
   "source": [
    "3. Create App Service"
   ]
  },
  {
   "cell_type": "code",
   "execution_count": null,
   "metadata": {},
   "outputs": [],
   "source": [
    "! az webapp create \\\n",
    "    --name {APP_NAME} \\\n",
    "    --resource-group {RESOURCE_GROUP} \\\n",
    "    --plan {APP_SERVICE_PLAN_NAME} \\\n",
    "    --runtime {APP_RUNTIME}"
   ]
  },
  {
   "attachments": {},
   "cell_type": "markdown",
   "metadata": {},
   "source": [
    "## 3. Connect Function with CosmosDB"
   ]
  },
  {
   "attachments": {},
   "cell_type": "markdown",
   "metadata": {},
   "source": [
    "1. Verify the resources"
   ]
  },
  {
   "cell_type": "code",
   "execution_count": null,
   "metadata": {},
   "outputs": [],
   "source": [
    "! az functionapp list  --resource-group {RESOURCE_GROUP}"
   ]
  },
  {
   "attachments": {},
   "cell_type": "markdown",
   "metadata": {},
   "source": [
    "2. Connect"
   ]
  },
  {
   "cell_type": "code",
   "execution_count": null,
   "metadata": {},
   "outputs": [],
   "source": [
    "! az functionapp config appsettings set \\\n",
    "  --name neighborly-function \\\n",
    "  --resource-group azure-dev-udacity-prj2 \\\n",
    "  --setting MyDbConnection=\"mongodb://neighborly-cosmosdb:E2Uoovo8hP4chc62kH25aelu9oJkYraYdsvfav1V3lO74SiOg7mZeqATqwBkmfSkDkHN4NpcKKzfACDb6SfMCA==@neighborly-cosmosdb.mongo.cosmos.azure.com:10255/?ssl=true&replicaSet=globaldb&retrywrites=false&maxIdleTimeMS=120000&appName=@neighborly-cosmosdb@\""
   ]
  },
  {
   "attachments": {},
   "cell_type": "markdown",
   "metadata": {},
   "source": [
    "## 4. Deploy Functions"
   ]
  },
  {
   "attachments": {},
   "cell_type": "markdown",
   "metadata": {},
   "source": [
    "1. Test Functions at Local"
   ]
  },
  {
   "cell_type": "code",
   "execution_count": null,
   "metadata": {},
   "outputs": [],
   "source": [
    "! func start"
   ]
  },
  {
   "attachments": {},
   "cell_type": "markdown",
   "metadata": {},
   "source": [
    "2. Publish functions"
   ]
  },
  {
   "cell_type": "code",
   "execution_count": null,
   "metadata": {},
   "outputs": [],
   "source": [
    "! func azure functionapp publish {FUNCTION_NAME}"
   ]
  },
  {
   "attachments": {},
   "cell_type": "markdown",
   "metadata": {},
   "source": [
    "## 5 Dockerize Functions and Deploy to AKS"
   ]
  },
  {
   "cell_type": "code",
   "execution_count": null,
   "metadata": {},
   "outputs": [],
   "source": [
    "! source variables.sh"
   ]
  },
  {
   "attachments": {},
   "cell_type": "markdown",
   "metadata": {},
   "source": [
    "### 5.1. Create a Dockerfile"
   ]
  },
  {
   "cell_type": "code",
   "execution_count": null,
   "metadata": {},
   "outputs": [],
   "source": [
    "! func init --docker-only --python"
   ]
  },
  {
   "attachments": {},
   "cell_type": "markdown",
   "metadata": {},
   "source": [
    "### 5.2. Build the image using the Dockerfile"
   ]
  },
  {
   "cell_type": "code",
   "execution_count": null,
   "metadata": {},
   "outputs": [],
   "source": [
    "! docker build -t $imageName:$imageTag ."
   ]
  },
  {
   "cell_type": "code",
   "execution_count": null,
   "metadata": {},
   "outputs": [],
   "source": [
    "! docker run -p 7071:7071 -it $imageName:$imageTag"
   ]
  },
  {
   "attachments": {},
   "cell_type": "markdown",
   "metadata": {},
   "source": [
    "### 5.3. Create a repository in ACR service"
   ]
  },
  {
   "attachments": {},
   "cell_type": "markdown",
   "metadata": {},
   "source": [
    "1. Create Azure container registry"
   ]
  },
  {
   "cell_type": "code",
   "execution_count": null,
   "metadata": {},
   "outputs": [],
   "source": [
    "! az acr create --resource-group $resourceGroup --name $containerRegistry --sku Basic"
   ]
  },
  {
   "attachments": {},
   "cell_type": "markdown",
   "metadata": {},
   "source": [
    "2. Login Azure container registry"
   ]
  },
  {
   "cell_type": "code",
   "execution_count": null,
   "metadata": {},
   "outputs": [],
   "source": [
    "! az acr login --name $containerRegistry"
   ]
  },
  {
   "attachments": {},
   "cell_type": "markdown",
   "metadata": {},
   "source": [
    "3. Show container registry"
   ]
  },
  {
   "cell_type": "code",
   "execution_count": null,
   "metadata": {},
   "outputs": [],
   "source": [
    "# Both these commands will give a same result\n",
    "! az acr show --name $containerRegistry --query loginServer --output table\n",
    "#! az acr list --resource-group $resourceGroup --query \"[].{acrLoginServer:loginServer}\" --output table"
   ]
  },
  {
   "attachments": {},
   "cell_type": "markdown",
   "metadata": {},
   "source": [
    "4. List docker images"
   ]
  },
  {
   "cell_type": "code",
   "execution_count": null,
   "metadata": {},
   "outputs": [],
   "source": [
    "# List the local images\n",
    "! docker images"
   ]
  },
  {
   "attachments": {},
   "cell_type": "markdown",
   "metadata": {},
   "source": [
    "5. Push image to Azure container registry"
   ]
  },
  {
   "cell_type": "code",
   "execution_count": null,
   "metadata": {},
   "outputs": [],
   "source": [
    "# Tag the image with the same name as the ACR respository, else, the push will fail.\n",
    "# SYNTAX \n",
    "# docker tag <name:tag> <ACR-respository>.azurecr.io/<name:tag>\n",
    "! docker tag $imageName:$imageTag $containerRegistry.azurecr.io/$imageName:$imageTag"
   ]
  },
  {
   "attachments": {},
   "cell_type": "markdown",
   "metadata": {},
   "source": [
    "- Enable Admin User in Access Keys"
   ]
  },
  {
   "cell_type": "code",
   "execution_count": null,
   "metadata": {},
   "outputs": [],
   "source": [
    "! az acr update --name $containerRegistry --admin-enabled true"
   ]
  },
  {
   "attachments": {},
   "cell_type": "markdown",
   "metadata": {},
   "source": [
    "- Verify Admin User Status"
   ]
  },
  {
   "cell_type": "code",
   "execution_count": null,
   "metadata": {},
   "outputs": [],
   "source": [
    "! az acr show --name $containerRegistry --query \"adminUserEnabled\""
   ]
  },
  {
   "cell_type": "code",
   "execution_count": null,
   "metadata": {},
   "outputs": [],
   "source": [
    "# Go to Container Registry >> Settings >> Access Keys and enable the Admin user. \n",
    "# Use those credentials to login from your terminal. \n",
    "! docker login $containerRegistry.azurecr.io"
   ]
  },
  {
   "cell_type": "code",
   "execution_count": null,
   "metadata": {},
   "outputs": [],
   "source": [
    "! docker push $containerRegistry.azurecr.io/$imageName:$imageTag"
   ]
  },
  {
   "attachments": {},
   "cell_type": "markdown",
   "metadata": {},
   "source": [
    "6. View Azure container registry image"
   ]
  },
  {
   "cell_type": "code",
   "execution_count": null,
   "metadata": {},
   "outputs": [],
   "source": [
    "# View the newly pushed image in the ACR respository\n",
    "! az acr repository list --name $containerRegistry --output table"
   ]
  },
  {
   "attachments": {},
   "cell_type": "markdown",
   "metadata": {},
   "source": [
    "### 5.3. Create an AKS cluster\n",
    "\n",
    "1. Create an AKS cluster"
   ]
  },
  {
   "cell_type": "code",
   "execution_count": null,
   "metadata": {},
   "outputs": [],
   "source": [
    "! az aks create \\\n",
    "    --name $AKSCluster \\\n",
    "    --resource-group $resourceGroup \\\n",
    "    --node-count 2 \\\n",
    "    --generate-ssh-keys \\\n",
    "    --attach-acr $containerRegistry \\\n",
    "    --location $region"
   ]
  },
  {
   "attachments": {},
   "cell_type": "markdown",
   "metadata": {},
   "source": [
    "2. Get credentials for your container service"
   ]
  },
  {
   "cell_type": "code",
   "execution_count": null,
   "metadata": {},
   "outputs": [],
   "source": [
    "! az aks get-credentials \\\n",
    "    --name $AKSCluster \\\n",
    "    --resource-group $resourceGroup"
   ]
  },
  {
   "attachments": {},
   "cell_type": "markdown",
   "metadata": {},
   "source": [
    "3. Verify the connection to your cluster and view the cluster nodes using"
   ]
  },
  {
   "cell_type": "code",
   "execution_count": null,
   "metadata": {},
   "outputs": [],
   "source": [
    "! kubectl get nodes\n",
    "#Example output:\n",
    "#NAME                                STATUS   ROLES   AGE     VERSION\n",
    "#aks-nodepool1-38114521-vmss000000   Ready    agent   3m47s   v1.21.9\n",
    "#aks-nodepool1-38114521-vmss000001   Ready    agent   3m45s   v1.21.9"
   ]
  },
  {
   "attachments": {},
   "cell_type": "markdown",
   "metadata": {},
   "source": [
    "4. Deploy the App to Kubernetes"
   ]
  },
  {
   "cell_type": "code",
   "execution_count": null,
   "metadata": {},
   "outputs": [],
   "source": [
    "! func kubernetes deploy \\\n",
    "    --name $functionApp \\\n",
    "    --registry $containerRegistry \\\n",
    "    [--dry-run > deploy.yml]"
   ]
  },
  {
   "cell_type": "code",
   "execution_count": null,
   "metadata": {},
   "outputs": [],
   "source": [
    "! kubectl config get-contexts"
   ]
  },
  {
   "attachments": {},
   "cell_type": "markdown",
   "metadata": {},
   "source": [
    "## 6. Delete Resources"
   ]
  },
  {
   "cell_type": "code",
   "execution_count": null,
   "metadata": {},
   "outputs": [],
   "source": [
    "! az group delete -n {RESOURCE_GROUP} --verbose"
   ]
  }
 ],
 "metadata": {
  "kernelspec": {
   "display_name": "azure",
   "language": "python",
   "name": "python3"
  },
  "language_info": {
   "codemirror_mode": {
    "name": "ipython",
    "version": 3
   },
   "file_extension": ".py",
   "mimetype": "text/x-python",
   "name": "python",
   "nbconvert_exporter": "python",
   "pygments_lexer": "ipython3",
   "version": "3.8.10"
  },
  "orig_nbformat": 4
 },
 "nbformat": 4,
 "nbformat_minor": 2
}
