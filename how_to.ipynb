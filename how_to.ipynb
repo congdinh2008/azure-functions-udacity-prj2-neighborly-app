{
 "cells": [
  {
   "attachments": {},
   "cell_type": "markdown",
   "metadata": {},
   "source": [
    "# Neighborly Functions App - Cloud Developer With MS Azure - Udacity Project II"
   ]
  },
  {
   "attachments": {},
   "cell_type": "markdown",
   "metadata": {},
   "source": [
    "## 1. Add configuration"
   ]
  },
  {
   "cell_type": "code",
   "execution_count": 1,
   "metadata": {},
   "outputs": [],
   "source": [
    "%run variables.sh"
   ]
  },
  {
   "attachments": {},
   "cell_type": "markdown",
   "metadata": {},
   "source": [
    "## 2. Create Resources"
   ]
  },
  {
   "attachments": {},
   "cell_type": "markdown",
   "metadata": {},
   "source": [
    "### 2.1. Login Azure CLI"
   ]
  },
  {
   "cell_type": "code",
   "execution_count": 2,
   "metadata": {},
   "outputs": [
    {
     "name": "stdout",
     "output_type": "stream",
     "text": [
      "\u001b[93mA web browser has been opened at https://login.microsoftonline.com/organizations/oauth2/v2.0/authorize. Please continue the login in the web browser. If no web browser is available or if the web browser fails to open, use device code flow with `az login --use-device-code`.\u001b[0m\n",
      "[\n",
      "  {\n",
      "    \"cloudName\": \"AzureCloud\",\n",
      "    \"homeTenantId\": \"f958e84a-92b8-439f-a62d-4f45996b6d07\",\n",
      "    \"id\": \"9ed10bd5-8420-4fdf-b87f-621a5ee7dd47\",\n",
      "    \"isDefault\": true,\n",
      "    \"managedByTenants\": [],\n",
      "    \"name\": \"UdacityDS - 05\",\n",
      "    \"state\": \"Enabled\",\n",
      "    \"tenantId\": \"f958e84a-92b8-439f-a62d-4f45996b6d07\",\n",
      "    \"user\": {\n",
      "      \"name\": \"odl_user_231027@udacityhol.onmicrosoft.com\",\n",
      "      \"type\": \"user\"\n",
      "    }\n",
      "  }\n",
      "]\n"
     ]
    }
   ],
   "source": [
    "! az login"
   ]
  },
  {
   "attachments": {},
   "cell_type": "markdown",
   "metadata": {},
   "source": [
    "### 2.2. Create Resource Group"
   ]
  },
  {
   "cell_type": "code",
   "execution_count": 3,
   "metadata": {},
   "outputs": [
    {
     "name": "stdout",
     "output_type": "stream",
     "text": [
      "{\n",
      "  \"id\": \"/subscriptions/9ed10bd5-8420-4fdf-b87f-621a5ee7dd47/resourceGroups/azure-dev-udacity-prj2\",\n",
      "  \"location\": \"southeastasia\",\n",
      "  \"managedBy\": null,\n",
      "  \"name\": \"azure-dev-udacity-prj2\",\n",
      "  \"properties\": {\n",
      "    \"provisioningState\": \"Succeeded\"\n",
      "  },\n",
      "  \"tags\": null,\n",
      "  \"type\": \"Microsoft.Resources/resourceGroups\"\n",
      "}\n"
     ]
    }
   ],
   "source": [
    "! az group create \\\n",
    "    --name $resourceGroup \\\n",
    "    --location $location"
   ]
  },
  {
   "attachments": {},
   "cell_type": "markdown",
   "metadata": {},
   "source": [
    "### 2.3. Create Storage Account"
   ]
  },
  {
   "cell_type": "code",
   "execution_count": 4,
   "metadata": {},
   "outputs": [
    {
     "name": "stdout",
     "output_type": "stream",
     "text": [
      "\u001b[93mThe public access to all blobs or containers in the storage account will be disallowed by default in the future, which means default value for --allow-blob-public-access is still null but will be equivalent to false.\u001b[0m\n",
      "\u001b[K{\\ Finished ..\n",
      "  \"accessTier\": \"Hot\",\n",
      "  \"allowBlobPublicAccess\": true,\n",
      "  \"allowCrossTenantReplication\": null,\n",
      "  \"allowSharedKeyAccess\": null,\n",
      "  \"allowedCopyScope\": null,\n",
      "  \"azureFilesIdentityBasedAuthentication\": null,\n",
      "  \"blobRestoreStatus\": null,\n",
      "  \"creationTime\": \"2023-04-13T19:01:39.217494+00:00\",\n",
      "  \"customDomain\": null,\n",
      "  \"defaultToOAuthAuthentication\": null,\n",
      "  \"dnsEndpointType\": null,\n",
      "  \"enableHttpsTrafficOnly\": true,\n",
      "  \"enableNfsV3\": null,\n",
      "  \"encryption\": {\n",
      "    \"encryptionIdentity\": null,\n",
      "    \"keySource\": \"Microsoft.Storage\",\n",
      "    \"keyVaultProperties\": null,\n",
      "    \"requireInfrastructureEncryption\": null,\n",
      "    \"services\": {\n",
      "      \"blob\": {\n",
      "        \"enabled\": true,\n",
      "        \"keyType\": \"Account\",\n",
      "        \"lastEnabledTime\": \"2023-04-13T19:01:39.608120+00:00\"\n",
      "      },\n",
      "      \"file\": {\n",
      "        \"enabled\": true,\n",
      "        \"keyType\": \"Account\",\n",
      "        \"lastEnabledTime\": \"2023-04-13T19:01:39.608120+00:00\"\n",
      "      },\n",
      "      \"queue\": null,\n",
      "      \"table\": null\n",
      "    }\n",
      "  },\n",
      "  \"extendedLocation\": null,\n",
      "  \"failoverInProgress\": null,\n",
      "  \"geoReplicationStats\": null,\n",
      "  \"id\": \"/subscriptions/9ed10bd5-8420-4fdf-b87f-621a5ee7dd47/resourceGroups/azure-dev-udacity-prj2/providers/Microsoft.Storage/storageAccounts/congdinh2023prj2\",\n",
      "  \"identity\": null,\n",
      "  \"immutableStorageWithVersioning\": null,\n",
      "  \"isHnsEnabled\": null,\n",
      "  \"isLocalUserEnabled\": null,\n",
      "  \"isSftpEnabled\": null,\n",
      "  \"keyCreationTime\": {\n",
      "    \"key1\": \"2023-04-13T19:01:39.311243+00:00\",\n",
      "    \"key2\": \"2023-04-13T19:01:39.311243+00:00\"\n",
      "  },\n",
      "  \"keyPolicy\": null,\n",
      "  \"kind\": \"StorageV2\",\n",
      "  \"largeFileSharesState\": null,\n",
      "  \"lastGeoFailoverTime\": null,\n",
      "  \"location\": \"southeastasia\",\n",
      "  \"minimumTlsVersion\": \"TLS1_0\",\n",
      "  \"name\": \"congdinh2023prj2\",\n",
      "  \"networkRuleSet\": {\n",
      "    \"bypass\": \"AzureServices\",\n",
      "    \"defaultAction\": \"Allow\",\n",
      "    \"ipRules\": [],\n",
      "    \"resourceAccessRules\": null,\n",
      "    \"virtualNetworkRules\": []\n",
      "  },\n",
      "  \"primaryEndpoints\": {\n",
      "    \"blob\": \"https://congdinh2023prj2.blob.core.windows.net/\",\n",
      "    \"dfs\": \"https://congdinh2023prj2.dfs.core.windows.net/\",\n",
      "    \"file\": \"https://congdinh2023prj2.file.core.windows.net/\",\n",
      "    \"internetEndpoints\": null,\n",
      "    \"microsoftEndpoints\": null,\n",
      "    \"queue\": \"https://congdinh2023prj2.queue.core.windows.net/\",\n",
      "    \"table\": \"https://congdinh2023prj2.table.core.windows.net/\",\n",
      "    \"web\": \"https://congdinh2023prj2.z23.web.core.windows.net/\"\n",
      "  },\n",
      "  \"primaryLocation\": \"southeastasia\",\n",
      "  \"privateEndpointConnections\": [],\n",
      "  \"provisioningState\": \"Succeeded\",\n",
      "  \"publicNetworkAccess\": null,\n",
      "  \"resourceGroup\": \"azure-dev-udacity-prj2\",\n",
      "  \"routingPreference\": null,\n",
      "  \"sasPolicy\": null,\n",
      "  \"secondaryEndpoints\": null,\n",
      "  \"secondaryLocation\": null,\n",
      "  \"sku\": {\n",
      "    \"name\": \"Standard_LRS\",\n",
      "    \"tier\": \"Standard\"\n",
      "  },\n",
      "  \"statusOfPrimary\": \"available\",\n",
      "  \"statusOfSecondary\": null,\n",
      "  \"storageAccountSkuConversionStatus\": null,\n",
      "  \"tags\": {},\n",
      "  \"type\": \"Microsoft.Storage/storageAccounts\"\n",
      "}\n"
     ]
    }
   ],
   "source": [
    "! az storage account create \\\n",
    "    --name $storageAccountName \\\n",
    "    --resource-group $resourceGroup \\\n",
    "    --location $location \\\n",
    "    --sku $storageSku"
   ]
  },
  {
   "attachments": {},
   "cell_type": "markdown",
   "metadata": {},
   "source": [
    "### 2.4. Create Function App"
   ]
  },
  {
   "cell_type": "code",
   "execution_count": 5,
   "metadata": {},
   "outputs": [
    {
     "name": "stdout",
     "output_type": "stream",
     "text": [
      "\u001b[K\u001b[93mYour Linux function app 'neighborly-function', that uses a consumption plan has been successfully created but is not active until content is published using Azure Portal or the Functions Core Tools.\u001b[0m\n",
      "\u001b[93mApplication Insights \"neighborly-function\" was created for this Function App. You can visit https://portal.azure.com/#resource/subscriptions/9ed10bd5-8420-4fdf-b87f-621a5ee7dd47/resourceGroups/azure-dev-udacity-prj2/providers/microsoft.insights/components/neighborly-function/overview to view your Application Insights component\u001b[0m\n",
      "{\n",
      "  \"availabilityState\": \"Normal\",\n",
      "  \"clientAffinityEnabled\": false,\n",
      "  \"clientCertEnabled\": false,\n",
      "  \"clientCertExclusionPaths\": null,\n",
      "  \"clientCertMode\": \"Required\",\n",
      "  \"cloningInfo\": null,\n",
      "  \"containerSize\": 0,\n",
      "  \"customDomainVerificationId\": \"782FA85143F7169AA64AF0D5CCE3BBCB52BA6F6869BCC490E439AFEF6573CA58\",\n",
      "  \"dailyMemoryTimeQuota\": 0,\n",
      "  \"defaultHostName\": \"neighborly-function.azurewebsites.net\",\n",
      "  \"enabled\": true,\n",
      "  \"enabledHostNames\": [\n",
      "    \"neighborly-function.azurewebsites.net\",\n",
      "    \"neighborly-function.scm.azurewebsites.net\"\n",
      "  ],\n",
      "  \"extendedLocation\": null,\n",
      "  \"hostNameSslStates\": [\n",
      "    {\n",
      "      \"hostType\": \"Standard\",\n",
      "      \"ipBasedSslResult\": null,\n",
      "      \"ipBasedSslState\": \"NotConfigured\",\n",
      "      \"name\": \"neighborly-function.azurewebsites.net\",\n",
      "      \"sslState\": \"Disabled\",\n",
      "      \"thumbprint\": null,\n",
      "      \"toUpdate\": null,\n",
      "      \"toUpdateIpBasedSsl\": null,\n",
      "      \"virtualIp\": null\n",
      "    },\n",
      "    {\n",
      "      \"hostType\": \"Repository\",\n",
      "      \"ipBasedSslResult\": null,\n",
      "      \"ipBasedSslState\": \"NotConfigured\",\n",
      "      \"name\": \"neighborly-function.scm.azurewebsites.net\",\n",
      "      \"sslState\": \"Disabled\",\n",
      "      \"thumbprint\": null,\n",
      "      \"toUpdate\": null,\n",
      "      \"toUpdateIpBasedSsl\": null,\n",
      "      \"virtualIp\": null\n",
      "    }\n",
      "  ],\n",
      "  \"hostNames\": [\n",
      "    \"neighborly-function.azurewebsites.net\"\n",
      "  ],\n",
      "  \"hostNamesDisabled\": false,\n",
      "  \"hostingEnvironmentProfile\": null,\n",
      "  \"httpsOnly\": false,\n",
      "  \"hyperV\": false,\n",
      "  \"id\": \"/subscriptions/9ed10bd5-8420-4fdf-b87f-621a5ee7dd47/resourceGroups/azure-dev-udacity-prj2/providers/Microsoft.Web/sites/neighborly-function\",\n",
      "  \"identity\": null,\n",
      "  \"inProgressOperationId\": null,\n",
      "  \"isDefaultContainer\": null,\n",
      "  \"isXenon\": false,\n",
      "  \"keyVaultReferenceIdentity\": \"SystemAssigned\",\n",
      "  \"kind\": \"functionapp,linux\",\n",
      "  \"lastModifiedTimeUtc\": \"2023-04-13T19:02:26.583333\",\n",
      "  \"location\": \"southeastasia\",\n",
      "  \"maxNumberOfWorkers\": null,\n",
      "  \"name\": \"neighborly-function\",\n",
      "  \"outboundIpAddresses\": \"52.187.36.104,52.187.129.179,52.187.23.154,52.163.123.89,52.230.18.200\",\n",
      "  \"possibleOutboundIpAddresses\": \"52.187.36.104,52.187.129.179,52.187.23.154,52.163.123.89,52.230.18.200,20.184.9.149,20.191.136.243\",\n",
      "  \"publicNetworkAccess\": null,\n",
      "  \"redundancyMode\": \"None\",\n",
      "  \"repositorySiteName\": \"neighborly-function\",\n",
      "  \"reserved\": true,\n",
      "  \"resourceGroup\": \"azure-dev-udacity-prj2\",\n",
      "  \"scmSiteAlsoStopped\": false,\n",
      "  \"serverFarmId\": \"/subscriptions/9ed10bd5-8420-4fdf-b87f-621a5ee7dd47/resourceGroups/azure-dev-udacity-prj2/providers/Microsoft.Web/serverfarms/SoutheastAsiaLinuxDynamicPlan\",\n",
      "  \"siteConfig\": {\n",
      "    \"acrUseManagedIdentityCreds\": false,\n",
      "    \"acrUserManagedIdentityId\": null,\n",
      "    \"alwaysOn\": false,\n",
      "    \"antivirusScanEnabled\": null,\n",
      "    \"apiDefinition\": null,\n",
      "    \"apiManagementConfig\": null,\n",
      "    \"appCommandLine\": null,\n",
      "    \"appSettings\": null,\n",
      "    \"autoHealEnabled\": null,\n",
      "    \"autoHealRules\": null,\n",
      "    \"autoSwapSlotName\": null,\n",
      "    \"azureMonitorLogCategories\": null,\n",
      "    \"azureStorageAccounts\": null,\n",
      "    \"connectionStrings\": null,\n",
      "    \"cors\": null,\n",
      "    \"customAppPoolIdentityAdminState\": null,\n",
      "    \"customAppPoolIdentityTenantState\": null,\n",
      "    \"defaultDocuments\": null,\n",
      "    \"detailedErrorLoggingEnabled\": null,\n",
      "    \"documentRoot\": null,\n",
      "    \"elasticWebAppScaleLimit\": null,\n",
      "    \"experiments\": null,\n",
      "    \"fileChangeAuditEnabled\": null,\n",
      "    \"ftpsState\": null,\n",
      "    \"functionAppScaleLimit\": 0,\n",
      "    \"functionsRuntimeScaleMonitoringEnabled\": null,\n",
      "    \"handlerMappings\": null,\n",
      "    \"healthCheckPath\": null,\n",
      "    \"http20Enabled\": false,\n",
      "    \"http20ProxyFlag\": null,\n",
      "    \"httpLoggingEnabled\": null,\n",
      "    \"ipSecurityRestrictions\": [\n",
      "      {\n",
      "        \"action\": \"Allow\",\n",
      "        \"description\": \"Allow all access\",\n",
      "        \"headers\": null,\n",
      "        \"ipAddress\": \"Any\",\n",
      "        \"name\": \"Allow all\",\n",
      "        \"priority\": 2147483647,\n",
      "        \"subnetMask\": null,\n",
      "        \"subnetTrafficTag\": null,\n",
      "        \"tag\": null,\n",
      "        \"vnetSubnetResourceId\": null,\n",
      "        \"vnetTrafficTag\": null\n",
      "      }\n",
      "    ],\n",
      "    \"ipSecurityRestrictionsDefaultAction\": null,\n",
      "    \"javaContainer\": null,\n",
      "    \"javaContainerVersion\": null,\n",
      "    \"javaVersion\": null,\n",
      "    \"keyVaultReferenceIdentity\": null,\n",
      "    \"limits\": null,\n",
      "    \"linuxFxVersion\": \"\",\n",
      "    \"loadBalancing\": null,\n",
      "    \"localMySqlEnabled\": null,\n",
      "    \"logsDirectorySizeLimit\": null,\n",
      "    \"machineKey\": null,\n",
      "    \"managedPipelineMode\": null,\n",
      "    \"managedServiceIdentityId\": null,\n",
      "    \"metadata\": null,\n",
      "    \"minTlsCipherSuite\": null,\n",
      "    \"minTlsVersion\": null,\n",
      "    \"minimumElasticInstanceCount\": 0,\n",
      "    \"netFrameworkVersion\": null,\n",
      "    \"nodeVersion\": null,\n",
      "    \"numberOfWorkers\": 1,\n",
      "    \"phpVersion\": null,\n",
      "    \"powerShellVersion\": null,\n",
      "    \"preWarmedInstanceCount\": null,\n",
      "    \"publicNetworkAccess\": null,\n",
      "    \"publishingPassword\": null,\n",
      "    \"publishingUsername\": null,\n",
      "    \"push\": null,\n",
      "    \"pythonVersion\": null,\n",
      "    \"remoteDebuggingEnabled\": null,\n",
      "    \"remoteDebuggingVersion\": null,\n",
      "    \"requestTracingEnabled\": null,\n",
      "    \"requestTracingExpirationTime\": null,\n",
      "    \"routingRules\": null,\n",
      "    \"runtimeADUser\": null,\n",
      "    \"runtimeADUserPassword\": null,\n",
      "    \"scmIpSecurityRestrictions\": [\n",
      "      {\n",
      "        \"action\": \"Allow\",\n",
      "        \"description\": \"Allow all access\",\n",
      "        \"headers\": null,\n",
      "        \"ipAddress\": \"Any\",\n",
      "        \"name\": \"Allow all\",\n",
      "        \"priority\": 2147483647,\n",
      "        \"subnetMask\": null,\n",
      "        \"subnetTrafficTag\": null,\n",
      "        \"tag\": null,\n",
      "        \"vnetSubnetResourceId\": null,\n",
      "        \"vnetTrafficTag\": null\n",
      "      }\n",
      "    ],\n",
      "    \"scmIpSecurityRestrictionsDefaultAction\": null,\n",
      "    \"scmIpSecurityRestrictionsUseMain\": null,\n",
      "    \"scmMinTlsVersion\": null,\n",
      "    \"scmType\": null,\n",
      "    \"sitePort\": null,\n",
      "    \"storageType\": null,\n",
      "    \"supportedTlsCipherSuites\": null,\n",
      "    \"tracingOptions\": null,\n",
      "    \"use32BitWorkerProcess\": null,\n",
      "    \"virtualApplications\": null,\n",
      "    \"vnetName\": null,\n",
      "    \"vnetPrivatePortsCount\": null,\n",
      "    \"vnetRouteAllEnabled\": null,\n",
      "    \"webSocketsEnabled\": null,\n",
      "    \"websiteTimeZone\": null,\n",
      "    \"winAuthAdminState\": null,\n",
      "    \"winAuthTenantState\": null,\n",
      "    \"windowsConfiguredStacks\": null,\n",
      "    \"windowsFxVersion\": null,\n",
      "    \"xManagedServiceIdentityId\": null\n",
      "  },\n",
      "  \"slotSwapStatus\": null,\n",
      "  \"state\": \"Running\",\n",
      "  \"storageAccountRequired\": false,\n",
      "  \"suspendedTill\": null,\n",
      "  \"tags\": null,\n",
      "  \"targetSwapSlot\": null,\n",
      "  \"trafficManagerHostNames\": null,\n",
      "  \"type\": \"Microsoft.Web/sites\",\n",
      "  \"usageState\": \"Normal\",\n",
      "  \"virtualNetworkSubnetId\": null,\n",
      "  \"vnetContentShareEnabled\": false,\n",
      "  \"vnetImagePullEnabled\": false,\n",
      "  \"vnetRouteAllEnabled\": false\n",
      "}\n"
     ]
    }
   ],
   "source": [
    "! az functionapp create \\\n",
    "    --name $functionName  \\\n",
    "    --storage-account $storageAccountName \\\n",
    "    --consumption-plan-location $location \\\n",
    "    --resource-group $resourceGroup \\\n",
    "    --functions-version $functionVersion \\\n",
    "    --os-type $functionOsType \\\n",
    "    --runtime $functionRuntime"
   ]
  },
  {
   "attachments": {},
   "cell_type": "markdown",
   "metadata": {},
   "source": [
    "### 2.5. Create a CosmosDB manage MongoDB instance"
   ]
  },
  {
   "attachments": {},
   "cell_type": "markdown",
   "metadata": {},
   "source": [
    "#### 2.5.1. Create CosmosDB"
   ]
  },
  {
   "cell_type": "code",
   "execution_count": 6,
   "metadata": {},
   "outputs": [
    {
     "name": "stdout",
     "output_type": "stream",
     "text": [
      "{\n",
      "  \"analyticalStorageConfiguration\": {\n",
      "    \"schemaType\": \"FullFidelity\"\n",
      "  },\n",
      "  \"apiProperties\": {\n",
      "    \"serverVersion\": \"4.2\"\n",
      "  },\n",
      "  \"backupPolicy\": {\n",
      "    \"migrationState\": null,\n",
      "    \"periodicModeProperties\": {\n",
      "      \"backupIntervalInMinutes\": 240,\n",
      "      \"backupRetentionIntervalInHours\": 8,\n",
      "      \"backupStorageRedundancy\": \"Geo\"\n",
      "    },\n",
      "    \"type\": \"Periodic\"\n",
      "  },\n",
      "  \"capabilities\": [\n",
      "    {\n",
      "      \"name\": \"EnableMongo\"\n",
      "    }\n",
      "  ],\n",
      "  \"capacity\": null,\n",
      "  \"connectorOffer\": null,\n",
      "  \"consistencyPolicy\": {\n",
      "    \"defaultConsistencyLevel\": \"Eventual\",\n",
      "    \"maxIntervalInSeconds\": 5,\n",
      "    \"maxStalenessPrefix\": 100\n",
      "  },\n",
      "  \"cors\": [],\n",
      "  \"createMode\": null,\n",
      "  \"databaseAccountOfferType\": \"Standard\",\n",
      "  \"defaultIdentity\": \"FirstPartyIdentity\",\n",
      "  \"disableKeyBasedMetadataWriteAccess\": false,\n",
      "  \"disableLocalAuth\": false,\n",
      "  \"documentEndpoint\": \"https://neighborly-cosmosdb.documents.azure.com:443/\",\n",
      "  \"enableAnalyticalStorage\": false,\n",
      "  \"enableAutomaticFailover\": false,\n",
      "  \"enableCassandraConnector\": null,\n",
      "  \"enableFreeTier\": false,\n",
      "  \"enableMultipleWriteLocations\": false,\n",
      "  \"enablePartitionMerge\": false,\n",
      "  \"failoverPolicies\": [\n",
      "    {\n",
      "      \"failoverPriority\": 0,\n",
      "      \"id\": \"neighborly-cosmosdb-southeastasia\",\n",
      "      \"locationName\": \"Southeast Asia\"\n",
      "    }\n",
      "  ],\n",
      "  \"id\": \"/subscriptions/9ed10bd5-8420-4fdf-b87f-621a5ee7dd47/resourceGroups/azure-dev-udacity-prj2/providers/Microsoft.DocumentDB/databaseAccounts/neighborly-cosmosdb\",\n",
      "  \"identity\": {\n",
      "    \"principalId\": null,\n",
      "    \"tenantId\": null,\n",
      "    \"type\": \"None\",\n",
      "    \"userAssignedIdentities\": null\n",
      "  },\n",
      "  \"instanceId\": \"feabc2a1-ee0c-4b94-89dd-69ab13bd3f0e\",\n",
      "  \"ipRules\": [],\n",
      "  \"isVirtualNetworkFilterEnabled\": false,\n",
      "  \"keyVaultKeyUri\": null,\n",
      "  \"keysMetadata\": {\n",
      "    \"primaryMasterKey\": {\n",
      "      \"generationTime\": \"2023-04-13T19:06:38.446928+00:00\"\n",
      "    },\n",
      "    \"primaryReadonlyMasterKey\": {\n",
      "      \"generationTime\": \"2023-04-13T19:06:38.446928+00:00\"\n",
      "    },\n",
      "    \"secondaryMasterKey\": {\n",
      "      \"generationTime\": \"2023-04-13T19:06:38.446928+00:00\"\n",
      "    },\n",
      "    \"secondaryReadonlyMasterKey\": {\n",
      "      \"generationTime\": \"2023-04-13T19:06:38.446928+00:00\"\n",
      "    }\n",
      "  },\n",
      "  \"kind\": \"MongoDB\",\n",
      "  \"location\": \"Southeast Asia\",\n",
      "  \"locations\": [\n",
      "    {\n",
      "      \"documentEndpoint\": \"https://neighborly-cosmosdb-southeastasia.documents.azure.com:443/\",\n",
      "      \"failoverPriority\": 0,\n",
      "      \"id\": \"neighborly-cosmosdb-southeastasia\",\n",
      "      \"isZoneRedundant\": false,\n",
      "      \"locationName\": \"Southeast Asia\",\n",
      "      \"provisioningState\": \"Succeeded\"\n",
      "    }\n",
      "  ],\n",
      "  \"minimalTlsVersion\": \"Tls12\",\n",
      "  \"name\": \"neighborly-cosmosdb\",\n",
      "  \"networkAclBypass\": \"None\",\n",
      "  \"networkAclBypassResourceIds\": [],\n",
      "  \"privateEndpointConnections\": null,\n",
      "  \"provisioningState\": \"Succeeded\",\n",
      "  \"publicNetworkAccess\": \"Enabled\",\n",
      "  \"readLocations\": [\n",
      "    {\n",
      "      \"documentEndpoint\": \"https://neighborly-cosmosdb-southeastasia.documents.azure.com:443/\",\n",
      "      \"failoverPriority\": 0,\n",
      "      \"id\": \"neighborly-cosmosdb-southeastasia\",\n",
      "      \"isZoneRedundant\": false,\n",
      "      \"locationName\": \"Southeast Asia\",\n",
      "      \"provisioningState\": \"Succeeded\"\n",
      "    }\n",
      "  ],\n",
      "  \"resourceGroup\": \"azure-dev-udacity-prj2\",\n",
      "  \"restoreParameters\": null,\n",
      "  \"systemData\": {\n",
      "    \"createdAt\": \"2023-04-13T19:06:38.446928+00:00\",\n",
      "    \"createdBy\": null,\n",
      "    \"createdByType\": null,\n",
      "    \"lastModifiedAt\": null,\n",
      "    \"lastModifiedBy\": null,\n",
      "    \"lastModifiedByType\": null\n",
      "  },\n",
      "  \"tags\": {},\n",
      "  \"type\": \"Microsoft.DocumentDB/databaseAccounts\",\n",
      "  \"virtualNetworkRules\": [],\n",
      "  \"writeLocations\": [\n",
      "    {\n",
      "      \"documentEndpoint\": \"https://neighborly-cosmosdb-southeastasia.documents.azure.com:443/\",\n",
      "      \"failoverPriority\": 0,\n",
      "      \"id\": \"neighborly-cosmosdb-southeastasia\",\n",
      "      \"isZoneRedundant\": false,\n",
      "      \"locationName\": \"Southeast Asia\",\n",
      "      \"provisioningState\": \"Succeeded\"\n",
      "    }\n",
      "  ]\n",
      "}\n"
     ]
    }
   ],
   "source": [
    "! az cosmosdb create \\\n",
    "    -n $cosmosdbAccountName \\\n",
    "    -g $resourceGroup \\\n",
    "    --kind $cosmosdbKind \\\n",
    "    --server-version $cosmosdbServerSersion \\\n",
    "    --default-consistency-level $cosmosdbDefaultConsistencyLevel \\\n",
    "    --enable-automatic-failover $cosmosdbEnableAutomaticFailover"
   ]
  },
  {
   "attachments": {},
   "cell_type": "markdown",
   "metadata": {},
   "source": [
    "#### 2.5.2. Get CosmosDB Connection String"
   ]
  },
  {
   "cell_type": "code",
   "execution_count": 8,
   "metadata": {},
   "outputs": [
    {
     "name": "stdout",
     "output_type": "stream",
     "text": [
      "\u001b[33mThis command has been deprecated and will be removed in a future release. Use 'cosmosdb keys list --type connection-strings' instead.\u001b[0m\n",
      "{\n",
      "  \"connectionStrings\": [\n",
      "    {\n",
      "      \"connectionString\": \"mongodb://neighborly-cosmosdb:PbhlU4NuveT14I1TuEAbQ2QU50UWCSkQwl0b9sxC4KIFJXdddjwE2NN3hJxMNtOMMFLV8BOJ65KPACDb8DAHCg==@neighborly-cosmosdb.mongo.cosmos.azure.com:10255/?ssl=true&replicaSet=globaldb&retrywrites=false&maxIdleTimeMS=120000&appName=@neighborly-cosmosdb@\",\n",
      "      \"description\": \"Primary MongoDB Connection String\"\n",
      "    },\n",
      "    {\n",
      "      \"connectionString\": \"mongodb://neighborly-cosmosdb:gEEDXvOoTK07LItwoiRW2j9zI5ol3ZN5Ho8DUYCVphoPGHCKHJykm1VmiYovgMRaADJ2WashrVxdACDbED0mTg==@neighborly-cosmosdb.mongo.cosmos.azure.com:10255/?ssl=true&replicaSet=globaldb&retrywrites=false&maxIdleTimeMS=120000&appName=@neighborly-cosmosdb@\",\n",
      "      \"description\": \"Secondary MongoDB Connection String\"\n",
      "    },\n",
      "    {\n",
      "      \"connectionString\": \"mongodb://neighborly-cosmosdb:AsxPeGq682QKFAbj0rxr288PgVbErdrQ1BtOYEU41kL07knwxVOmPlKDZamWnY8sjSzPwYKy6uyuACDbwZRS8w==@neighborly-cosmosdb.mongo.cosmos.azure.com:10255/?ssl=true&replicaSet=globaldb&retrywrites=false&maxIdleTimeMS=120000&appName=@neighborly-cosmosdb@\",\n",
      "      \"description\": \"Primary Read-Only MongoDB Connection String\"\n",
      "    },\n",
      "    {\n",
      "      \"connectionString\": \"mongodb://neighborly-cosmosdb:9M8F48OqVBEehoECxSG2Y7qvTVH9604a0AKTf9RTFK97DClbXMsLiHW1HyVV4Oczp2wW0mTTzao2ACDbdo3PcQ==@neighborly-cosmosdb.mongo.cosmos.azure.com:10255/?ssl=true&replicaSet=globaldb&retrywrites=false&maxIdleTimeMS=120000&appName=@neighborly-cosmosdb@\",\n",
      "      \"description\": \"Secondary Read-Only MongoDB Connection String\"\n",
      "    }\n",
      "  ]\n",
      "}\n"
     ]
    }
   ],
   "source": [
    "! az cosmosdb list-connection-strings --name $cosmosdbAccountName --resource-group $resourceGroup"
   ]
  },
  {
   "cell_type": "code",
   "execution_count": 9,
   "metadata": {},
   "outputs": [
    {
     "name": "stdout",
     "output_type": "stream",
     "text": [
      "mongodb://neighborly-cosmosdb:PbhlU4NuveT14I1TuEAbQ2QU50UWCSkQwl0b9sxC4KIFJXdddjwE2NN3hJxMNtOMMFLV8BOJ65KPACDb8DAHCg==@neighborly-cosmosdb.mongo.cosmos.azure.com:10255/?ssl=true&replicaSet=globaldb&retrywrites=false&maxIdleTimeMS=120000&appName=@neighborly-cosmosdb@\n"
     ]
    }
   ],
   "source": [
    "! az cosmosdb keys list \\\n",
    "    --type connection-strings \\\n",
    "    --name $cosmosdbAccountName \\\n",
    "    --resource-group $resourceGroup \\\n",
    "    --query \"connectionStrings[0].connectionString\" \\\n",
    "    --output tsv"
   ]
  },
  {
   "attachments": {},
   "cell_type": "markdown",
   "metadata": {},
   "source": [
    "1. Get the above connection string.\n",
    "2. Append it to the variables.sh file.\n",
    "3. Re-run the following script to update variables"
   ]
  },
  {
   "cell_type": "code",
   "execution_count": 10,
   "metadata": {},
   "outputs": [],
   "source": [
    "%run variables.sh"
   ]
  },
  {
   "attachments": {},
   "cell_type": "markdown",
   "metadata": {},
   "source": [
    "#### 2.5.3. Create MongoDB Collections"
   ]
  },
  {
   "cell_type": "code",
   "execution_count": 11,
   "metadata": {},
   "outputs": [],
   "source": [
    "! printf '[{\"key\": {\"keys\": [\"_id\"]}}]' > idxpolicy-congdinh2023.json"
   ]
  },
  {
   "attachments": {},
   "cell_type": "markdown",
   "metadata": {},
   "source": [
    "1. Create advertisements collection"
   ]
  },
  {
   "cell_type": "code",
   "execution_count": 12,
   "metadata": {},
   "outputs": [
    {
     "name": "stdout",
     "output_type": "stream",
     "text": [
      "\u001b[K{\\ Finished ..\n",
      "  \"id\": \"/subscriptions/9ed10bd5-8420-4fdf-b87f-621a5ee7dd47/resourceGroups/azure-dev-udacity-prj2/providers/Microsoft.DocumentDB/databaseAccounts/neighborly-cosmosdb/mongodbDatabases/neighborlydb/collections/advertisements\",\n",
      "  \"location\": null,\n",
      "  \"name\": \"advertisements\",\n",
      "  \"options\": null,\n",
      "  \"resource\": {\n",
      "    \"analyticalStorageTtl\": null,\n",
      "    \"etag\": null,\n",
      "    \"id\": \"advertisements\",\n",
      "    \"indexes\": [\n",
      "      {\n",
      "        \"key\": {\n",
      "          \"keys\": [\n",
      "            \"_id\"\n",
      "          ]\n",
      "        },\n",
      "        \"options\": null\n",
      "      }\n",
      "    ],\n",
      "    \"rid\": null,\n",
      "    \"shardKey\": {\n",
      "      \"_id\": \"Hash\"\n",
      "    },\n",
      "    \"ts\": null\n",
      "  },\n",
      "  \"resourceGroup\": \"azure-dev-udacity-prj2\",\n",
      "  \"tags\": null,\n",
      "  \"type\": \"Microsoft.DocumentDB/databaseAccounts/mongodbDatabases/collections\"\n",
      "}\n"
     ]
    }
   ],
   "source": [
    "! az cosmosdb mongodb collection create \\\n",
    "    -a $cosmosdbAccountName \\\n",
    "    -g $resourceGroup \\\n",
    "    -d $cosmosdbDatabaseName \\\n",
    "    -n advertisements \\\n",
    "    --shard _id \\\n",
    "    --throughput 400 \\\n",
    "    --idx @idxpolicy-congdinh2023.json"
   ]
  },
  {
   "attachments": {},
   "cell_type": "markdown",
   "metadata": {},
   "source": [
    "2. Create posts collection"
   ]
  },
  {
   "cell_type": "code",
   "execution_count": 13,
   "metadata": {},
   "outputs": [
    {
     "name": "stdout",
     "output_type": "stream",
     "text": [
      "\u001b[K{\\ Finished ..\n",
      "  \"id\": \"/subscriptions/9ed10bd5-8420-4fdf-b87f-621a5ee7dd47/resourceGroups/azure-dev-udacity-prj2/providers/Microsoft.DocumentDB/databaseAccounts/neighborly-cosmosdb/mongodbDatabases/neighborlydb/collections/posts\",\n",
      "  \"location\": null,\n",
      "  \"name\": \"posts\",\n",
      "  \"options\": null,\n",
      "  \"resource\": {\n",
      "    \"analyticalStorageTtl\": null,\n",
      "    \"etag\": null,\n",
      "    \"id\": \"posts\",\n",
      "    \"indexes\": [\n",
      "      {\n",
      "        \"key\": {\n",
      "          \"keys\": [\n",
      "            \"_id\"\n",
      "          ]\n",
      "        },\n",
      "        \"options\": null\n",
      "      }\n",
      "    ],\n",
      "    \"rid\": null,\n",
      "    \"shardKey\": {\n",
      "      \"_id\": \"Hash\"\n",
      "    },\n",
      "    \"ts\": null\n",
      "  },\n",
      "  \"resourceGroup\": \"azure-dev-udacity-prj2\",\n",
      "  \"tags\": null,\n",
      "  \"type\": \"Microsoft.DocumentDB/databaseAccounts/mongodbDatabases/collections\"\n",
      "}\n"
     ]
    }
   ],
   "source": [
    "! az cosmosdb mongodb collection create \\\n",
    "    -a $cosmosdbAccountName \\\n",
    "    -g $resourceGroup \\\n",
    "    -d $cosmosdbDatabaseName \\\n",
    "    -n posts \\\n",
    "    --shard _id \\\n",
    "    --throughput 400 \\\n",
    "    --idx @idxpolicy-congdinh2023.json"
   ]
  },
  {
   "attachments": {},
   "cell_type": "markdown",
   "metadata": {},
   "source": [
    "3. If you want to delete a collection, use:"
   ]
  },
  {
   "cell_type": "code",
   "execution_count": null,
   "metadata": {},
   "outputs": [],
   "source": [
    "! az cosmosdb mongodb collection delete \\\n",
    "    -a $cosmosdbAccountName \\\n",
    "    -d $cosmosdbDatabaseName \\\n",
    "    -n posts \\\n",
    "    -g azure-dev-udacity-prj2 \\\n",
    "    --yes"
   ]
  },
  {
   "cell_type": "code",
   "execution_count": null,
   "metadata": {},
   "outputs": [],
   "source": [
    "! az cosmosdb mongodb collection delete \\\n",
    "    -a $cosmosdbAccountName \\\n",
    "    -d $cosmosdbDatabaseName \\\n",
    "    -n advertisements \\\n",
    "    -g azure-dev-udacity-prj2 \\\n",
    "    --yes"
   ]
  },
  {
   "attachments": {},
   "cell_type": "markdown",
   "metadata": {},
   "source": [
    "4. View the collection"
   ]
  },
  {
   "cell_type": "code",
   "execution_count": 14,
   "metadata": {},
   "outputs": [
    {
     "name": "stdout",
     "output_type": "stream",
     "text": [
      "[\n",
      "  {\n",
      "    \"id\": \"/subscriptions/9ed10bd5-8420-4fdf-b87f-621a5ee7dd47/resourceGroups/azure-dev-udacity-prj2/providers/Microsoft.DocumentDB/databaseAccounts/neighborly-cosmosdb/mongodbDatabases/neighborlydb/collections/posts\",\n",
      "    \"location\": null,\n",
      "    \"name\": \"posts\",\n",
      "    \"options\": null,\n",
      "    \"resource\": {\n",
      "      \"analyticalStorageTtl\": null,\n",
      "      \"etag\": null,\n",
      "      \"id\": \"posts\",\n",
      "      \"indexes\": [\n",
      "        {\n",
      "          \"key\": {\n",
      "            \"keys\": [\n",
      "              \"_id\"\n",
      "            ]\n",
      "          },\n",
      "          \"options\": null\n",
      "        }\n",
      "      ],\n",
      "      \"rid\": null,\n",
      "      \"shardKey\": {\n",
      "        \"_id\": \"Hash\"\n",
      "      },\n",
      "      \"ts\": null\n",
      "    },\n",
      "    \"resourceGroup\": \"azure-dev-udacity-prj2\",\n",
      "    \"tags\": null,\n",
      "    \"type\": \"Microsoft.DocumentDB/databaseAccounts/mongodbDatabases/collections\"\n",
      "  },\n",
      "  {\n",
      "    \"id\": \"/subscriptions/9ed10bd5-8420-4fdf-b87f-621a5ee7dd47/resourceGroups/azure-dev-udacity-prj2/providers/Microsoft.DocumentDB/databaseAccounts/neighborly-cosmosdb/mongodbDatabases/neighborlydb/collections/advertisements\",\n",
      "    \"location\": null,\n",
      "    \"name\": \"advertisements\",\n",
      "    \"options\": null,\n",
      "    \"resource\": {\n",
      "      \"analyticalStorageTtl\": null,\n",
      "      \"etag\": null,\n",
      "      \"id\": \"advertisements\",\n",
      "      \"indexes\": [\n",
      "        {\n",
      "          \"key\": {\n",
      "            \"keys\": [\n",
      "              \"_id\"\n",
      "            ]\n",
      "          },\n",
      "          \"options\": null\n",
      "        }\n",
      "      ],\n",
      "      \"rid\": null,\n",
      "      \"shardKey\": {\n",
      "        \"_id\": \"Hash\"\n",
      "      },\n",
      "      \"ts\": null\n",
      "    },\n",
      "    \"resourceGroup\": \"azure-dev-udacity-prj2\",\n",
      "    \"tags\": null,\n",
      "    \"type\": \"Microsoft.DocumentDB/databaseAccounts/mongodbDatabases/collections\"\n",
      "  }\n",
      "]\n"
     ]
    }
   ],
   "source": [
    "! az cosmosdb mongodb collection list \\\n",
    "    -a $cosmosdbAccountName \\\n",
    "    -g $resourceGroup \\\n",
    "\t-d $cosmosdbDatabaseName"
   ]
  },
  {
   "attachments": {},
   "cell_type": "markdown",
   "metadata": {},
   "source": [
    "#### 2.5.4. Add data to collection"
   ]
  },
  {
   "attachments": {},
   "cell_type": "markdown",
   "metadata": {},
   "source": [
    "1. Add data to Advertisements Collection - Connection String from 2.5.2"
   ]
  },
  {
   "cell_type": "code",
   "execution_count": null,
   "metadata": {},
   "outputs": [],
   "source": [
    "# Rerun to get new connectionString after inserting\n",
    "%run variables.sh"
   ]
  },
  {
   "cell_type": "code",
   "execution_count": 15,
   "metadata": {},
   "outputs": [
    {
     "name": "stdout",
     "output_type": "stream",
     "text": [
      "zsh:1: parse error near `&'\n"
     ]
    }
   ],
   "source": [
    "! mongoimport \\\n",
    "    --uri=$connectionString \\\n",
    "    --db=$cosmosdbDatabaseName \\\n",
    "    --collection=advertisements \\\n",
    "    --file='./sample_data/sampleAds.json' \\\n",
    "    --jsonArray"
   ]
  },
  {
   "attachments": {},
   "cell_type": "markdown",
   "metadata": {},
   "source": [
    "2. Add data to Posts Collection - Connection String from 2.5.2"
   ]
  },
  {
   "cell_type": "code",
   "execution_count": null,
   "metadata": {},
   "outputs": [],
   "source": [
    "! mongoimport \\\n",
    "    --uri=$connectionString \\\n",
    "    --db=$cosmosdbDatabaseName \\\n",
    "    --collection=posts \\\n",
    "    --file='./sample_data/samplePosts.json' \\\n",
    "    --jsonArray"
   ]
  },
  {
   "cell_type": "code",
   "execution_count": 16,
   "metadata": {},
   "outputs": [
    {
     "ename": "ModuleNotFoundError",
     "evalue": "No module named 'pymongo'",
     "output_type": "error",
     "traceback": [
      "\u001b[0;31m---------------------------------------------------------------------------\u001b[0m",
      "\u001b[0;31mModuleNotFoundError\u001b[0m                       Traceback (most recent call last)",
      "Cell \u001b[0;32mIn[16], line 1\u001b[0m\n\u001b[0;32m----> 1\u001b[0m \u001b[39mfrom\u001b[39;00m \u001b[39mpymongo\u001b[39;00m \u001b[39mimport\u001b[39;00m MongoClient\n",
      "\u001b[0;31mModuleNotFoundError\u001b[0m: No module named 'pymongo'"
     ]
    }
   ],
   "source": [
    "from pymongo import MongoClient"
   ]
  },
  {
   "cell_type": "code",
   "execution_count": null,
   "metadata": {},
   "outputs": [],
   "source": [
    "# Create a MongoDB client\n",
    "client = MongoClient($connectionString)\n",
    "\n",
    "# Access the database and collection\n",
    "db = client[f\"neighborlydb\"]"
   ]
  },
  {
   "cell_type": "code",
   "execution_count": null,
   "metadata": {},
   "outputs": [],
   "source": [
    "advertisements = db[\"advertisements\"]\n",
    "\n",
    "result = advertisements.find({})\n",
    "\n",
    "# Print out the query result\n",
    "for doc in result:\n",
    "    print(doc)\n"
   ]
  },
  {
   "cell_type": "code",
   "execution_count": null,
   "metadata": {},
   "outputs": [],
   "source": [
    "posts = db[\"posts\"]\n",
    "\n",
    "result = posts.find({})\n",
    "\n",
    "# Print out the query result\n",
    "for doc in result:\n",
    "    print(doc)\n"
   ]
  },
  {
   "attachments": {},
   "cell_type": "markdown",
   "metadata": {},
   "source": [
    "### 2.6. Create App Service for Front-End"
   ]
  },
  {
   "attachments": {},
   "cell_type": "markdown",
   "metadata": {},
   "source": [
    "1. List Runtime Environment"
   ]
  },
  {
   "cell_type": "code",
   "execution_count": null,
   "metadata": {},
   "outputs": [],
   "source": [
    "! az webapp list-runtimes"
   ]
  },
  {
   "attachments": {},
   "cell_type": "markdown",
   "metadata": {},
   "source": [
    "2. Create App Service Plan"
   ]
  },
  {
   "cell_type": "code",
   "execution_count": 17,
   "metadata": {},
   "outputs": [
    {
     "name": "stdout",
     "output_type": "stream",
     "text": [
      "\u001b[91mThis subscription has reached the limit of 1 Free Linux app service plan(s) it can create in this region. Please choose a different sku or region.\u001b[0m\n"
     ]
    }
   ],
   "source": [
    "! az appservice plan create \\\n",
    "    -n $appServicePlanName \\\n",
    "    -g $resourceGroup \\\n",
    "    -l $location \\\n",
    "    --sku $appSku \\\n",
    "    --is-linux"
   ]
  },
  {
   "attachments": {},
   "cell_type": "markdown",
   "metadata": {},
   "source": [
    "3. Create App Service"
   ]
  },
  {
   "cell_type": "code",
   "execution_count": 18,
   "metadata": {},
   "outputs": [
    {
     "name": "stdout",
     "output_type": "stream",
     "text": [
      "\u001b[91mThe plan 'neighborly-free' doesn't exist.\u001b[0m\n"
     ]
    }
   ],
   "source": [
    "! az webapp create \\\n",
    "    -n $appName \\\n",
    "    -g $resourceGroup \\\n",
    "    --plan $appServicePlanName \\\n",
    "    --runtime $appRuntime"
   ]
  },
  {
   "attachments": {},
   "cell_type": "markdown",
   "metadata": {},
   "source": [
    "## 3. Connect Function with CosmosDB"
   ]
  },
  {
   "attachments": {},
   "cell_type": "markdown",
   "metadata": {},
   "source": [
    "1. Verify the resources"
   ]
  },
  {
   "cell_type": "code",
   "execution_count": 19,
   "metadata": {},
   "outputs": [
    {
     "name": "stdout",
     "output_type": "stream",
     "text": [
      "[\n",
      "  {\n",
      "    \"appServicePlanId\": \"/subscriptions/9ed10bd5-8420-4fdf-b87f-621a5ee7dd47/resourceGroups/azure-dev-udacity-prj2/providers/Microsoft.Web/serverfarms/SoutheastAsiaLinuxDynamicPlan\",\n",
      "    \"availabilityState\": \"Normal\",\n",
      "    \"clientAffinityEnabled\": false,\n",
      "    \"clientCertEnabled\": false,\n",
      "    \"clientCertExclusionPaths\": null,\n",
      "    \"clientCertMode\": \"Required\",\n",
      "    \"cloningInfo\": null,\n",
      "    \"containerSize\": 0,\n",
      "    \"customDomainVerificationId\": \"782FA85143F7169AA64AF0D5CCE3BBCB52BA6F6869BCC490E439AFEF6573CA58\",\n",
      "    \"dailyMemoryTimeQuota\": 0,\n",
      "    \"defaultHostName\": \"neighborly-function.azurewebsites.net\",\n",
      "    \"enabled\": true,\n",
      "    \"enabledHostNames\": [\n",
      "      \"neighborly-function.azurewebsites.net\",\n",
      "      \"neighborly-function.scm.azurewebsites.net\"\n",
      "    ],\n",
      "    \"extendedLocation\": null,\n",
      "    \"hostNameSslStates\": [\n",
      "      {\n",
      "        \"hostType\": \"Standard\",\n",
      "        \"ipBasedSslResult\": null,\n",
      "        \"ipBasedSslState\": \"NotConfigured\",\n",
      "        \"name\": \"neighborly-function.azurewebsites.net\",\n",
      "        \"sslState\": \"Disabled\",\n",
      "        \"thumbprint\": null,\n",
      "        \"toUpdate\": null,\n",
      "        \"toUpdateIpBasedSsl\": null,\n",
      "        \"virtualIp\": null\n",
      "      },\n",
      "      {\n",
      "        \"hostType\": \"Repository\",\n",
      "        \"ipBasedSslResult\": null,\n",
      "        \"ipBasedSslState\": \"NotConfigured\",\n",
      "        \"name\": \"neighborly-function.scm.azurewebsites.net\",\n",
      "        \"sslState\": \"Disabled\",\n",
      "        \"thumbprint\": null,\n",
      "        \"toUpdate\": null,\n",
      "        \"toUpdateIpBasedSsl\": null,\n",
      "        \"virtualIp\": null\n",
      "      }\n",
      "    ],\n",
      "    \"hostNames\": [\n",
      "      \"neighborly-function.azurewebsites.net\"\n",
      "    ],\n",
      "    \"hostNamesDisabled\": false,\n",
      "    \"hostingEnvironmentProfile\": null,\n",
      "    \"httpsOnly\": false,\n",
      "    \"hyperV\": false,\n",
      "    \"id\": \"/subscriptions/9ed10bd5-8420-4fdf-b87f-621a5ee7dd47/resourceGroups/azure-dev-udacity-prj2/providers/Microsoft.Web/sites/neighborly-function\",\n",
      "    \"identity\": null,\n",
      "    \"inProgressOperationId\": null,\n",
      "    \"isDefaultContainer\": null,\n",
      "    \"isXenon\": false,\n",
      "    \"keyVaultReferenceIdentity\": \"SystemAssigned\",\n",
      "    \"kind\": \"functionapp,linux\",\n",
      "    \"lastModifiedTimeUtc\": \"2023-04-13T19:02:54.550000\",\n",
      "    \"location\": \"Southeast Asia\",\n",
      "    \"maxNumberOfWorkers\": null,\n",
      "    \"name\": \"neighborly-function\",\n",
      "    \"outboundIpAddresses\": \"52.187.36.104,52.187.129.179,52.187.23.154,52.163.123.89,52.230.18.200\",\n",
      "    \"possibleOutboundIpAddresses\": \"52.187.36.104,52.187.129.179,52.187.23.154,52.163.123.89,52.230.18.200,20.184.9.149,20.191.136.243\",\n",
      "    \"publicNetworkAccess\": null,\n",
      "    \"redundancyMode\": \"None\",\n",
      "    \"repositorySiteName\": \"neighborly-function\",\n",
      "    \"reserved\": true,\n",
      "    \"resourceGroup\": \"azure-dev-udacity-prj2\",\n",
      "    \"scmSiteAlsoStopped\": false,\n",
      "    \"siteConfig\": {\n",
      "      \"acrUseManagedIdentityCreds\": false,\n",
      "      \"acrUserManagedIdentityId\": null,\n",
      "      \"alwaysOn\": false,\n",
      "      \"antivirusScanEnabled\": null,\n",
      "      \"apiDefinition\": null,\n",
      "      \"apiManagementConfig\": null,\n",
      "      \"appCommandLine\": null,\n",
      "      \"appSettings\": null,\n",
      "      \"autoHealEnabled\": null,\n",
      "      \"autoHealRules\": null,\n",
      "      \"autoSwapSlotName\": null,\n",
      "      \"azureMonitorLogCategories\": null,\n",
      "      \"azureStorageAccounts\": null,\n",
      "      \"connectionStrings\": null,\n",
      "      \"cors\": null,\n",
      "      \"customAppPoolIdentityAdminState\": null,\n",
      "      \"customAppPoolIdentityTenantState\": null,\n",
      "      \"defaultDocuments\": null,\n",
      "      \"detailedErrorLoggingEnabled\": null,\n",
      "      \"documentRoot\": null,\n",
      "      \"elasticWebAppScaleLimit\": null,\n",
      "      \"experiments\": null,\n",
      "      \"fileChangeAuditEnabled\": null,\n",
      "      \"ftpsState\": null,\n",
      "      \"functionAppScaleLimit\": 200,\n",
      "      \"functionsRuntimeScaleMonitoringEnabled\": null,\n",
      "      \"handlerMappings\": null,\n",
      "      \"healthCheckPath\": null,\n",
      "      \"http20Enabled\": true,\n",
      "      \"http20ProxyFlag\": null,\n",
      "      \"httpLoggingEnabled\": null,\n",
      "      \"ipSecurityRestrictions\": null,\n",
      "      \"ipSecurityRestrictionsDefaultAction\": null,\n",
      "      \"javaContainer\": null,\n",
      "      \"javaContainerVersion\": null,\n",
      "      \"javaVersion\": null,\n",
      "      \"keyVaultReferenceIdentity\": null,\n",
      "      \"limits\": null,\n",
      "      \"linuxFxVersion\": \"Python|3.9\",\n",
      "      \"loadBalancing\": null,\n",
      "      \"localMySqlEnabled\": null,\n",
      "      \"logsDirectorySizeLimit\": null,\n",
      "      \"machineKey\": null,\n",
      "      \"managedPipelineMode\": null,\n",
      "      \"managedServiceIdentityId\": null,\n",
      "      \"metadata\": null,\n",
      "      \"minTlsCipherSuite\": null,\n",
      "      \"minTlsVersion\": null,\n",
      "      \"minimumElasticInstanceCount\": 0,\n",
      "      \"netFrameworkVersion\": null,\n",
      "      \"nodeVersion\": null,\n",
      "      \"numberOfWorkers\": 1,\n",
      "      \"phpVersion\": null,\n",
      "      \"powerShellVersion\": null,\n",
      "      \"preWarmedInstanceCount\": null,\n",
      "      \"publicNetworkAccess\": null,\n",
      "      \"publishingPassword\": null,\n",
      "      \"publishingUsername\": null,\n",
      "      \"push\": null,\n",
      "      \"pythonVersion\": null,\n",
      "      \"remoteDebuggingEnabled\": null,\n",
      "      \"remoteDebuggingVersion\": null,\n",
      "      \"requestTracingEnabled\": null,\n",
      "      \"requestTracingExpirationTime\": null,\n",
      "      \"routingRules\": null,\n",
      "      \"runtimeADUser\": null,\n",
      "      \"runtimeADUserPassword\": null,\n",
      "      \"scmIpSecurityRestrictions\": null,\n",
      "      \"scmIpSecurityRestrictionsDefaultAction\": null,\n",
      "      \"scmIpSecurityRestrictionsUseMain\": null,\n",
      "      \"scmMinTlsVersion\": null,\n",
      "      \"scmType\": null,\n",
      "      \"sitePort\": null,\n",
      "      \"storageType\": null,\n",
      "      \"supportedTlsCipherSuites\": null,\n",
      "      \"tracingOptions\": null,\n",
      "      \"use32BitWorkerProcess\": null,\n",
      "      \"virtualApplications\": null,\n",
      "      \"vnetName\": null,\n",
      "      \"vnetPrivatePortsCount\": null,\n",
      "      \"vnetRouteAllEnabled\": null,\n",
      "      \"webSocketsEnabled\": null,\n",
      "      \"websiteTimeZone\": null,\n",
      "      \"winAuthAdminState\": null,\n",
      "      \"winAuthTenantState\": null,\n",
      "      \"windowsConfiguredStacks\": null,\n",
      "      \"windowsFxVersion\": null,\n",
      "      \"xManagedServiceIdentityId\": null\n",
      "    },\n",
      "    \"slotSwapStatus\": null,\n",
      "    \"state\": \"Running\",\n",
      "    \"storageAccountRequired\": false,\n",
      "    \"suspendedTill\": null,\n",
      "    \"tags\": null,\n",
      "    \"targetSwapSlot\": null,\n",
      "    \"trafficManagerHostNames\": null,\n",
      "    \"type\": \"Microsoft.Web/sites\",\n",
      "    \"usageState\": \"Normal\",\n",
      "    \"virtualNetworkSubnetId\": null,\n",
      "    \"vnetContentShareEnabled\": false,\n",
      "    \"vnetImagePullEnabled\": false,\n",
      "    \"vnetRouteAllEnabled\": false\n",
      "  }\n",
      "]\n"
     ]
    }
   ],
   "source": [
    "! az functionapp list  -g $resourceGroup"
   ]
  },
  {
   "attachments": {},
   "cell_type": "markdown",
   "metadata": {},
   "source": [
    "2. Connect"
   ]
  },
  {
   "cell_type": "code",
   "execution_count": 20,
   "metadata": {},
   "outputs": [
    {
     "name": "stdout",
     "output_type": "stream",
     "text": [
      "[\n",
      "  {\n",
      "    \"name\": \"FUNCTIONS_WORKER_RUNTIME\",\n",
      "    \"slotSetting\": false,\n",
      "    \"value\": \"python\"\n",
      "  },\n",
      "  {\n",
      "    \"name\": \"FUNCTIONS_EXTENSION_VERSION\",\n",
      "    \"slotSetting\": false,\n",
      "    \"value\": \"~3\"\n",
      "  },\n",
      "  {\n",
      "    \"name\": \"AzureWebJobsStorage\",\n",
      "    \"slotSetting\": false,\n",
      "    \"value\": \"DefaultEndpointsProtocol=https;EndpointSuffix=core.windows.net;AccountName=congdinh2023prj2;AccountKey=FeP/nhJ6M8Y1bQyI9F2C+r5Ef4rl6ZwJiDqhlZ9o2ZfNIeOrDWQ2vPSPtN0I5pd+WbR+VjlR9buQ+AStb131AA==\"\n",
      "  },\n",
      "  {\n",
      "    \"name\": \"WEBSITE_CONTENTAZUREFILECONNECTIONSTRING\",\n",
      "    \"slotSetting\": false,\n",
      "    \"value\": \"DefaultEndpointsProtocol=https;EndpointSuffix=core.windows.net;AccountName=congdinh2023prj2;AccountKey=FeP/nhJ6M8Y1bQyI9F2C+r5Ef4rl6ZwJiDqhlZ9o2ZfNIeOrDWQ2vPSPtN0I5pd+WbR+VjlR9buQ+AStb131AA==\"\n",
      "  },\n",
      "  {\n",
      "    \"name\": \"WEBSITE_CONTENTSHARE\",\n",
      "    \"slotSetting\": false,\n",
      "    \"value\": \"neighborly-function95f9637d405f\"\n",
      "  },\n",
      "  {\n",
      "    \"name\": \"APPINSIGHTS_INSTRUMENTATIONKEY\",\n",
      "    \"slotSetting\": false,\n",
      "    \"value\": \"116d1a9c-f6b9-426e-a3d6-f63a9cc13a6b\"\n",
      "  },\n",
      "  {\n",
      "    \"name\": \"MyDbConnection\",\n",
      "    \"slotSetting\": false,\n",
      "    \"value\": \"mongodb://neighborly-cosmosdb:PbhlU4NuveT14I1TuEAbQ2QU50UWCSkQwl0b9sxC4KIFJXdddjwE2NN3hJxMNtOMMFLV8BOJ65KPACDb8DAHCg==@neighborly-cosmosdb.mongo.cosmos.azure.com:10255/?ssl=true&replicaSet=globaldb&retrywrites=false&maxIdleTimeMS=120000&appName=@neighborly-cosmosdb@\"\n",
      "  }\n",
      "]\n"
     ]
    }
   ],
   "source": [
    "! az functionapp config appsettings set \\\n",
    "  -n $functionName \\\n",
    "  -g $resourceGroup \\\n",
    "  --setting MyDbConnection=\"mongodb://neighborly-cosmosdb:PbhlU4NuveT14I1TuEAbQ2QU50UWCSkQwl0b9sxC4KIFJXdddjwE2NN3hJxMNtOMMFLV8BOJ65KPACDb8DAHCg==@neighborly-cosmosdb.mongo.cosmos.azure.com:10255/?ssl=true&replicaSet=globaldb&retrywrites=false&maxIdleTimeMS=120000&appName=@neighborly-cosmosdb@\""
   ]
  },
  {
   "attachments": {},
   "cell_type": "markdown",
   "metadata": {},
   "source": [
    "## 4. Deploy Functions"
   ]
  },
  {
   "attachments": {},
   "cell_type": "markdown",
   "metadata": {},
   "source": [
    "1. Test Functions at Local"
   ]
  },
  {
   "cell_type": "code",
   "execution_count": null,
   "metadata": {},
   "outputs": [],
   "source": [
    "! func start"
   ]
  },
  {
   "attachments": {},
   "cell_type": "markdown",
   "metadata": {},
   "source": [
    "2. Publish functions"
   ]
  },
  {
   "cell_type": "code",
   "execution_count": null,
   "metadata": {},
   "outputs": [],
   "source": [
    "! func azure functionapp publish $functionName"
   ]
  },
  {
   "attachments": {},
   "cell_type": "markdown",
   "metadata": {},
   "source": [
    "## 5 Dockerize Functions and Deploy to AKS"
   ]
  },
  {
   "attachments": {},
   "cell_type": "markdown",
   "metadata": {},
   "source": [
    "### 5.1. Create a Dockerfile"
   ]
  },
  {
   "cell_type": "code",
   "execution_count": null,
   "metadata": {},
   "outputs": [],
   "source": [
    "! func init --docker-only --python"
   ]
  },
  {
   "attachments": {},
   "cell_type": "markdown",
   "metadata": {},
   "source": [
    "### 5.2. Build the image using the Dockerfile"
   ]
  },
  {
   "cell_type": "code",
   "execution_count": null,
   "metadata": {},
   "outputs": [],
   "source": [
    "! docker build -t $imageName:$imageTag ."
   ]
  },
  {
   "cell_type": "code",
   "execution_count": null,
   "metadata": {},
   "outputs": [],
   "source": [
    "! docker run -p 7071:7071 -it $imageName:$imageTag"
   ]
  },
  {
   "attachments": {},
   "cell_type": "markdown",
   "metadata": {},
   "source": [
    "### 5.3. Create a repository in ACR service"
   ]
  },
  {
   "attachments": {},
   "cell_type": "markdown",
   "metadata": {},
   "source": [
    "1. Create Azure container registry"
   ]
  },
  {
   "cell_type": "code",
   "execution_count": 21,
   "metadata": {},
   "outputs": [
    {
     "name": "stdout",
     "output_type": "stream",
     "text": [
      "\u001b[K{| Finished ..\n",
      "  \"adminUserEnabled\": false,\n",
      "  \"anonymousPullEnabled\": false,\n",
      "  \"creationDate\": \"2023-04-13T20:43:27.797058+00:00\",\n",
      "  \"dataEndpointEnabled\": false,\n",
      "  \"dataEndpointHostNames\": [],\n",
      "  \"encryption\": {\n",
      "    \"keyVaultProperties\": null,\n",
      "    \"status\": \"disabled\"\n",
      "  },\n",
      "  \"id\": \"/subscriptions/9ed10bd5-8420-4fdf-b87f-621a5ee7dd47/resourceGroups/azure-dev-udacity-prj2/providers/Microsoft.ContainerRegistry/registries/neighborlycongdinh2023\",\n",
      "  \"identity\": null,\n",
      "  \"location\": \"southeastasia\",\n",
      "  \"loginServer\": \"neighborlycongdinh2023.azurecr.io\",\n",
      "  \"name\": \"neighborlycongdinh2023\",\n",
      "  \"networkRuleBypassOptions\": \"AzureServices\",\n",
      "  \"networkRuleSet\": null,\n",
      "  \"policies\": {\n",
      "    \"azureAdAuthenticationAsArmPolicy\": {\n",
      "      \"status\": \"enabled\"\n",
      "    },\n",
      "    \"exportPolicy\": {\n",
      "      \"status\": \"enabled\"\n",
      "    },\n",
      "    \"quarantinePolicy\": {\n",
      "      \"status\": \"disabled\"\n",
      "    },\n",
      "    \"retentionPolicy\": {\n",
      "      \"days\": 7,\n",
      "      \"lastUpdatedTime\": \"2023-04-13T20:43:37.241464+00:00\",\n",
      "      \"status\": \"disabled\"\n",
      "    },\n",
      "    \"softDeletePolicy\": {\n",
      "      \"lastUpdatedTime\": \"2023-04-13T20:43:37.241464+00:00\",\n",
      "      \"retentionDays\": 7,\n",
      "      \"status\": \"disabled\"\n",
      "    },\n",
      "    \"trustPolicy\": {\n",
      "      \"status\": \"disabled\",\n",
      "      \"type\": \"Notary\"\n",
      "    }\n",
      "  },\n",
      "  \"privateEndpointConnections\": [],\n",
      "  \"provisioningState\": \"Succeeded\",\n",
      "  \"publicNetworkAccess\": \"Enabled\",\n",
      "  \"resourceGroup\": \"azure-dev-udacity-prj2\",\n",
      "  \"sku\": {\n",
      "    \"name\": \"Basic\",\n",
      "    \"tier\": \"Basic\"\n",
      "  },\n",
      "  \"status\": null,\n",
      "  \"systemData\": {\n",
      "    \"createdAt\": \"2023-04-13T20:43:27.797058+00:00\",\n",
      "    \"createdBy\": \"odl_user_231027@udacityhol.onmicrosoft.com\",\n",
      "    \"createdByType\": \"User\",\n",
      "    \"lastModifiedAt\": \"2023-04-13T20:43:27.797058+00:00\",\n",
      "    \"lastModifiedBy\": \"odl_user_231027@udacityhol.onmicrosoft.com\",\n",
      "    \"lastModifiedByType\": \"User\"\n",
      "  },\n",
      "  \"tags\": {},\n",
      "  \"type\": \"Microsoft.ContainerRegistry/registries\",\n",
      "  \"zoneRedundancy\": \"Disabled\"\n",
      "}\n"
     ]
    }
   ],
   "source": [
    "! az acr create --resource-group $resourceGroup --name $containerRegistry --sku Basic"
   ]
  },
  {
   "attachments": {},
   "cell_type": "markdown",
   "metadata": {},
   "source": [
    "2. Login Azure container registry"
   ]
  },
  {
   "cell_type": "code",
   "execution_count": 22,
   "metadata": {},
   "outputs": [
    {
     "name": "stdout",
     "output_type": "stream",
     "text": [
      "Login Succeeded\n"
     ]
    }
   ],
   "source": [
    "! az acr login --name $containerRegistry"
   ]
  },
  {
   "attachments": {},
   "cell_type": "markdown",
   "metadata": {},
   "source": [
    "3. Show container registry"
   ]
  },
  {
   "cell_type": "code",
   "execution_count": 23,
   "metadata": {},
   "outputs": [
    {
     "name": "stdout",
     "output_type": "stream",
     "text": [
      "Result\n",
      "---------------------------------\n",
      "neighborlycongdinh2023.azurecr.io\n"
     ]
    }
   ],
   "source": [
    "# Both these commands will give a same result\n",
    "! az acr show --name $containerRegistry --query loginServer --output table\n",
    "#! az acr list --resource-group $resourceGroup --query \"[].{acrLoginServer:loginServer}\" --output table"
   ]
  },
  {
   "attachments": {},
   "cell_type": "markdown",
   "metadata": {},
   "source": [
    "4. List docker images"
   ]
  },
  {
   "cell_type": "code",
   "execution_count": 24,
   "metadata": {},
   "outputs": [
    {
     "name": "stdout",
     "output_type": "stream",
     "text": [
      "REPOSITORY                                              TAG       IMAGE ID       CREATED              SIZE\n",
      "neighborly-function                                     latest    b53fe7e1d066   About a minute ago   1.93GB\n",
      "neighborlycongdinh2023.azurecr.io/neighborly-function   latest    b38b6b906c90   12 hours ago         1.93GB\n",
      "neighborlycongdinh2023.azurecr.io/neighborly-function   <none>    a41da662c5ad   13 hours ago         1.93GB\n"
     ]
    }
   ],
   "source": [
    "# List the local images\n",
    "! docker images"
   ]
  },
  {
   "attachments": {},
   "cell_type": "markdown",
   "metadata": {},
   "source": [
    "5. Push image to Azure container registry"
   ]
  },
  {
   "cell_type": "code",
   "execution_count": null,
   "metadata": {},
   "outputs": [],
   "source": [
    "# Tag the image with the same name as the ACR respository, else, the push will fail.\n",
    "# SYNTAX \n",
    "# docker tag <name:tag> <ACR-respository>.azurecr.io/<name:tag>\n",
    "! docker tag $imageName:$imageTag $containerRegistry.azurecr.io/$imageName:$imageTag"
   ]
  },
  {
   "attachments": {},
   "cell_type": "markdown",
   "metadata": {},
   "source": [
    "- Enable Admin User in Access Keys"
   ]
  },
  {
   "cell_type": "code",
   "execution_count": 26,
   "metadata": {},
   "outputs": [
    {
     "name": "stdout",
     "output_type": "stream",
     "text": [
      "{\n",
      "  \"adminUserEnabled\": true,\n",
      "  \"anonymousPullEnabled\": false,\n",
      "  \"creationDate\": \"2023-04-13T20:43:27.797058+00:00\",\n",
      "  \"dataEndpointEnabled\": false,\n",
      "  \"dataEndpointHostNames\": [],\n",
      "  \"encryption\": {\n",
      "    \"keyVaultProperties\": null,\n",
      "    \"status\": \"disabled\"\n",
      "  },\n",
      "  \"id\": \"/subscriptions/9ed10bd5-8420-4fdf-b87f-621a5ee7dd47/resourceGroups/azure-dev-udacity-prj2/providers/Microsoft.ContainerRegistry/registries/neighborlycongdinh2023\",\n",
      "  \"identity\": null,\n",
      "  \"location\": \"southeastasia\",\n",
      "  \"loginServer\": \"neighborlycongdinh2023.azurecr.io\",\n",
      "  \"name\": \"neighborlycongdinh2023\",\n",
      "  \"networkRuleBypassOptions\": \"AzureServices\",\n",
      "  \"networkRuleSet\": null,\n",
      "  \"policies\": {\n",
      "    \"azureAdAuthenticationAsArmPolicy\": {\n",
      "      \"status\": \"enabled\"\n",
      "    },\n",
      "    \"exportPolicy\": {\n",
      "      \"status\": \"enabled\"\n",
      "    },\n",
      "    \"quarantinePolicy\": {\n",
      "      \"status\": \"disabled\"\n",
      "    },\n",
      "    \"retentionPolicy\": {\n",
      "      \"days\": 7,\n",
      "      \"lastUpdatedTime\": \"2023-04-13T20:43:37.241464+00:00\",\n",
      "      \"status\": \"disabled\"\n",
      "    },\n",
      "    \"softDeletePolicy\": {\n",
      "      \"lastUpdatedTime\": \"2023-04-13T20:43:37.241464+00:00\",\n",
      "      \"retentionDays\": 7,\n",
      "      \"status\": \"disabled\"\n",
      "    },\n",
      "    \"trustPolicy\": {\n",
      "      \"status\": \"disabled\",\n",
      "      \"type\": \"Notary\"\n",
      "    }\n",
      "  },\n",
      "  \"privateEndpointConnections\": [],\n",
      "  \"provisioningState\": \"Succeeded\",\n",
      "  \"publicNetworkAccess\": \"Enabled\",\n",
      "  \"resourceGroup\": \"azure-dev-udacity-prj2\",\n",
      "  \"sku\": {\n",
      "    \"name\": \"Basic\",\n",
      "    \"tier\": \"Basic\"\n",
      "  },\n",
      "  \"status\": null,\n",
      "  \"systemData\": {\n",
      "    \"createdAt\": \"2023-04-13T20:43:27.797058+00:00\",\n",
      "    \"createdBy\": \"odl_user_231027@udacityhol.onmicrosoft.com\",\n",
      "    \"createdByType\": \"User\",\n",
      "    \"lastModifiedAt\": \"2023-04-13T20:45:56.528578+00:00\",\n",
      "    \"lastModifiedBy\": \"odl_user_231027@udacityhol.onmicrosoft.com\",\n",
      "    \"lastModifiedByType\": \"User\"\n",
      "  },\n",
      "  \"tags\": {},\n",
      "  \"type\": \"Microsoft.ContainerRegistry/registries\",\n",
      "  \"zoneRedundancy\": \"Disabled\"\n",
      "}\n"
     ]
    }
   ],
   "source": [
    "! az acr update --name $containerRegistry --admin-enabled true"
   ]
  },
  {
   "attachments": {},
   "cell_type": "markdown",
   "metadata": {},
   "source": [
    "- Verify Admin User Status"
   ]
  },
  {
   "cell_type": "code",
   "execution_count": 27,
   "metadata": {},
   "outputs": [
    {
     "name": "stdout",
     "output_type": "stream",
     "text": [
      "true\n"
     ]
    }
   ],
   "source": [
    "! az acr show --name $containerRegistry --query \"adminUserEnabled\""
   ]
  },
  {
   "cell_type": "code",
   "execution_count": 28,
   "metadata": {},
   "outputs": [
    {
     "name": "stdout",
     "output_type": "stream",
     "text": [
      "Username: ^C\n"
     ]
    }
   ],
   "source": [
    "# Go to Container Registry >> Settings >> Access Keys and enable the Admin user. \n",
    "# Use those credentials to login from your terminal. \n",
    "! docker login $containerRegistry.azurecr.io"
   ]
  },
  {
   "cell_type": "code",
   "execution_count": null,
   "metadata": {},
   "outputs": [],
   "source": [
    "! docker push $containerRegistry.azurecr.io/$imageName:$imageTag"
   ]
  },
  {
   "attachments": {},
   "cell_type": "markdown",
   "metadata": {},
   "source": [
    "6. View Azure container registry image"
   ]
  },
  {
   "cell_type": "code",
   "execution_count": 29,
   "metadata": {},
   "outputs": [
    {
     "name": "stdout",
     "output_type": "stream",
     "text": [
      "Result\n",
      "-------------------\n",
      "neighborly-function\n"
     ]
    }
   ],
   "source": [
    "# View the newly pushed image in the ACR respository\n",
    "! az acr repository list --name $containerRegistry --output table"
   ]
  },
  {
   "attachments": {},
   "cell_type": "markdown",
   "metadata": {},
   "source": [
    "### 5.3. Create an AKS cluster\n",
    "\n",
    "1. Create an AKS cluster"
   ]
  },
  {
   "cell_type": "code",
   "execution_count": 30,
   "metadata": {},
   "outputs": [
    {
     "name": "stdout",
     "output_type": "stream",
     "text": [
      "AAD role propagation done[############################################]  100.0000%{\n",
      "  \"aadProfile\": null,\n",
      "  \"addonProfiles\": null,\n",
      "  \"agentPoolProfiles\": [\n",
      "    {\n",
      "      \"availabilityZones\": null,\n",
      "      \"count\": 2,\n",
      "      \"creationData\": null,\n",
      "      \"currentOrchestratorVersion\": \"1.24.10\",\n",
      "      \"enableAutoScaling\": false,\n",
      "      \"enableEncryptionAtHost\": false,\n",
      "      \"enableFips\": false,\n",
      "      \"enableNodePublicIp\": false,\n",
      "      \"enableUltraSsd\": false,\n",
      "      \"gpuInstanceProfile\": null,\n",
      "      \"hostGroupId\": null,\n",
      "      \"kubeletConfig\": null,\n",
      "      \"kubeletDiskType\": \"OS\",\n",
      "      \"linuxOsConfig\": null,\n",
      "      \"maxCount\": null,\n",
      "      \"maxPods\": 110,\n",
      "      \"minCount\": null,\n",
      "      \"mode\": \"System\",\n",
      "      \"name\": \"nodepool1\",\n",
      "      \"nodeImageVersion\": \"AKSUbuntu-1804gen2containerd-202303.22.0\",\n",
      "      \"nodeLabels\": null,\n",
      "      \"nodePublicIpPrefixId\": null,\n",
      "      \"nodeTaints\": null,\n",
      "      \"orchestratorVersion\": \"1.24.10\",\n",
      "      \"osDiskSizeGb\": 128,\n",
      "      \"osDiskType\": \"Managed\",\n",
      "      \"osSku\": \"Ubuntu\",\n",
      "      \"osType\": \"Linux\",\n",
      "      \"podSubnetId\": null,\n",
      "      \"powerState\": {\n",
      "        \"code\": \"Running\"\n",
      "      },\n",
      "      \"provisioningState\": \"Succeeded\",\n",
      "      \"proximityPlacementGroupId\": null,\n",
      "      \"scaleDownMode\": null,\n",
      "      \"scaleSetEvictionPolicy\": null,\n",
      "      \"scaleSetPriority\": null,\n",
      "      \"spotMaxPrice\": null,\n",
      "      \"tags\": null,\n",
      "      \"type\": \"VirtualMachineScaleSets\",\n",
      "      \"upgradeSettings\": {\n",
      "        \"maxSurge\": null\n",
      "      },\n",
      "      \"vmSize\": \"Standard_DS2_v2\",\n",
      "      \"vnetSubnetId\": null,\n",
      "      \"workloadRuntime\": null\n",
      "    }\n",
      "  ],\n",
      "  \"apiServerAccessProfile\": null,\n",
      "  \"autoScalerProfile\": null,\n",
      "  \"autoUpgradeProfile\": null,\n",
      "  \"azureMonitorProfile\": null,\n",
      "  \"azurePortalFqdn\": \"neighborly-azure-dev-udacit-9ed10b-jf1pai76.portal.hcp.southeastasia.azmk8s.io\",\n",
      "  \"currentKubernetesVersion\": \"1.24.10\",\n",
      "  \"disableLocalAccounts\": false,\n",
      "  \"diskEncryptionSetId\": null,\n",
      "  \"dnsPrefix\": \"neighborly-azure-dev-udacit-9ed10b\",\n",
      "  \"enablePodSecurityPolicy\": null,\n",
      "  \"enableRbac\": true,\n",
      "  \"extendedLocation\": null,\n",
      "  \"fqdn\": \"neighborly-azure-dev-udacit-9ed10b-jf1pai76.hcp.southeastasia.azmk8s.io\",\n",
      "  \"fqdnSubdomain\": null,\n",
      "  \"httpProxyConfig\": null,\n",
      "  \"id\": \"/subscriptions/9ed10bd5-8420-4fdf-b87f-621a5ee7dd47/resourcegroups/azure-dev-udacity-prj2/providers/Microsoft.ContainerService/managedClusters/neighborlycongdinh2023\",\n",
      "  \"identity\": {\n",
      "    \"principalId\": \"30d6deb8-b8dc-4f9a-b47b-7eca4ba8147a\",\n",
      "    \"tenantId\": \"f958e84a-92b8-439f-a62d-4f45996b6d07\",\n",
      "    \"type\": \"SystemAssigned\",\n",
      "    \"userAssignedIdentities\": null\n",
      "  },\n",
      "  \"identityProfile\": {\n",
      "    \"kubeletidentity\": {\n",
      "      \"clientId\": \"60445b95-de88-486a-8266-713d6487ee91\",\n",
      "      \"objectId\": \"01050cb7-32ba-48bd-9bf0-f22184d181c9\",\n",
      "      \"resourceId\": \"/subscriptions/9ed10bd5-8420-4fdf-b87f-621a5ee7dd47/resourcegroups/MC_azure-dev-udacity-prj2_neighborlycongdinh2023_southeastasia/providers/Microsoft.ManagedIdentity/userAssignedIdentities/neighborlycongdinh2023-agentpool\"\n",
      "    }\n",
      "  },\n",
      "  \"kubernetesVersion\": \"1.24.10\",\n",
      "  \"linuxProfile\": {\n",
      "    \"adminUsername\": \"azureuser\",\n",
      "    \"ssh\": {\n",
      "      \"publicKeys\": [\n",
      "        {\n",
      "          \"keyData\": \"ssh-rsa AAAAB3NzaC1yc2EAAAADAQABAAABAQDDeW02syc+/a1kY0a4Wu3cPLpXgXepWObpacXV83oeMF8l3wJYuDzElRbbTEf14ZcrVGWKTDZMD9oB4IClp3cq2P/h8FDj4fP/vrobk6gDpuOMMMiq1a92/dd/9srBQhqndpQpNYTS66UGovpxafbaiVRDio63/3Hr+A3ZZnhP8bEhBujkARCHcCvESyb7PDTFAJo9aGoh4vv+qyk89MJQJt46OuqO/nuxiVzocFJxp1LuhJoWl7nSTfskfJYl+m5NNHNbMFK2Yna/nPVnebEWrd4lv9mo+1b5sM1sSH0yURGxWuN0ROpIiesHljlt0ZJsswu3P+Zpbfp08qqAQO7l\"\n",
      "        }\n",
      "      ]\n",
      "    }\n",
      "  },\n",
      "  \"location\": \"southeastasia\",\n",
      "  \"maxAgentPools\": 100,\n",
      "  \"name\": \"neighborlycongdinh2023\",\n",
      "  \"networkProfile\": {\n",
      "    \"dnsServiceIp\": \"10.0.0.10\",\n",
      "    \"dockerBridgeCidr\": \"172.17.0.1/16\",\n",
      "    \"ipFamilies\": [\n",
      "      \"IPv4\"\n",
      "    ],\n",
      "    \"loadBalancerProfile\": {\n",
      "      \"allocatedOutboundPorts\": null,\n",
      "      \"effectiveOutboundIPs\": [\n",
      "        {\n",
      "          \"id\": \"/subscriptions/9ed10bd5-8420-4fdf-b87f-621a5ee7dd47/resourceGroups/MC_azure-dev-udacity-prj2_neighborlycongdinh2023_southeastasia/providers/Microsoft.Network/publicIPAddresses/1a5110ce-565c-4478-99c8-533725131a12\",\n",
      "          \"resourceGroup\": \"MC_azure-dev-udacity-prj2_neighborlycongdinh2023_southeastasia\"\n",
      "        }\n",
      "      ],\n",
      "      \"enableMultipleStandardLoadBalancers\": null,\n",
      "      \"idleTimeoutInMinutes\": null,\n",
      "      \"managedOutboundIPs\": {\n",
      "        \"count\": 1,\n",
      "        \"countIpv6\": null\n",
      "      },\n",
      "      \"outboundIPs\": null,\n",
      "      \"outboundIpPrefixes\": null\n",
      "    },\n",
      "    \"loadBalancerSku\": \"Standard\",\n",
      "    \"natGatewayProfile\": null,\n",
      "    \"networkDataplane\": null,\n",
      "    \"networkMode\": null,\n",
      "    \"networkPlugin\": \"kubenet\",\n",
      "    \"networkPluginMode\": null,\n",
      "    \"networkPolicy\": null,\n",
      "    \"outboundType\": \"loadBalancer\",\n",
      "    \"podCidr\": \"10.244.0.0/16\",\n",
      "    \"podCidrs\": [\n",
      "      \"10.244.0.0/16\"\n",
      "    ],\n",
      "    \"serviceCidr\": \"10.0.0.0/16\",\n",
      "    \"serviceCidrs\": [\n",
      "      \"10.0.0.0/16\"\n",
      "    ]\n",
      "  },\n",
      "  \"nodeResourceGroup\": \"MC_azure-dev-udacity-prj2_neighborlycongdinh2023_southeastasia\",\n",
      "  \"oidcIssuerProfile\": {\n",
      "    \"enabled\": false,\n",
      "    \"issuerUrl\": null\n",
      "  },\n",
      "  \"podIdentityProfile\": null,\n",
      "  \"powerState\": {\n",
      "    \"code\": \"Running\"\n",
      "  },\n",
      "  \"privateFqdn\": null,\n",
      "  \"privateLinkResources\": null,\n",
      "  \"provisioningState\": \"Succeeded\",\n",
      "  \"publicNetworkAccess\": null,\n",
      "  \"resourceGroup\": \"azure-dev-udacity-prj2\",\n",
      "  \"securityProfile\": {\n",
      "    \"azureKeyVaultKms\": null,\n",
      "    \"defender\": null,\n",
      "    \"imageCleaner\": null,\n",
      "    \"workloadIdentity\": null\n",
      "  },\n",
      "  \"servicePrincipalProfile\": {\n",
      "    \"clientId\": \"msi\",\n",
      "    \"secret\": null\n",
      "  },\n",
      "  \"sku\": {\n",
      "    \"name\": \"Base\",\n",
      "    \"tier\": \"Free\"\n",
      "  },\n",
      "  \"storageProfile\": {\n",
      "    \"blobCsiDriver\": null,\n",
      "    \"diskCsiDriver\": {\n",
      "      \"enabled\": true\n",
      "    },\n",
      "    \"fileCsiDriver\": {\n",
      "      \"enabled\": true\n",
      "    },\n",
      "    \"snapshotController\": {\n",
      "      \"enabled\": true\n",
      "    }\n",
      "  },\n",
      "  \"systemData\": null,\n",
      "  \"tags\": null,\n",
      "  \"type\": \"Microsoft.ContainerService/ManagedClusters\",\n",
      "  \"windowsProfile\": null,\n",
      "  \"workloadAutoScalerProfile\": {\n",
      "    \"keda\": null\n",
      "  }\n",
      "}\n"
     ]
    }
   ],
   "source": [
    "! az aks create \\\n",
    "    --name $aksCluster \\\n",
    "    --resource-group $resourceGroup \\\n",
    "    --node-count 2 \\\n",
    "    --generate-ssh-keys \\\n",
    "    --attach-acr $containerRegistry \\\n",
    "    --location $location"
   ]
  },
  {
   "attachments": {},
   "cell_type": "markdown",
   "metadata": {},
   "source": [
    "2. Get credentials for your container service"
   ]
  },
  {
   "cell_type": "code",
   "execution_count": 33,
   "metadata": {},
   "outputs": [
    {
     "name": "stdout",
     "output_type": "stream",
     "text": [
      "A different object named neighborlycongdinh2023 already exists in your kubeconfig file.\n",
      "Overwrite? (y/n): ^C\n"
     ]
    }
   ],
   "source": [
    "# Run on terminal\n",
    "! az aks get-credentials \\\n",
    "    -n $aksCluster \\\n",
    "    -g $resourceGroup"
   ]
  },
  {
   "attachments": {},
   "cell_type": "markdown",
   "metadata": {},
   "source": [
    "3. Verify the connection to your cluster and view the cluster nodes using"
   ]
  },
  {
   "cell_type": "code",
   "execution_count": 34,
   "metadata": {},
   "outputs": [
    {
     "name": "stdout",
     "output_type": "stream",
     "text": [
      "NAME                                STATUS   ROLES   AGE     VERSION\n",
      "aks-nodepool1-95021527-vmss000000   Ready    agent   3m20s   v1.24.10\n",
      "aks-nodepool1-95021527-vmss000001   Ready    agent   2m57s   v1.24.10\n"
     ]
    }
   ],
   "source": [
    "! kubectl get nodes\n",
    "#Example output:\n",
    "#NAME                                STATUS   ROLES   AGE     VERSION\n",
    "#aks-nodepool1-38114521-vmss000000   Ready    agent   3m47s   v1.21.9\n",
    "#aks-nodepool1-38114521-vmss000001   Ready    agent   3m45s   v1.21.9"
   ]
  },
  {
   "attachments": {},
   "cell_type": "markdown",
   "metadata": {},
   "source": [
    "4. Deploy the App to Kubernetes"
   ]
  },
  {
   "cell_type": "code",
   "execution_count": 35,
   "metadata": {},
   "outputs": [
    {
     "name": "stdout",
     "output_type": "stream",
     "text": [
      "\u001b[?1h\u001b=\u001b[mnamespace/keda created\u001b[m\u001b[m\n",
      "\u001b[m\u001b[mInstalling KEDA v2 in namespace keda\u001b[m\u001b[m\n",
      "\u001b[m\u001b[mcustomresourcedefinition.apiextensions.k8s.io/clustertriggerauthentications.keda.sh created\u001b[m\u001b[m\n",
      "\u001b[m\u001b[mcustomresourcedefinition.apiextensions.k8s.io/scaledjobs.keda.sh created\u001b[m\u001b[m\n",
      "\u001b[m\u001b[mcustomresourcedefinition.apiextensions.k8s.io/scaledobjects.keda.sh created\u001b[m\u001b[m\n",
      "\u001b[m\u001b[mcustomresourcedefinition.apiextensions.k8s.io/triggerauthentications.keda.sh created\u001b[m\u001b[m\n",
      "\u001b[m\u001b[mserviceaccount/keda-operator created\u001b[m\u001b[m\n",
      "\u001b[m\u001b[mclusterrole.rbac.authorization.k8s.io/keda-external-metrics-reader created\u001b[m\u001b[m\n",
      "\u001b[m\u001b[mclusterrole.rbac.authorization.k8s.io/keda-operator created\u001b[m\u001b[m\n",
      "\u001b[m\u001b[mrolebinding.rbac.authorization.k8s.io/keda-auth-reader created\u001b[m\u001b[m\n",
      "\u001b[m\u001b[mclusterrolebinding.rbac.authorization.k8s.io/keda-hpa-controller-external-metrics created\u001b[m\u001b[m\n",
      "\u001b[m\u001b[mclusterrolebinding.rbac.authorization.k8s.io/keda-operator created\u001b[m\u001b[m\n",
      "\u001b[m\u001b[mclusterrolebinding.rbac.authorization.k8s.io/keda-system-auth-delegator created\u001b[m\u001b[m\n",
      "\u001b[m\u001b[mservice/keda-metrics-apiserver created\u001b[m\u001b[m\n",
      "\u001b[m\u001b[mdeployment.apps/keda-metrics-apiserver created\u001b[m\u001b[m\n",
      "\u001b[m\u001b[mdeployment.apps/keda-operator created\u001b[m\u001b[m\n",
      "\u001b[m\u001b[mapiservice.apiregistration.k8s.io/v1beta1.external.metrics.k8s.io created\u001b[m\u001b[m\n",
      "\u001b[m\u001b[mKEDA v2 is installed in namespace keda\u001b[m\u001b[m\n",
      "\u001b[m"
     ]
    }
   ],
   "source": [
    "! func kubernetes install --namespace keda"
   ]
  },
  {
   "cell_type": "code",
   "execution_count": 39,
   "metadata": {},
   "outputs": [
    {
     "name": "stdout",
     "output_type": "stream",
     "text": [
      "\u001b[?1h\u001b=\u001b[mError parsing name. The name used for the deployment and other artifacts in kubernetes\u001b[m\u001b[m\n",
      "\u001b[m"
     ]
    }
   ],
   "source": [
    "# Run on terminal\n",
    "! func kubernetes deploy \\\n",
    "    --name $functionName \\\n",
    "    --registry $containerRegistry.azurecr.io"
   ]
  },
  {
   "cell_type": "code",
   "execution_count": null,
   "metadata": {},
   "outputs": [],
   "source": [
    "# Run on terminal\n",
    "! kubectl apply -f ./deploy.yml"
   ]
  },
  {
   "cell_type": "code",
   "execution_count": 40,
   "metadata": {},
   "outputs": [
    {
     "name": "stdout",
     "output_type": "stream",
     "text": [
      "CURRENT   NAME                     CLUSTER                  AUTHINFO                                                    NAMESPACE\n",
      "*         neighborlycongdinh2023   neighborlycongdinh2023   clusterUser_azure-dev-udacity-prj2_neighborlycongdinh2023   \n"
     ]
    }
   ],
   "source": [
    "! kubectl config get-contexts"
   ]
  },
  {
   "attachments": {},
   "cell_type": "markdown",
   "metadata": {},
   "source": [
    "## 6. Delete Resources"
   ]
  },
  {
   "cell_type": "code",
   "execution_count": null,
   "metadata": {},
   "outputs": [],
   "source": [
    "! az group delete -n $resourceGroup --verbose"
   ]
  }
 ],
 "metadata": {
  "kernelspec": {
   "display_name": "azure",
   "language": "python",
   "name": "python3"
  },
  "language_info": {
   "codemirror_mode": {
    "name": "ipython",
    "version": 3
   },
   "file_extension": ".py",
   "mimetype": "text/x-python",
   "name": "python",
   "nbconvert_exporter": "python",
   "pygments_lexer": "ipython3",
   "version": "3.9.6"
  },
  "orig_nbformat": 4
 },
 "nbformat": 4,
 "nbformat_minor": 2
}
