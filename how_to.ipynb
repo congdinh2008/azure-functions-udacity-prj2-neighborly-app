{
 "cells": [
  {
   "attachments": {},
   "cell_type": "markdown",
   "metadata": {},
   "source": [
    "# Neighborly Functions App - Cloud Developer With MS Azure - Udacity Project II"
   ]
  },
  {
   "attachments": {},
   "cell_type": "markdown",
   "metadata": {},
   "source": [
    "## 1. Add configuration"
   ]
  },
  {
   "cell_type": "code",
   "execution_count": null,
   "metadata": {},
   "outputs": [],
   "source": [
    "import configparser"
   ]
  },
  {
   "cell_type": "code",
   "execution_count": null,
   "metadata": {},
   "outputs": [],
   "source": [
    "config = configparser.ConfigParser()\n",
    "config.read_file(open('azure.cfg'))\n",
    "\n",
    "RESOURCE_GROUP              = config.get('RESOURCE','RESOURCE_GROUP')\n",
    "LOCATION                    = config.get('RESOURCE','LOCATION')\n",
    "SQL_SERVER                  = config.get(\"SQL\",\"SQL_SERVER\")\n",
    "SQL_DATABASE                = config.get(\"SQL\",\"SQL_DATABASE\")\n",
    "SQL_ADMIN_USER              = config.get(\"SQL\",\"SQL_ADMIN_USER\")\n",
    "SQL_ADMIN_PASSWORD          = config.get(\"SQL\",\"SQL_ADMIN_PASSWORD\")\n",
    "SQL_SKU                     = config.get(\"SQL\",\"SQL_SKU\")\n",
    "SQL_EDITION                 = config.get(\"SQL\",\"SQL_EDITION\")\n",
    "STORAGE_ACCOUNT_NAME        = config.get(\"STORAGE\",\"STORAGE_ACCOUNT_NAME\")\n",
    "STORAGE_CONTAINER_NAME      = config.get(\"STORAGE\",\"STORAGE_CONTAINER_NAME\")\n",
    "STORAGE_SKU                 = config.get(\"STORAGE\",\"STORAGE_SKU\")\n",
    "STORAGE_KIND                = config.get(\"STORAGE\",\"STORAGE_KIND\")\n",
    "APP_NAME                    = config.get(\"APP\",\"APP_NAME\")\n",
    "APP_SERVICE_PLAN_NAME       = config.get(\"APP\",\"APP_SERVICE_PLAN_NAME\")\n",
    "APP_SKU                     = config.get(\"APP\",\"APP_SKU\")\n",
    "APP_RUNTIME                 = config.get(\"APP\",\"APP_RUNTIME\")\n",
    "AAD_APP_NAME                = config.get(\"AAD\",\"AAD_APP_NAME\")\n",
    "REDIRECT_URL                = config.get(\"AAD\",\"REDIRECT_URL\")\n",
    "PUBLIC_IP_ADDRESS           = config.get(\"IP\",\"PUBLIC_IP_ADDRESS\")"
   ]
  },
  {
   "cell_type": "code",
   "execution_count": null,
   "metadata": {},
   "outputs": [],
   "source": [
    "import os\n",
    "os.environ[\"RESOURCE_GROUP\"]            = RESOURCE_GROUP\n",
    "os.environ[\"LOCATION\"]                  = LOCATION\n",
    "os.environ[\"SQL_SERVER\"]                = SQL_SERVER\n",
    "os.environ[\"SQL_DATABASE\"]              = SQL_DATABASE\n",
    "os.environ[\"SQL_ADMIN_USER\"]            = SQL_ADMIN_USER\n",
    "os.environ[\"SQL_ADMIN_PASSWORD\"]        = SQL_ADMIN_PASSWORD\n",
    "os.environ[\"SQL_SKU\"]                   = SQL_SKU\n",
    "os.environ[\"SQL_EDITION\"]               = SQL_EDITION\n",
    "os.environ[\"STORAGE_ACCOUNT_NAME\"]      = STORAGE_ACCOUNT_NAME\n",
    "os.environ[\"STORAGE_CONTAINER_NAME\"]    = STORAGE_CONTAINER_NAME\n",
    "os.environ[\"STORAGE_SKU\"]               = STORAGE_SKU\n",
    "os.environ[\"STORAGE_KIND\"]              = STORAGE_KIND\n",
    "os.environ[\"APP_NAME\"]                  = APP_NAME\n",
    "os.environ[\"APP_SERVICE_PLAN_NAME\"]     = APP_SERVICE_PLAN_NAME\n",
    "os.environ[\"APP_SKU\"]                   = APP_SKU\n",
    "os.environ[\"APP_RUNTIME\"]               = APP_RUNTIME\n",
    "os.environ[\"AAD_APP_NAME\"]              = AAD_APP_NAME\n",
    "os.environ[\"REDIRECT_URL\"]              = REDIRECT_URL\n",
    "os.environ[\"PUBLIC_IP_ADDRESS\"]         = PUBLIC_IP_ADDRESS"
   ]
  },
  {
   "attachments": {},
   "cell_type": "markdown",
   "metadata": {},
   "source": [
    "## 2. Create Resources"
   ]
  },
  {
   "attachments": {},
   "cell_type": "markdown",
   "metadata": {},
   "source": [
    "### 2.1. Login Azure CLI"
   ]
  },
  {
   "cell_type": "code",
   "execution_count": null,
   "metadata": {},
   "outputs": [],
   "source": [
    "! az login"
   ]
  },
  {
   "attachments": {},
   "cell_type": "markdown",
   "metadata": {},
   "source": [
    "### 2.2. Create Resource Group"
   ]
  },
  {
   "cell_type": "code",
   "execution_count": null,
   "metadata": {},
   "outputs": [],
   "source": [
    "! az group create \\\n",
    "    --name {RESOURCE_GROUP} \\\n",
    "    --location {LOCATION}"
   ]
  },
  {
   "attachments": {},
   "cell_type": "markdown",
   "metadata": {},
   "source": [
    "### 2.3. Create Function App"
   ]
  },
  {
   "cell_type": "code",
   "execution_count": null,
   "metadata": {},
   "outputs": [],
   "source": []
  },
  {
   "attachments": {},
   "cell_type": "markdown",
   "metadata": {},
   "source": [
    "### 2.4. Create a CosmosDB manage MongoDB instance"
   ]
  },
  {
   "attachments": {},
   "cell_type": "markdown",
   "metadata": {},
   "source": [
    "### 2.4.1. Create CosmosDB"
   ]
  },
  {
   "cell_type": "code",
   "execution_count": null,
   "metadata": {},
   "outputs": [],
   "source": []
  },
  {
   "attachments": {},
   "cell_type": "markdown",
   "metadata": {},
   "source": [
    "### 2.4.2. Get CosmosDB Connection String"
   ]
  },
  {
   "cell_type": "code",
   "execution_count": null,
   "metadata": {},
   "outputs": [],
   "source": []
  },
  {
   "attachments": {},
   "cell_type": "markdown",
   "metadata": {},
   "source": [
    "## 5. Delete Resources"
   ]
  },
  {
   "attachments": {},
   "cell_type": "markdown",
   "metadata": {},
   "source": [
    "### 5.1. Delete group - delete all resources belong to this group"
   ]
  },
  {
   "cell_type": "code",
   "execution_count": null,
   "metadata": {},
   "outputs": [],
   "source": [
    "! az group delete -n {RESOURCE_GROUP}"
   ]
  },
  {
   "attachments": {},
   "cell_type": "markdown",
   "metadata": {},
   "source": [
    "### 5.2. Delete each resources"
   ]
  },
  {
   "attachments": {},
   "cell_type": "markdown",
   "metadata": {},
   "source": [
    "1. Delete CosmosDB"
   ]
  },
  {
   "cell_type": "code",
   "execution_count": null,
   "metadata": {},
   "outputs": [],
   "source": []
  },
  {
   "attachments": {},
   "cell_type": "markdown",
   "metadata": {},
   "source": [
    "2. Delete Function App"
   ]
  },
  {
   "cell_type": "code",
   "execution_count": null,
   "metadata": {},
   "outputs": [],
   "source": []
  }
 ],
 "metadata": {
  "language_info": {
   "name": "python"
  },
  "orig_nbformat": 4
 },
 "nbformat": 4,
 "nbformat_minor": 2
}
