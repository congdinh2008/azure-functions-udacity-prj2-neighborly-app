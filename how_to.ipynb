{
 "cells": [
  {
   "attachments": {},
   "cell_type": "markdown",
   "metadata": {},
   "source": [
    "# Neighborly Functions App - Cloud Developer With MS Azure - Udacity Project II"
   ]
  },
  {
   "attachments": {},
   "cell_type": "markdown",
   "metadata": {},
   "source": [
    "## 1. Add configuration"
   ]
  },
  {
   "cell_type": "code",
   "execution_count": null,
   "metadata": {},
   "outputs": [],
   "source": [
    "%run variables.sh"
   ]
  },
  {
   "attachments": {},
   "cell_type": "markdown",
   "metadata": {},
   "source": [
    "## 2. Create Resources"
   ]
  },
  {
   "attachments": {},
   "cell_type": "markdown",
   "metadata": {},
   "source": [
    "### 2.1. Login Azure CLI"
   ]
  },
  {
   "cell_type": "code",
   "execution_count": null,
   "metadata": {},
   "outputs": [],
   "source": [
    "! az login"
   ]
  },
  {
   "attachments": {},
   "cell_type": "markdown",
   "metadata": {},
   "source": [
    "### 2.2. Create Resource Group"
   ]
  },
  {
   "cell_type": "code",
   "execution_count": null,
   "metadata": {},
   "outputs": [],
   "source": [
    "! az group create \\\n",
    "    --name $resourceGroup \\\n",
    "    --location $location"
   ]
  },
  {
   "attachments": {},
   "cell_type": "markdown",
   "metadata": {},
   "source": [
    "### 2.3. Create Storage Account"
   ]
  },
  {
   "cell_type": "code",
   "execution_count": null,
   "metadata": {},
   "outputs": [],
   "source": [
    "! az storage account create \\\n",
    "    --name $storageAccountName \\\n",
    "    --resource-group $resourceGroup \\\n",
    "    --location $location \\\n",
    "    --sku $storageSku"
   ]
  },
  {
   "attachments": {},
   "cell_type": "markdown",
   "metadata": {},
   "source": [
    "### 2.4. Create Function App"
   ]
  },
  {
   "cell_type": "code",
   "execution_count": null,
   "metadata": {},
   "outputs": [],
   "source": [
    "! az functionapp create \\\n",
    "    --name $functionName  \\\n",
    "    --storage-account $storageAccountName \\\n",
    "    --consumption-plan-location $location \\\n",
    "    --resource-group $resourceGroup \\\n",
    "    --functions-version $functionVersion \\\n",
    "    --os-type $functionOsType \\\n",
    "    --runtime $functionRuntime"
   ]
  },
  {
   "attachments": {},
   "cell_type": "markdown",
   "metadata": {},
   "source": [
    "### 2.5. Create a CosmosDB manage MongoDB instance"
   ]
  },
  {
   "attachments": {},
   "cell_type": "markdown",
   "metadata": {},
   "source": [
    "#### 2.5.1. Create CosmosDB"
   ]
  },
  {
   "cell_type": "code",
   "execution_count": null,
   "metadata": {},
   "outputs": [],
   "source": [
    "! az cosmosdb create \\\n",
    "    -n $cosmosdbAccountName \\\n",
    "    -g $resourceGroup \\\n",
    "    --kind $cosmosdbKind \\\n",
    "    --server-version $cosmosdbServerSersion \\\n",
    "    --default-consistency-level $cosmosdbDefaultConsistencyLevel \\\n",
    "    --enable-automatic-failover $cosmosdbEnableAutomaticFailover"
   ]
  },
  {
   "attachments": {},
   "cell_type": "markdown",
   "metadata": {},
   "source": [
    "#### 2.5.2. Get CosmosDB Connection String"
   ]
  },
  {
   "cell_type": "code",
   "execution_count": null,
   "metadata": {},
   "outputs": [],
   "source": [
    "! az cosmosdb list-connection-strings --name $cosmosdbAccountName --resource-group $resourceGroup"
   ]
  },
  {
   "cell_type": "code",
   "execution_count": null,
   "metadata": {},
   "outputs": [],
   "source": [
    "! az cosmosdb keys list \\\n",
    "    --type connection-strings \\\n",
    "    --name $cosmosdbAccountName \\\n",
    "    --resource-group $resourceGroup \\\n",
    "    --query \"connectionStrings[0].connectionString\" \\\n",
    "    --output tsv"
   ]
  },
  {
   "attachments": {},
   "cell_type": "markdown",
   "metadata": {},
   "source": [
    "1. Get the above connection string.\n",
    "2. Append it to the variables.sh file.\n",
    "3. Re-run the following script to update variables"
   ]
  },
  {
   "cell_type": "code",
   "execution_count": null,
   "metadata": {},
   "outputs": [],
   "source": [
    "%run variables.sh"
   ]
  },
  {
   "attachments": {},
   "cell_type": "markdown",
   "metadata": {},
   "source": [
    "#### 2.5.3. Create MongoDB Collections"
   ]
  },
  {
   "cell_type": "code",
   "execution_count": null,
   "metadata": {},
   "outputs": [],
   "source": [
    "! printf '[{\"key\": {\"keys\": [\"_id\"]}}]' > idxpolicy-congdinh2023.json"
   ]
  },
  {
   "attachments": {},
   "cell_type": "markdown",
   "metadata": {},
   "source": [
    "1. Create advertisements collection"
   ]
  },
  {
   "cell_type": "code",
   "execution_count": null,
   "metadata": {},
   "outputs": [],
   "source": [
    "! az cosmosdb mongodb collection create \\\n",
    "    -a $cosmosdbAccountName \\\n",
    "    -g $resourceGroup \\\n",
    "    -d $cosmosdbDatabaseName \\\n",
    "    -n advertisements \\\n",
    "    --shard _id \\\n",
    "    --throughput 400 \\\n",
    "    --idx @idxpolicy-congdinh2023.json"
   ]
  },
  {
   "attachments": {},
   "cell_type": "markdown",
   "metadata": {},
   "source": [
    "2. Create posts collection"
   ]
  },
  {
   "cell_type": "code",
   "execution_count": null,
   "metadata": {},
   "outputs": [],
   "source": [
    "! az cosmosdb mongodb collection create \\\n",
    "    -a $cosmosdbAccountName \\\n",
    "    -g $resourceGroup \\\n",
    "    -d $cosmosdbDatabaseName \\\n",
    "    -n posts \\\n",
    "    --shard _id \\\n",
    "    --throughput 400 \\\n",
    "    --idx @idxpolicy-congdinh2023.json"
   ]
  },
  {
   "attachments": {},
   "cell_type": "markdown",
   "metadata": {},
   "source": [
    "3. If you want to delete a collection, use:"
   ]
  },
  {
   "cell_type": "code",
   "execution_count": null,
   "metadata": {},
   "outputs": [],
   "source": [
    "! az cosmosdb mongodb collection delete \\\n",
    "    -a $cosmosdbAccountName \\\n",
    "    -d $cosmosdbDatabaseName \\\n",
    "    -n posts \\\n",
    "    -g azure-dev-udacity-prj2 \\\n",
    "    --yes"
   ]
  },
  {
   "cell_type": "code",
   "execution_count": null,
   "metadata": {},
   "outputs": [],
   "source": [
    "! az cosmosdb mongodb collection delete \\\n",
    "    -a $cosmosdbAccountName \\\n",
    "    -d $cosmosdbDatabaseName \\\n",
    "    -n advertisements \\\n",
    "    -g azure-dev-udacity-prj2 \\\n",
    "    --yes"
   ]
  },
  {
   "attachments": {},
   "cell_type": "markdown",
   "metadata": {},
   "source": [
    "4. View the collection"
   ]
  },
  {
   "cell_type": "code",
   "execution_count": null,
   "metadata": {},
   "outputs": [],
   "source": [
    "! az cosmosdb mongodb collection list \\\n",
    "    -a $cosmosdbAccountName \\\n",
    "    -g $resourceGroup \\\n",
    "\t-d $cosmosdbDatabaseName"
   ]
  },
  {
   "attachments": {},
   "cell_type": "markdown",
   "metadata": {},
   "source": [
    "#### 2.5.4. Add data to collection"
   ]
  },
  {
   "attachments": {},
   "cell_type": "markdown",
   "metadata": {},
   "source": [
    "1. Add data to Advertisements Collection - Connection String from 2.5.2"
   ]
  },
  {
   "cell_type": "code",
   "execution_count": null,
   "metadata": {},
   "outputs": [],
   "source": [
    "# Rerun to get new connectionString after inserting\n",
    "%run variables.sh"
   ]
  },
  {
   "cell_type": "code",
   "execution_count": null,
   "metadata": {},
   "outputs": [],
   "source": [
    "! mongoimport \\\n",
    "    --uri=$connectionString \\\n",
    "    --db=$cosmosdbDatabaseName \\\n",
    "    --collection=advertisements \\\n",
    "    --file='./sample_data/sampleAds.json' \\\n",
    "    --jsonArray"
   ]
  },
  {
   "attachments": {},
   "cell_type": "markdown",
   "metadata": {},
   "source": [
    "2. Add data to Posts Collection - Connection String from 2.5.2"
   ]
  },
  {
   "cell_type": "code",
   "execution_count": null,
   "metadata": {},
   "outputs": [],
   "source": [
    "! mongoimport \\\n",
    "    --uri=$connectionString \\\n",
    "    --db=$cosmosdbDatabaseName \\\n",
    "    --collection=posts \\\n",
    "    --file='./sample_data/samplePosts.json' \\\n",
    "    --jsonArray"
   ]
  },
  {
   "cell_type": "code",
   "execution_count": null,
   "metadata": {},
   "outputs": [],
   "source": [
    "from pymongo import MongoClient"
   ]
  },
  {
   "cell_type": "code",
   "execution_count": null,
   "metadata": {},
   "outputs": [],
   "source": [
    "# Create a MongoDB client\n",
    "client = MongoClient($connectionString)\n",
    "\n",
    "# Access the database and collection\n",
    "db = client[f\"neighborlydb\"]"
   ]
  },
  {
   "cell_type": "code",
   "execution_count": null,
   "metadata": {},
   "outputs": [],
   "source": [
    "advertisements = db[\"advertisements\"]\n",
    "\n",
    "result = advertisements.find({})\n",
    "\n",
    "# Print out the query result\n",
    "for doc in result:\n",
    "    print(doc)\n"
   ]
  },
  {
   "cell_type": "code",
   "execution_count": null,
   "metadata": {},
   "outputs": [],
   "source": [
    "posts = db[\"posts\"]\n",
    "\n",
    "result = posts.find({})\n",
    "\n",
    "# Print out the query result\n",
    "for doc in result:\n",
    "    print(doc)\n"
   ]
  },
  {
   "attachments": {},
   "cell_type": "markdown",
   "metadata": {},
   "source": [
    "### 2.6. Create App Service for Front-End"
   ]
  },
  {
   "attachments": {},
   "cell_type": "markdown",
   "metadata": {},
   "source": [
    "1. List Runtime Environment"
   ]
  },
  {
   "cell_type": "code",
   "execution_count": null,
   "metadata": {},
   "outputs": [],
   "source": [
    "! az webapp list-runtimes"
   ]
  },
  {
   "attachments": {},
   "cell_type": "markdown",
   "metadata": {},
   "source": [
    "2. Create App Service Plan"
   ]
  },
  {
   "cell_type": "code",
   "execution_count": null,
   "metadata": {},
   "outputs": [],
   "source": [
    "! az appservice plan create \\\n",
    "    -n $appServicePlanName \\\n",
    "    -g $resourceGroup \\\n",
    "    -l $location \\\n",
    "    --sku $appSku \\\n",
    "    --is-linux"
   ]
  },
  {
   "attachments": {},
   "cell_type": "markdown",
   "metadata": {},
   "source": [
    "3. Create App Service"
   ]
  },
  {
   "cell_type": "code",
   "execution_count": null,
   "metadata": {},
   "outputs": [],
   "source": [
    "! az webapp create \\\n",
    "    -n $appName \\\n",
    "    -g $resourceGroup \\\n",
    "    --plan $appServicePlanName \\\n",
    "    --runtime $appRuntime"
   ]
  },
  {
   "attachments": {},
   "cell_type": "markdown",
   "metadata": {},
   "source": [
    "## 3. Connect Function with CosmosDB"
   ]
  },
  {
   "attachments": {},
   "cell_type": "markdown",
   "metadata": {},
   "source": [
    "1. Verify the resources"
   ]
  },
  {
   "cell_type": "code",
   "execution_count": null,
   "metadata": {},
   "outputs": [],
   "source": [
    "! az functionapp list  -g $resourceGroup"
   ]
  },
  {
   "attachments": {},
   "cell_type": "markdown",
   "metadata": {},
   "source": [
    "2. Connect"
   ]
  },
  {
   "cell_type": "code",
   "execution_count": null,
   "metadata": {},
   "outputs": [],
   "source": [
    "! az functionapp config appsettings set \\\n",
    "  -n $functionName \\\n",
    "  -g $resourceGroup \\\n",
    "  --setting MyDbConnection=\"mongodb://neighborly-cosmosdb:7ZHd0B7QDvWXKK6WyjsSRh8n7a3A90og3WqdrklKOjb2XPTH1bEQcRKKCgzNLnf3IZDfUi0PHJXjACDbFmj7tA==@neighborly-cosmosdb.mongo.cosmos.azure.com:10255/?ssl=true&replicaSet=globaldb&retrywrites=false&maxIdleTimeMS=120000&appName=@neighborly-cosmosdb@\""
   ]
  },
  {
   "attachments": {},
   "cell_type": "markdown",
   "metadata": {},
   "source": [
    "## 4. Deploy Functions"
   ]
  },
  {
   "attachments": {},
   "cell_type": "markdown",
   "metadata": {},
   "source": [
    "1. Test Functions at Local"
   ]
  },
  {
   "cell_type": "code",
   "execution_count": null,
   "metadata": {},
   "outputs": [],
   "source": [
    "! func start"
   ]
  },
  {
   "attachments": {},
   "cell_type": "markdown",
   "metadata": {},
   "source": [
    "2. Publish functions"
   ]
  },
  {
   "cell_type": "code",
   "execution_count": null,
   "metadata": {},
   "outputs": [],
   "source": [
    "! func azure functionapp publish $functionName"
   ]
  },
  {
   "attachments": {},
   "cell_type": "markdown",
   "metadata": {},
   "source": [
    "## 5 Dockerize Functions and Deploy to AKS"
   ]
  },
  {
   "attachments": {},
   "cell_type": "markdown",
   "metadata": {},
   "source": [
    "### 5.1. Create a Dockerfile"
   ]
  },
  {
   "cell_type": "code",
   "execution_count": null,
   "metadata": {},
   "outputs": [],
   "source": [
    "! func init --docker-only --python"
   ]
  },
  {
   "attachments": {},
   "cell_type": "markdown",
   "metadata": {},
   "source": [
    "### 5.2. Build the image using the Dockerfile"
   ]
  },
  {
   "cell_type": "code",
   "execution_count": null,
   "metadata": {},
   "outputs": [],
   "source": [
    "! docker build -t $imageName:$imageTag ."
   ]
  },
  {
   "cell_type": "code",
   "execution_count": null,
   "metadata": {},
   "outputs": [],
   "source": [
    "! docker run -p 7071:7071 -it $imageName:$imageTag"
   ]
  },
  {
   "attachments": {},
   "cell_type": "markdown",
   "metadata": {},
   "source": [
    "### 5.3. Create a repository in ACR service"
   ]
  },
  {
   "attachments": {},
   "cell_type": "markdown",
   "metadata": {},
   "source": [
    "1. Create Azure container registry"
   ]
  },
  {
   "cell_type": "code",
   "execution_count": null,
   "metadata": {},
   "outputs": [],
   "source": [
    "! az acr create --resource-group $resourceGroup --name $containerRegistry --sku Basic"
   ]
  },
  {
   "attachments": {},
   "cell_type": "markdown",
   "metadata": {},
   "source": [
    "2. Login Azure container registry"
   ]
  },
  {
   "cell_type": "code",
   "execution_count": null,
   "metadata": {},
   "outputs": [],
   "source": [
    "! az acr login --name $containerRegistry"
   ]
  },
  {
   "attachments": {},
   "cell_type": "markdown",
   "metadata": {},
   "source": [
    "3. Show container registry"
   ]
  },
  {
   "cell_type": "code",
   "execution_count": null,
   "metadata": {},
   "outputs": [],
   "source": [
    "# Both these commands will give a same result\n",
    "! az acr show --name $containerRegistry --query loginServer --output table\n",
    "#! az acr list --resource-group $resourceGroup --query \"[].{acrLoginServer:loginServer}\" --output table"
   ]
  },
  {
   "attachments": {},
   "cell_type": "markdown",
   "metadata": {},
   "source": [
    "4. List docker images"
   ]
  },
  {
   "cell_type": "code",
   "execution_count": null,
   "metadata": {},
   "outputs": [],
   "source": [
    "# List the local images\n",
    "! docker images"
   ]
  },
  {
   "attachments": {},
   "cell_type": "markdown",
   "metadata": {},
   "source": [
    "5. Push image to Azure container registry"
   ]
  },
  {
   "cell_type": "code",
   "execution_count": null,
   "metadata": {},
   "outputs": [],
   "source": [
    "# Tag the image with the same name as the ACR respository, else, the push will fail.\n",
    "# SYNTAX \n",
    "# docker tag <name:tag> <ACR-respository>.azurecr.io/<name:tag>\n",
    "! docker tag $imageName:$imageTag $containerRegistry.azurecr.io/$imageName:$imageTag"
   ]
  },
  {
   "attachments": {},
   "cell_type": "markdown",
   "metadata": {},
   "source": [
    "- Enable Admin User in Access Keys"
   ]
  },
  {
   "cell_type": "code",
   "execution_count": null,
   "metadata": {},
   "outputs": [],
   "source": [
    "! az acr update --name $containerRegistry --admin-enabled true"
   ]
  },
  {
   "attachments": {},
   "cell_type": "markdown",
   "metadata": {},
   "source": [
    "- Verify Admin User Status"
   ]
  },
  {
   "cell_type": "code",
   "execution_count": null,
   "metadata": {},
   "outputs": [],
   "source": [
    "! az acr show --name $containerRegistry --query \"adminUserEnabled\""
   ]
  },
  {
   "cell_type": "code",
   "execution_count": null,
   "metadata": {},
   "outputs": [],
   "source": [
    "# Go to Container Registry >> Settings >> Access Keys and enable the Admin user. \n",
    "# Use those credentials to login from your terminal. \n",
    "! docker login $containerRegistry.azurecr.io"
   ]
  },
  {
   "cell_type": "code",
   "execution_count": null,
   "metadata": {},
   "outputs": [],
   "source": [
    "! docker push $containerRegistry.azurecr.io/$imageName:$imageTag"
   ]
  },
  {
   "attachments": {},
   "cell_type": "markdown",
   "metadata": {},
   "source": [
    "6. View Azure container registry image"
   ]
  },
  {
   "cell_type": "code",
   "execution_count": null,
   "metadata": {},
   "outputs": [],
   "source": [
    "# View the newly pushed image in the ACR respository\n",
    "! az acr repository list --name $containerRegistry --output table"
   ]
  },
  {
   "attachments": {},
   "cell_type": "markdown",
   "metadata": {},
   "source": [
    "### 5.3. Create an AKS cluster\n",
    "\n",
    "1. Create an AKS cluster"
   ]
  },
  {
   "cell_type": "code",
   "execution_count": null,
   "metadata": {},
   "outputs": [],
   "source": [
    "! az aks create \\\n",
    "    --name $aksCluster \\\n",
    "    --resource-group $resourceGroup \\\n",
    "    --node-count 2 \\\n",
    "    --generate-ssh-keys \\\n",
    "    --attach-acr $containerRegistry \\\n",
    "    --location $location"
   ]
  },
  {
   "attachments": {},
   "cell_type": "markdown",
   "metadata": {},
   "source": [
    "2. Get credentials for your container service"
   ]
  },
  {
   "cell_type": "code",
   "execution_count": null,
   "metadata": {},
   "outputs": [],
   "source": [
    "# Run on terminal\n",
    "! az aks get-credentials \\\n",
    "    -n $aksCluster \\\n",
    "    -g $resourceGroup"
   ]
  },
  {
   "attachments": {},
   "cell_type": "markdown",
   "metadata": {},
   "source": [
    "3. Verify the connection to your cluster and view the cluster nodes using"
   ]
  },
  {
   "cell_type": "code",
   "execution_count": null,
   "metadata": {},
   "outputs": [],
   "source": [
    "! kubectl get nodes\n",
    "#Example output:\n",
    "#NAME                                STATUS   ROLES   AGE     VERSION\n",
    "#aks-nodepool1-38114521-vmss000000   Ready    agent   3m47s   v1.21.9\n",
    "#aks-nodepool1-38114521-vmss000001   Ready    agent   3m45s   v1.21.9"
   ]
  },
  {
   "attachments": {},
   "cell_type": "markdown",
   "metadata": {},
   "source": [
    "4. Deploy the App to Kubernetes"
   ]
  },
  {
   "cell_type": "code",
   "execution_count": null,
   "metadata": {},
   "outputs": [],
   "source": [
    "! func kubernetes install --namespace keda"
   ]
  },
  {
   "cell_type": "code",
   "execution_count": null,
   "metadata": {},
   "outputs": [],
   "source": [
    "# Run on terminal\n",
    "! func kubernetes deploy \\\n",
    "    --name $functionName \\\n",
    "    --registry $containerRegistry.azurecr.io"
   ]
  },
  {
   "cell_type": "code",
   "execution_count": null,
   "metadata": {},
   "outputs": [],
   "source": [
    "# Run on terminal\n",
    "! kubectl apply -f ./deploy.yml"
   ]
  },
  {
   "cell_type": "code",
   "execution_count": null,
   "metadata": {},
   "outputs": [],
   "source": [
    "! kubectl config get-contexts"
   ]
  },
  {
   "attachments": {},
   "cell_type": "markdown",
   "metadata": {},
   "source": [
    "## 6. Delete Resources"
   ]
  },
  {
   "cell_type": "code",
   "execution_count": null,
   "metadata": {},
   "outputs": [],
   "source": [
    "! az group delete -n $resourceGroup --verbose"
   ]
  }
 ],
 "metadata": {
  "kernelspec": {
   "display_name": "azure",
   "language": "python",
   "name": "python3"
  },
  "language_info": {
   "codemirror_mode": {
    "name": "ipython",
    "version": 3
   },
   "file_extension": ".py",
   "mimetype": "text/x-python",
   "name": "python",
   "nbconvert_exporter": "python",
   "pygments_lexer": "ipython3",
   "version": "3.9.6"
  },
  "orig_nbformat": 4
 },
 "nbformat": 4,
 "nbformat_minor": 2
}
